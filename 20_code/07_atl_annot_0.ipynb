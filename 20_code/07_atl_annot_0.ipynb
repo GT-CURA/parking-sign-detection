{
 "cells": [
  {
   "cell_type": "markdown",
   "metadata": {},
   "source": [
    "# Set up"
   ]
  },
  {
   "cell_type": "code",
   "execution_count": 4,
   "metadata": {},
   "outputs": [],
   "source": [
    "import os\n",
    "import json\n",
    "import yaml\n",
    "import shutil\n",
    "import zipfile\n",
    "import random\n",
    "import pandas as pd\n",
    "import matplotlib.pyplot as plt\n",
    "import seaborn as sns\n",
    "from collections import Counter"
   ]
  },
  {
   "cell_type": "markdown",
   "metadata": {},
   "source": [
    "# Import exported annotations"
   ]
  },
  {
   "cell_type": "markdown",
   "metadata": {},
   "source": [
    "## wd"
   ]
  },
  {
   "cell_type": "code",
   "execution_count": 5,
   "metadata": {},
   "outputs": [
    {
     "data": {
      "text/plain": [
       "'/storage/ice1/2/4/jlee4338/ongoing/park_sign/nyc/code'"
      ]
     },
     "execution_count": 5,
     "metadata": {},
     "output_type": "execute_result"
    }
   ],
   "source": [
    "os.getcwd()"
   ]
  },
  {
   "cell_type": "code",
   "execution_count": 6,
   "metadata": {},
   "outputs": [
    {
     "name": "stdout",
     "output_type": "stream",
     "text": [
      "always_keep_zip.txt\n",
      "cvat_0129\n",
      "cvat_0129_processed.zip\n",
      "cvat_0129_processed_unzipped\n",
      "cvat_0209_trainvaltest\n",
      "cvat_0209_trainvaltest_processed.zip\n",
      "cvat_0209_trainvaltest_processed_unzipped\n",
      "cvat_0209_trainvaltest_processed_unzipped_wonyc\n",
      "data_nc_1.yaml\n",
      "data_nc_7.yaml\n",
      "export_0122_0921\n",
      "export_0122_0921.zip\n",
      "export_0122_0921_processed.zip\n",
      "export_0122_0921_processed_unzipped\n",
      "export_0129_2234\n",
      "export_0129_2234.zip\n",
      "export_0209_1531\n",
      "export_0209_1531.zip\n"
     ]
    }
   ],
   "source": [
    "!ls ../cvat_export"
   ]
  },
  {
   "cell_type": "code",
   "execution_count": 7,
   "metadata": {},
   "outputs": [],
   "source": [
    "#base_dir = \"../../cvat_export/export_0122_0921\"      \n",
    "#base_dir = \"../../cvat_export/export_0129_2234\"                  "
   ]
  },
  {
   "cell_type": "markdown",
   "metadata": {
    "jp-MarkdownHeadingCollapsed": true
   },
   "source": [
    "## unzip each exported dataset"
   ]
  },
  {
   "cell_type": "code",
   "execution_count": 5,
   "metadata": {},
   "outputs": [],
   "source": [
    "base_dir = \"../cvat_export\"    "
   ]
  },
  {
   "cell_type": "code",
   "execution_count": 6,
   "metadata": {},
   "outputs": [],
   "source": [
    "def unzip_exported(name_of_exported):\n",
    "    # unzip\n",
    "    base_dir = \"../cvat_export\"   # important\n",
    "    zip_file_path = os.path.join(base_dir, name_of_exported+\".zip\")\n",
    "    extract_to = os.path.join(base_dir, name_of_exported)\n",
    "    with zipfile.ZipFile(zip_file_path, 'r') as zip_ref:\n",
    "        zip_ref.extractall(extract_to)\n",
    "    print(f\"Files extracted to: {extract_to}\")\n",
    "    \n",
    "    for which_folder in [\"images\", \"labels\"]:\n",
    "        # remove the /train dir\n",
    "        base_dir = \"../cvat_export\"   # important\n",
    "        base_dir = os.path.join(base_dir, name_of_exported)\n",
    "        source_dir = os.path.join(base_dir, f\"{which_folder}/train\") \n",
    "        destination_dir = os.path.join(base_dir, f\"{which_folder}\")\n",
    "\n",
    "        try:\n",
    "            # Ensure the destination directory exists\n",
    "            os.makedirs(destination_dir, exist_ok=True)\n",
    "\n",
    "            # Iterate through all files in the source directory\n",
    "            for filename in os.listdir(source_dir):\n",
    "                source_path = os.path.join(source_dir, filename)\n",
    "                destination_path = os.path.join(destination_dir, filename)\n",
    "\n",
    "                # Move only files (not subdirectories)\n",
    "                if os.path.isfile(source_path):\n",
    "                    shutil.move(source_path, destination_path)\n",
    "                    #print(f\"Moved: {source_path} -> {destination_path}\")\n",
    "\n",
    "            print(\"All files have been moved successfully.\")\n",
    "        except FileNotFoundError:\n",
    "            print(\"The source or destination directory does not exist.\")\n",
    "        except PermissionError:\n",
    "            print(\"Permission denied. Ensure you have the necessary permissions.\")\n",
    "        except Exception as e:\n",
    "            print(f\"An error occurred: {e}\")      \n",
    "\n",
    "        try:\n",
    "            os.rmdir(source_dir)\n",
    "            print(f\"Successfully removed the empty directory: {source_dir}\")\n",
    "        except FileNotFoundError:\n",
    "            print(\"The directory does not exist.\")\n",
    "        except OSError:\n",
    "            print(\"The directory is not empty or cannot be removed.\")\n",
    "        except Exception as e:\n",
    "            print(f\"An error occurred: {e}\")"
   ]
  },
  {
   "cell_type": "code",
   "execution_count": 10,
   "metadata": {},
   "outputs": [
    {
     "name": "stdout",
     "output_type": "stream",
     "text": [
      "Files extracted to: ../cvat_export/export_0122_0921\n",
      "All files have been moved successfully.\n",
      "Successfully removed the empty directory: ../cvat_export/export_0122_0921/images/train\n",
      "All files have been moved successfully.\n",
      "Successfully removed the empty directory: ../cvat_export/export_0122_0921/labels/train\n"
     ]
    }
   ],
   "source": [
    "unzip_exported(\"export_0122_0921\")"
   ]
  },
  {
   "cell_type": "code",
   "execution_count": 11,
   "metadata": {},
   "outputs": [
    {
     "name": "stdout",
     "output_type": "stream",
     "text": [
      "Files extracted to: ../cvat_export/export_0129_2234\n",
      "All files have been moved successfully.\n",
      "Successfully removed the empty directory: ../cvat_export/export_0129_2234/images/train\n",
      "All files have been moved successfully.\n",
      "Successfully removed the empty directory: ../cvat_export/export_0129_2234/labels/train\n"
     ]
    }
   ],
   "source": [
    "unzip_exported(\"export_0129_2234\")"
   ]
  },
  {
   "cell_type": "code",
   "execution_count": 70,
   "metadata": {},
   "outputs": [
    {
     "name": "stdout",
     "output_type": "stream",
     "text": [
      "Files extracted to: ../cvat_export/export_0209_1531\n",
      "All files have been moved successfully.\n",
      "Successfully removed the empty directory: ../cvat_export/export_0209_1531/images/train\n",
      "All files have been moved successfully.\n",
      "Successfully removed the empty directory: ../cvat_export/export_0209_1531/labels/train\n"
     ]
    }
   ],
   "source": [
    "unzip_exported(\"export_0209_1531\")"
   ]
  },
  {
   "cell_type": "markdown",
   "metadata": {},
   "source": [
    "# NYC"
   ]
  },
  {
   "cell_type": "markdown",
   "metadata": {},
   "source": [
    "## export_0122_0921 ([:until_when])"
   ]
  },
  {
   "cell_type": "code",
   "execution_count": 13,
   "metadata": {},
   "outputs": [],
   "source": [
    "base_dir = \"../cvat_export/export_0122_0921\""
   ]
  },
  {
   "cell_type": "code",
   "execution_count": 14,
   "metadata": {},
   "outputs": [
    {
     "name": "stdout",
     "output_type": "stream",
     "text": [
      "length of filenames_img: 4974\n",
      "length of filenames_img: 2700\n"
     ]
    }
   ],
   "source": [
    "until_when = 2700\n",
    "folder_path = os.path.join(base_dir, \"images\")\n",
    "\n",
    "filenames_img = [f for f in os.listdir(folder_path) if os.path.isfile(os.path.join(folder_path, f)) & f.endswith((\".jpg\", \".png\"))]\n",
    "print(f\"length of filenames_img: {len(filenames_img)}\")\n",
    "\n",
    "filenames_img = sorted(filenames_img)\n",
    "filenames_img = filenames_img[:until_when]\n",
    "print(f\"length of filenames_img: {len(filenames_img)}\")"
   ]
  },
  {
   "cell_type": "code",
   "execution_count": 15,
   "metadata": {},
   "outputs": [
    {
     "name": "stdout",
     "output_type": "stream",
     "text": [
      "length of filenames_img: 2700\n",
      "length of filenames_lbl: 3031\n",
      "length of filenames_lbl: 758\n",
      "\n",
      "length of filenames_img: 758\n",
      "\n",
      "['signid_100-mutcd_R7-1-location_40.849854989,-73.89828847-heading_81.499', 'signid_100-mutcd_R7-1-location_40.849914685,-73.898255013-heading_139.414', 'signid_10000-mutcd_R7-51-location_40.712987445,-73.907559555-heading_222.59', 'signid_10000-mutcd_R7-51-location_40.712991965,-73.907642327-heading_147.066', 'signid_10001-mutcd_R7-51-location_40.712980208,-73.907427025-heading_221.412']\n",
      "['signid_100-mutcd_R7-1-location_40.849854989,-73.89828847-heading_81.499', 'signid_100-mutcd_R7-1-location_40.849914685,-73.898255013-heading_139.414', 'signid_10000-mutcd_R7-51-location_40.712987445,-73.907559555-heading_222.59', 'signid_10000-mutcd_R7-51-location_40.712991965,-73.907642327-heading_147.066', 'signid_10001-mutcd_R7-51-location_40.712980208,-73.907427025-heading_221.412']\n",
      "True\n"
     ]
    }
   ],
   "source": [
    "filenames_img = [f.split(\".j\")[0] for f in filenames_img]\n",
    "print(f\"length of filenames_img: {len(filenames_img)}\")\n",
    "\n",
    "folder_path = os.path.join(base_dir, \"labels\")\n",
    "filenames_lbl = [f for f in os.listdir(folder_path) if os.path.isfile(os.path.join(folder_path, f)) & f.endswith(\".txt\")]\n",
    "filenames_lbl = sorted(filenames_lbl)\n",
    "print(f\"length of filenames_lbl: {len(filenames_lbl)}\")\n",
    "\n",
    "filenames_lbl = [f for f in filenames_lbl if f.split(\".t\")[0] in filenames_img]\n",
    "filenames_lbl = [f.split(\".t\")[0] for f in filenames_lbl]\n",
    "print(f\"length of filenames_lbl: {len(filenames_lbl)}\")\n",
    "print()\n",
    "filenames_img = [f for f in filenames_img if f in filenames_lbl]\n",
    "print(f\"length of filenames_img: {len(filenames_img)}\")\n",
    "print()\n",
    "print(filenames_img[0:5])\n",
    "print(filenames_lbl[0:5])\n",
    "print(filenames_img == filenames_lbl)"
   ]
  },
  {
   "cell_type": "markdown",
   "metadata": {},
   "source": [
    "### add 300 images without annotations\n",
    "- only for images, add 300 images without annotations to let the model also learn cases of absence, reducing false positive\n",
    "- generate .txt files accordingly"
   ]
  },
  {
   "cell_type": "code",
   "execution_count": 16,
   "metadata": {
    "scrolled": true
   },
   "outputs": [
    {
     "name": "stdout",
     "output_type": "stream",
     "text": [
      "4974\n",
      "2700\n",
      "1942\n"
     ]
    }
   ],
   "source": [
    "until_when = 2700\n",
    "folder_path = os.path.join(base_dir, \"images\")\n",
    "\n",
    "temp = [f for f in os.listdir(folder_path) if os.path.isfile(os.path.join(folder_path, f)) & f.endswith((\".jpg\", \".png\"))]\n",
    "temp = [f.split(\".j\")[0] for f in temp]\n",
    "print(len(temp))\n",
    "\n",
    "temp = sorted(temp)\n",
    "temp = temp[:until_when]\n",
    "print(len(temp))\n",
    "\n",
    "filenames_img_empty_to_add = [f for f in temp if f not in filenames_img]\n",
    "print(len(filenames_img_empty_to_add))"
   ]
  },
  {
   "cell_type": "code",
   "execution_count": 17,
   "metadata": {},
   "outputs": [
    {
     "name": "stdout",
     "output_type": "stream",
     "text": [
      "['signid_1577-mutcd_R7-20-location_40.784057336,-73.854981445-heading_225.106', 'signid_1839-mutcd_R7-20-location_40.701149888,-73.840068977-heading_272.922', 'signid_2420-mutcd_R7-27-location_40.883150877,-73.883943335-heading_217.956', 'signid_4295-mutcd_R7-40-location_40.60580392,-74.134280255-heading_126.508', 'signid_11773-mutcd_R7-61-location_40.704996409,-73.808723995-heading_203.665']\n"
     ]
    }
   ],
   "source": [
    "filenames_img_empty_to_add = random.sample(filenames_img_empty_to_add, 300)\n",
    "print(filenames_img_empty_to_add[0:5])"
   ]
  },
  {
   "cell_type": "code",
   "execution_count": 18,
   "metadata": {},
   "outputs": [],
   "source": [
    "filenames_img = filenames_img + filenames_img_empty_to_add"
   ]
  },
  {
   "cell_type": "markdown",
   "metadata": {},
   "source": [
    "### add corresponding .txt files"
   ]
  },
  {
   "cell_type": "code",
   "execution_count": 19,
   "metadata": {},
   "outputs": [
    {
     "name": "stdout",
     "output_type": "stream",
     "text": [
      "1058\n",
      "1058\n"
     ]
    }
   ],
   "source": [
    "filenames_lbl = filenames_img\n",
    "print(len(filenames_lbl))\n",
    "print(len(filenames_img))"
   ]
  },
  {
   "cell_type": "code",
   "execution_count": 20,
   "metadata": {},
   "outputs": [],
   "source": [
    "new_txt_files = filenames_img_empty_to_add\n",
    "\n",
    "for f in new_txt_files:\n",
    "    with open(os.path.join(base_dir, \"labels\", f) + \".txt\", \"w\") as file:\n",
    "        pass\n",
    "    #print(f\"Created {os.path.join(base_dir, 'labels', f) + '.txt'}\")"
   ]
  },
  {
   "cell_type": "markdown",
   "metadata": {},
   "source": [
    "### only keep good ones 758 -> 1058"
   ]
  },
  {
   "cell_type": "code",
   "execution_count": 21,
   "metadata": {},
   "outputs": [
    {
     "name": "stdout",
     "output_type": "stream",
     "text": [
      "1058\n",
      "['signid_2536-mutcd_R7-30-location_40.757817717,-73.790853247-heading_339.619.jpg', 'signid_2816-mutcd_R7-40-location_40.877373379,-73.907154302-heading_80.907.jpg', 'signid_1518-mutcd_R7-20-location_40.73677392,-73.741717162-heading_231.57.jpg', 'signid_4473-mutcd_R7-40-location_40.699371053,-73.758372898-heading_221.498.jpg', 'signid_132-mutcd_R7-1-location_40.877985205,-73.885208504-heading_70.532.jpg']\n",
      "1058\n",
      "['signid_2633-mutcd_R7-30-location_40.714815741,-73.77481118-heading_325.551.txt', 'signid_2219-mutcd_R7-20-location_40.641770605,-74.089723674-heading_21.868.txt', 'signid_132-mutcd_R7-1-location_40.877985205,-73.885208504-heading_70.532.txt', 'signid_12131-mutcd_R7-61-location_40.655445968,-73.828435197-heading_196.128.txt', 'signid_2554-mutcd_R7-30-location_40.75780703,-73.782329031-heading_291.032.txt']\n"
     ]
    }
   ],
   "source": [
    "folder_path = os.path.join(base_dir, \"images\")\n",
    "files_to_keep = filenames_img\n",
    "\n",
    "# Iterate through all files in the directory\n",
    "for file_name in os.listdir(folder_path):\n",
    "    file_path = os.path.join(folder_path, file_name)\n",
    "    \n",
    "    # Check if the current file is not in the keep list\n",
    "    if file_name.split(\".j\")[0] not in files_to_keep:\n",
    "        # Delete the file\n",
    "        if os.path.isfile(file_path):  # Ensure it's a file, not a directory\n",
    "            os.remove(file_path)\n",
    "            \n",
    "folder_path = os.path.join(base_dir, \"labels\")\n",
    "files_to_keep = filenames_lbl\n",
    "\n",
    "# Iterate through all files in the directory\n",
    "for file_name in os.listdir(folder_path):\n",
    "    file_path = os.path.join(folder_path, file_name)\n",
    "    \n",
    "    # Check if the current file is not in the keep list\n",
    "    if file_name.split(\".t\")[0] not in files_to_keep:\n",
    "        # Delete the file\n",
    "        if os.path.isfile(file_path):  # Ensure it's a file, not a directory\n",
    "            os.remove(file_path)\n",
    "            \n",
    "# Verify the result\n",
    "folder_path = os.path.join(base_dir, \"images\")\n",
    "filenames = [f for f in os.listdir(folder_path) if os.path.isfile(os.path.join(folder_path, f)) & f.endswith((\".jpg\", \".png\"))]\n",
    "print(len(filenames))\n",
    "print(filenames[0:5])\n",
    "\n",
    "folder_path = os.path.join(base_dir, \"labels\")\n",
    "filenames = [f for f in os.listdir(folder_path) if os.path.isfile(os.path.join(folder_path, f)) & f.endswith((\".txt\"))]\n",
    "print(len(filenames))\n",
    "print(filenames[0:5])"
   ]
  },
  {
   "cell_type": "code",
   "execution_count": 22,
   "metadata": {},
   "outputs": [
    {
     "name": "stdout",
     "output_type": "stream",
     "text": [
      "1058\n",
      "1058\n",
      "True\n"
     ]
    }
   ],
   "source": [
    "folder_path = os.path.join(base_dir, \"images\")\n",
    "filenames_img = [f for f in os.listdir(folder_path) if os.path.isfile(os.path.join(folder_path, f)) & f.endswith((\".jpg\", \".png\"))]\n",
    "print(len(filenames_img))\n",
    "filenames_img = sorted(filenames_img)\n",
    "filenames_img = [f.split(\".j\")[0] for f in filenames_img]\n",
    "\n",
    "folder_path = os.path.join(base_dir, \"labels\")\n",
    "filenames_lbl = [f for f in os.listdir(folder_path) if os.path.isfile(os.path.join(folder_path, f)) & f.endswith((\".txt\"))]\n",
    "print(len(filenames_lbl))\n",
    "filenames_lbl = sorted(filenames_lbl)\n",
    "filenames_lbl = [f.split(\".t\")[0] for f in filenames_lbl]\n",
    "\n",
    "print(filenames_img == filenames_lbl)"
   ]
  },
  {
   "cell_type": "markdown",
   "metadata": {},
   "source": [
    "## export_0129_2234 ([from_when:]"
   ]
  },
  {
   "cell_type": "code",
   "execution_count": 23,
   "metadata": {},
   "outputs": [],
   "source": [
    "base_dir = \"../cvat_export/export_0129_2234\""
   ]
  },
  {
   "cell_type": "code",
   "execution_count": 24,
   "metadata": {},
   "outputs": [
    {
     "name": "stdout",
     "output_type": "stream",
     "text": [
      "length of filenames_img: 4974\n",
      "length of filenames_img: 2266\n"
     ]
    }
   ],
   "source": [
    "from_when = 2708\n",
    "folder_path = os.path.join(base_dir, \"images\")\n",
    "\n",
    "filenames_img = [f for f in os.listdir(folder_path) if os.path.isfile(os.path.join(folder_path, f)) & f.endswith((\".jpg\", \".png\"))]\n",
    "print(f\"length of filenames_img: {len(filenames_img)}\")\n",
    "\n",
    "filenames_img = sorted(filenames_img)\n",
    "filenames_img = filenames_img[from_when:]\n",
    "print(f\"length of filenames_img: {len(filenames_img)}\")"
   ]
  },
  {
   "cell_type": "code",
   "execution_count": 25,
   "metadata": {},
   "outputs": [
    {
     "name": "stdout",
     "output_type": "stream",
     "text": [
      "length of filenames_img: 2266\n",
      "length of filenames_lbl: 2952\n",
      "length of filenames_lbl: 246\n",
      "\n",
      "length of filenames_img: 246\n",
      "\n",
      "['signid_4541-mutcd_R7-40-location_40.596626588,-73.758655926-heading_28.437', 'signid_4547-mutcd_R7-40-location_40.708707419,-73.851802767-heading_318.369', 'signid_4557-mutcd_R7-40-location_40.598142068,-73.744884888-heading_141.532', 'signid_4568-mutcd_R7-40-location_40.630990272,-74.129435441-heading_313.412', 'signid_4577-mutcd_R7-40-location_40.694590582,-73.75073031-heading_218.686']\n",
      "['signid_4541-mutcd_R7-40-location_40.596626588,-73.758655926-heading_28.437', 'signid_4547-mutcd_R7-40-location_40.708707419,-73.851802767-heading_318.369', 'signid_4557-mutcd_R7-40-location_40.598142068,-73.744884888-heading_141.532', 'signid_4568-mutcd_R7-40-location_40.630990272,-74.129435441-heading_313.412', 'signid_4577-mutcd_R7-40-location_40.694590582,-73.75073031-heading_218.686']\n",
      "True\n"
     ]
    }
   ],
   "source": [
    "filenames_img = [f.split(\".j\")[0] for f in filenames_img]\n",
    "print(f\"length of filenames_img: {len(filenames_img)}\")\n",
    "\n",
    "folder_path = os.path.join(base_dir, \"labels\")\n",
    "filenames_lbl = [f for f in os.listdir(folder_path) if os.path.isfile(os.path.join(folder_path, f)) & f.endswith(\".txt\")]\n",
    "filenames_lbl = sorted(filenames_lbl)\n",
    "print(f\"length of filenames_lbl: {len(filenames_lbl)}\")\n",
    "\n",
    "filenames_lbl = [f for f in filenames_lbl if f.split(\".t\")[0] in filenames_img]\n",
    "filenames_lbl = [f.split(\".t\")[0] for f in filenames_lbl]\n",
    "print(f\"length of filenames_lbl: {len(filenames_lbl)}\")\n",
    "print()\n",
    "filenames_img = [f for f in filenames_img if f in filenames_lbl]\n",
    "print(f\"length of filenames_img: {len(filenames_img)}\")\n",
    "print()\n",
    "print(filenames_img[0:5])\n",
    "print(filenames_lbl[0:5])\n",
    "print(filenames_img == filenames_lbl)"
   ]
  },
  {
   "cell_type": "code",
   "execution_count": 26,
   "metadata": {},
   "outputs": [
    {
     "name": "stdout",
     "output_type": "stream",
     "text": [
      "246\n",
      "['signid_8103-mutcd_R7-40-location_40.726247953,-73.943657329-heading_299.218.jpg', 'signid_4660-mutcd_R7-40-location_40.574274153,-74.115248416-heading_178.287.jpg', 'signid_7317-mutcd_R7-40-location_40.579158889,-73.839165807-heading_114.433.jpg', 'signid_9895-mutcd_R7-45-location_40.741399617,-73.863811908-heading_229.389.jpg', 'signid_9425-mutcd_R7-44-location_40.785368298,-73.844487462-heading_301.694.jpg']\n",
      "246\n",
      "['signid_9468-mutcd_R7-44-location_40.703414632,-73.918949865-heading_91.716.txt', 'signid_8626-mutcd_R7-40-location_40.781305354,-73.772015626-heading_105.929.txt', 'signid_9804-mutcd_R7-45-location_40.675864858,-74.00434417-heading_243.305.txt', 'signid_9820-mutcd_R7-45-location_40.723064472,-73.911513893-heading_322.634.txt', 'signid_9877-mutcd_R7-45-location_40.737658842,-73.886479479-heading_62.037.txt']\n"
     ]
    }
   ],
   "source": [
    "folder_path = os.path.join(base_dir, \"images\")\n",
    "files_to_keep = filenames_img\n",
    "\n",
    "# Iterate through all files in the directory\n",
    "for file_name in os.listdir(folder_path):\n",
    "    file_path = os.path.join(folder_path, file_name)\n",
    "    \n",
    "    # Check if the current file is not in the keep list\n",
    "    if file_name.split(\".j\")[0] not in files_to_keep:\n",
    "        # Delete the file\n",
    "        if os.path.isfile(file_path):  # Ensure it's a file, not a directory\n",
    "            os.remove(file_path)\n",
    "            \n",
    "folder_path = os.path.join(base_dir, \"labels\")\n",
    "files_to_keep = filenames_lbl\n",
    "\n",
    "# Iterate through all files in the directory\n",
    "for file_name in os.listdir(folder_path):\n",
    "    file_path = os.path.join(folder_path, file_name)\n",
    "    \n",
    "    # Check if the current file is not in the keep list\n",
    "    if file_name.split(\".t\")[0] not in files_to_keep:\n",
    "        # Delete the file\n",
    "        if os.path.isfile(file_path):  # Ensure it's a file, not a directory\n",
    "            os.remove(file_path)\n",
    "            \n",
    "# Verify the result\n",
    "folder_path = os.path.join(base_dir, \"images\")\n",
    "filenames = [f for f in os.listdir(folder_path) if os.path.isfile(os.path.join(folder_path, f)) & f.endswith((\".jpg\", \".png\"))]\n",
    "print(len(filenames))\n",
    "print(filenames[0:5])\n",
    "\n",
    "folder_path = os.path.join(base_dir, \"labels\")\n",
    "filenames = [f for f in os.listdir(folder_path) if os.path.isfile(os.path.join(folder_path, f)) & f.endswith((\".txt\"))]\n",
    "print(len(filenames))\n",
    "print(filenames[0:5])"
   ]
  },
  {
   "cell_type": "code",
   "execution_count": 27,
   "metadata": {},
   "outputs": [
    {
     "name": "stdout",
     "output_type": "stream",
     "text": [
      "246\n",
      "246\n",
      "True\n"
     ]
    }
   ],
   "source": [
    "folder_path = os.path.join(base_dir, \"images\")\n",
    "filenames_img = [f for f in os.listdir(folder_path) if os.path.isfile(os.path.join(folder_path, f)) & f.endswith((\".jpg\", \".png\"))]\n",
    "print(len(filenames_img))\n",
    "filenames_img = sorted(filenames_img)\n",
    "filenames_img = [f.split(\".j\")[0] for f in filenames_img]\n",
    "\n",
    "folder_path = os.path.join(base_dir, \"labels\")\n",
    "filenames_lbl = [f for f in os.listdir(folder_path) if os.path.isfile(os.path.join(folder_path, f)) & f.endswith((\".txt\"))]\n",
    "print(len(filenames_lbl))\n",
    "filenames_lbl = sorted(filenames_lbl)\n",
    "filenames_lbl = [f.split(\".t\")[0] for f in filenames_lbl]\n",
    "\n",
    "print(filenames_img == filenames_lbl)"
   ]
  },
  {
   "cell_type": "markdown",
   "metadata": {},
   "source": [
    "## trainval: integrate two NYC datasets to cvat_0209_trainvaltest"
   ]
  },
  {
   "cell_type": "code",
   "execution_count": 28,
   "metadata": {},
   "outputs": [],
   "source": [
    "# Define source folders\n",
    "base_dir = \"../cvat_export\"\n",
    "source_folders = [os.path.join(base_dir, \"export_0122_0921\", \"images\"), os.path.join(base_dir, \"export_0129_2234\", \"images\")]\n",
    "# Define destination folder\n",
    "destination_folder = os.path.join(base_dir, \"cvat_0209_trainvaltest\", \"images\", \"trainval\")\n",
    "# Ensure destination exists\n",
    "os.makedirs(destination_folder, exist_ok=True)\n",
    "# Move files from both source folders\n",
    "for folder in source_folders:\n",
    "    for file_name in os.listdir(folder):\n",
    "        source_path = os.path.join(folder, file_name)\n",
    "        destination_path = os.path.join(destination_folder, file_name)\n",
    "        # Move file only if it's not a directory\n",
    "        if os.path.isfile(source_path):\n",
    "            shutil.copy(source_path, destination_path)\n",
    "            \n",
    "source_folders = [os.path.join(base_dir, \"export_0122_0921\", \"labels\"), os.path.join(base_dir, \"export_0129_2234\", \"labels\")]\n",
    "# Define destination folder\n",
    "destination_folder = os.path.join(base_dir, \"cvat_0209_trainvaltest\", \"labels\", \"trainval\")\n",
    "# Ensure destination exists\n",
    "os.makedirs(destination_folder, exist_ok=True)\n",
    "# Move files from both source folders\n",
    "for folder in source_folders:\n",
    "    for file_name in os.listdir(folder):\n",
    "        source_path = os.path.join(folder, file_name)\n",
    "        destination_path = os.path.join(destination_folder, file_name)\n",
    "        # Move file only if it's not a directory\n",
    "        if os.path.isfile(source_path):\n",
    "            shutil.copy(source_path, destination_path)"
   ]
  },
  {
   "cell_type": "markdown",
   "metadata": {},
   "source": [
    "## prepare for NC-5 model"
   ]
  },
  {
   "cell_type": "markdown",
   "metadata": {},
   "source": [
    "### mapping from nc_40 to nc_5"
   ]
  },
  {
   "cell_type": "code",
   "execution_count": 19,
   "metadata": {},
   "outputs": [],
   "source": [
    "# List of all 40 classes\n",
    "classes = [\n",
    "    \"empty-so-disregard\",\n",
    "    \"R7-1\",\n",
    "    \"R7-20\",\n",
    "    \"R7-21\",\n",
    "    \"R7-22\",\n",
    "    \"R7-24\",\n",
    "    \"R7-27\",\n",
    "    \"R7-28\",\n",
    "    \"R7-30\",\n",
    "    \"R7-31\",\n",
    "    \"R7-32\",\n",
    "    \"R7-34\",\n",
    "    \"R7-40\",\n",
    "    \"R7-41\",\n",
    "    \"R7-42\",\n",
    "    \"R7-43\",\n",
    "    \"R7-44\",\n",
    "    \"R7-45\",\n",
    "    \"R7-49\",\n",
    "    \"R7-50\",\n",
    "    \"R7-51\",\n",
    "    \"R7-55\",\n",
    "    \"R7-56\",\n",
    "    \"R7-57\",\n",
    "    \"R7-59\",\n",
    "    \"R7-61\",\n",
    "    \"R7-65\",\n",
    "    \"R7-66\",\n",
    "    \"R7-68\",\n",
    "    \"R7-69\",\n",
    "    \"R7-70\",\n",
    "    \"R7-88\",\n",
    "    \"R7-100\",\n",
    "    \"R7-101\",\n",
    "    \"R7-110\",\n",
    "    \"R7-125\",\n",
    "    \"R7-128\",\n",
    "    \"R7-182\",\n",
    "    \"truck-loading-only\",\n",
    "    \"authorized-vehicle-only\"\n",
    "]"
   ]
  },
  {
   "cell_type": "code",
   "execution_count": 20,
   "metadata": {
    "jupyter": {
     "source_hidden": true
    }
   },
   "outputs": [],
   "source": [
    "# Set of permissive classes\n",
    "prohibAnyT = {\"R7-1\",\n",
    "                \"R7-20\",\n",
    "                \"R7-40\",\n",
    "                'R7-65', # NO PARKING LOADING ZONE \n",
    "                'R7-66', # NO PARKING PASSENGER LOADING ZONE \n",
    "                'R7-68', # NO PARKING ANYTIME CONSTRUCTION \n",
    "                \"R7-110\"} # TOW AWAY ZONE \n",
    "prohibSomeT = {\n",
    "    # HalfDay\n",
    "             \"R7-24\",\n",
    "             \"R7-27\",\n",
    "             \"R7-28\",\n",
    "             \"R7-30\",\n",
    "             \"R7-31\",\n",
    "             \"R7-32\",\n",
    "             \"R7-34\", # NO STANDING 1-7PM EXCEPT SUNDAY\n",
    "            \"R7-49\",\n",
    "            \"R7-50\",\n",
    "            \"R7-51\",\n",
    "            \"R7-55\",\n",
    "            \"R7-56\",\n",
    "            \"R7-57\",\n",
    "            \"R7-59\",  # NO PARKING 7-10AM MON THRU FRI\n",
    "    # FullDay\n",
    "             \"R7-21\",\n",
    "             \"R7-22\",\n",
    "             \"R7-41\", # NO PARKING 8AM-MIDNIGHT EXCEPT SUNDAY\n",
    "             \"R7-42\",\n",
    "             \"R7-43\",\n",
    "             \"R7-44\",\n",
    "             \"R7-45\",\n",
    "             \"R7-69\", # NO PARKING 7AM-6PM MON THRU FRI CONSTRUCTION\n",
    "             \"R7-70\"} # NO PARKING 7AM-4PM SCHOOL DAYS\n",
    "prohibBusStop = {\"R7-61\"}\n",
    "prohibCleaning = {\"R7-88\"}\n",
    "allow = {\"R7-125\", \n",
    "         \"R7-128\",\n",
    "         \"R7-182\", # 2 HOUR PARKING 9AM-7PM EXCEPT SUNDAY\n",
    "         \"R7-100\", # PARALLEL PARKING ONLY \n",
    "         \"R7-101\"  # ANGLE PARKING ONLY \n",
    "        }"
   ]
  },
  {
   "cell_type": "code",
   "execution_count": 21,
   "metadata": {},
   "outputs": [],
   "source": [
    "# Mapping function with refactored logic\n",
    "def map_to_category(class_name):\n",
    "    # Define category mappings\n",
    "    category_mapping = {\n",
    "        \"prohibAnyT\": prohibAnyT,\n",
    "        \"prohibSomeT\": prohibSomeT,\n",
    "        \"prohibBusStop\": prohibBusStop,\n",
    "        \"prohibCleaning\": prohibCleaning,\n",
    "        \"allow\": allow\n",
    "    }\n",
    "\n",
    "    # Check the class_name against each category\n",
    "    for category, class_set in category_mapping.items():\n",
    "        if class_name in class_set:\n",
    "            return category\n",
    "\n",
    "    # Default return if no match is found\n",
    "    return \"unknown\""
   ]
  },
  {
   "cell_type": "code",
   "execution_count": 22,
   "metadata": {
    "scrolled": true
   },
   "outputs": [
    {
     "data": {
      "text/plain": [
       "{'empty-so-disregard': 'unknown',\n",
       " 'R7-1': 'prohibAnyT',\n",
       " 'R7-20': 'prohibAnyT',\n",
       " 'R7-21': 'prohibSomeT',\n",
       " 'R7-22': 'prohibSomeT',\n",
       " 'R7-24': 'prohibSomeT',\n",
       " 'R7-27': 'prohibSomeT',\n",
       " 'R7-28': 'prohibSomeT',\n",
       " 'R7-30': 'prohibSomeT',\n",
       " 'R7-31': 'prohibSomeT',\n",
       " 'R7-32': 'prohibSomeT',\n",
       " 'R7-34': 'prohibSomeT',\n",
       " 'R7-40': 'prohibAnyT',\n",
       " 'R7-41': 'prohibSomeT',\n",
       " 'R7-42': 'prohibSomeT',\n",
       " 'R7-43': 'prohibSomeT',\n",
       " 'R7-44': 'prohibSomeT',\n",
       " 'R7-45': 'prohibSomeT',\n",
       " 'R7-49': 'prohibSomeT',\n",
       " 'R7-50': 'prohibSomeT',\n",
       " 'R7-51': 'prohibSomeT',\n",
       " 'R7-55': 'prohibSomeT',\n",
       " 'R7-56': 'prohibSomeT',\n",
       " 'R7-57': 'prohibSomeT',\n",
       " 'R7-59': 'prohibSomeT',\n",
       " 'R7-61': 'prohibBusStop',\n",
       " 'R7-65': 'prohibAnyT',\n",
       " 'R7-66': 'prohibAnyT',\n",
       " 'R7-68': 'prohibAnyT',\n",
       " 'R7-69': 'prohibSomeT',\n",
       " 'R7-70': 'prohibSomeT',\n",
       " 'R7-88': 'prohibCleaning',\n",
       " 'R7-100': 'allow',\n",
       " 'R7-101': 'allow',\n",
       " 'R7-110': 'prohibAnyT',\n",
       " 'R7-125': 'allow',\n",
       " 'R7-128': 'allow',\n",
       " 'R7-182': 'allow',\n",
       " 'truck-loading-only': 'unknown',\n",
       " 'authorized-vehicle-only': 'unknown'}"
      ]
     },
     "execution_count": 22,
     "metadata": {},
     "output_type": "execute_result"
    }
   ],
   "source": [
    "# Test the mapping function\n",
    "mapped_classes = {cls: map_to_category(cls) for cls in classes}\n",
    "\n",
    "# Print the mapping\n",
    "mapped_classes"
   ]
  },
  {
   "cell_type": "code",
   "execution_count": 23,
   "metadata": {},
   "outputs": [
    {
     "name": "stdout",
     "output_type": "stream",
     "text": [
      "empty-so-disregard\n",
      "unknown\n"
     ]
    }
   ],
   "source": [
    "mapped_classes_keys = list(mapped_classes.keys())\n",
    "#mapped_classes_keys\n",
    "print(mapped_classes_keys[0])\n",
    "print(mapped_classes[mapped_classes_keys[0]])"
   ]
  },
  {
   "cell_type": "markdown",
   "metadata": {},
   "source": [
    "### apply on cvat_0209_trainvaltest"
   ]
  },
  {
   "cell_type": "code",
   "execution_count": 24,
   "metadata": {},
   "outputs": [],
   "source": [
    "base_dir = \"../cvat_export/cvat_0209_trainvaltest\""
   ]
  },
  {
   "cell_type": "code",
   "execution_count": 25,
   "metadata": {},
   "outputs": [
    {
     "data": {
      "text/plain": [
       "'../cvat_export/cvat_0209_trainvaltest/labels/train'"
      ]
     },
     "execution_count": 25,
     "metadata": {},
     "output_type": "execute_result"
    }
   ],
   "source": [
    "label_folder = os.path.join(base_dir, \"labels\", \"train\")  # it should be trainval\n",
    "label_folder"
   ]
  },
  {
   "cell_type": "code",
   "execution_count": 26,
   "metadata": {},
   "outputs": [
    {
     "name": "stdout",
     "output_type": "stream",
     "text": [
      "1346\n",
      "{0, 1, 2, 3, 4}\n"
     ]
    }
   ],
   "source": [
    "distinct_indx = []\n",
    "\n",
    "txt_filenames = [f for f in os.listdir(label_folder) if (f.endswith('.txt') and not f.startswith('._'))]\n",
    "print(len(txt_filenames))\n",
    "txt_filenames[0:5]\n",
    "\n",
    "for name in txt_filenames:\n",
    "    # File path\n",
    "    file_path = os.path.join(label_folder, name) \n",
    "    \n",
    "    # Read, modify, and overwrite the file\n",
    "    with open(file_path, \"r\") as infile:\n",
    "        for line in infile:\n",
    "            parts = line.strip().split()  # Split the line into parts\n",
    "            if parts:  # Ensure the line is not empty\n",
    "                #print(parts[0], end=\",\")\n",
    "                distinct_indx.append(int(parts[0]))\n",
    "                \n",
    "distinct_indx = set(distinct_indx)\n",
    "print(distinct_indx)"
   ]
  },
  {
   "cell_type": "code",
   "execution_count": 28,
   "metadata": {
    "scrolled": true
   },
   "outputs": [
    {
     "name": "stdout",
     "output_type": "stream",
     "text": [
      "discard unknown instances: unknown\n",
      "discard unknown instances: unknown\n",
      "discard unknown instances: unknown\n",
      "discard unknown instances: unknown\n",
      "discard unknown instances: unknown\n",
      "discard unknown instances: unknown\n",
      "discard unknown instances: unknown\n",
      "discard unknown instances: unknown\n",
      "discard unknown instances: unknown\n",
      "discard unknown instances: unknown\n",
      "discard unknown instances: unknown\n",
      "discard unknown instances: unknown\n",
      "discard unknown instances: unknown\n",
      "discard unknown instances: unknown\n",
      "discard unknown instances: unknown\n",
      "discard unknown instances: unknown\n",
      "discard unknown instances: unknown\n",
      "discard unknown instances: unknown\n",
      "discard unknown instances: unknown\n",
      "discard unknown instances: unknown\n",
      "discard unknown instances: unknown\n",
      "discard unknown instances: unknown\n",
      "discard unknown instances: unknown\n",
      "discard unknown instances: unknown\n",
      "discard unknown instances: unknown\n",
      "discard unknown instances: unknown\n",
      "discard unknown instances: unknown\n",
      "discard unknown instances: unknown\n",
      "discard unknown instances: unknown\n",
      "discard unknown instances: unknown\n",
      "discard unknown instances: unknown\n",
      "discard unknown instances: unknown\n",
      "discard unknown instances: unknown\n",
      "discard unknown instances: unknown\n",
      "discard unknown instances: unknown\n",
      "discard unknown instances: unknown\n",
      "discard unknown instances: unknown\n",
      "discard unknown instances: unknown\n",
      "discard unknown instances: unknown\n",
      "discard unknown instances: unknown\n",
      "discard unknown instances: unknown\n",
      "discard unknown instances: unknown\n",
      "discard unknown instances: unknown\n",
      "discard unknown instances: unknown\n",
      "discard unknown instances: unknown\n",
      "discard unknown instances: unknown\n",
      "discard unknown instances: unknown\n",
      "discard unknown instances: unknown\n",
      "discard unknown instances: unknown\n",
      "discard unknown instances: unknown\n",
      "discard unknown instances: unknown\n",
      "discard unknown instances: unknown\n",
      "discard unknown instances: unknown\n",
      "discard unknown instances: unknown\n",
      "discard unknown instances: unknown\n",
      "discard unknown instances: unknown\n",
      "discard unknown instances: unknown\n",
      "discard unknown instances: unknown\n",
      "discard unknown instances: unknown\n",
      "discard unknown instances: unknown\n",
      "discard unknown instances: unknown\n",
      "discard unknown instances: unknown\n",
      "discard unknown instances: unknown\n",
      "discard unknown instances: unknown\n",
      "discard unknown instances: unknown\n",
      "discard unknown instances: unknown\n",
      "discard unknown instances: unknown\n",
      "discard unknown instances: unknown\n",
      "discard unknown instances: unknown\n",
      "discard unknown instances: unknown\n",
      "discard unknown instances: unknown\n",
      "discard unknown instances: unknown\n",
      "discard unknown instances: unknown\n",
      "discard unknown instances: unknown\n",
      "discard unknown instances: unknown\n",
      "discard unknown instances: unknown\n",
      "discard unknown instances: unknown\n",
      "discard unknown instances: unknown\n",
      "discard unknown instances: unknown\n",
      "discard unknown instances: unknown\n",
      "discard unknown instances: unknown\n",
      "discard unknown instances: unknown\n",
      "discard unknown instances: unknown\n",
      "discard unknown instances: unknown\n",
      "discard unknown instances: unknown\n",
      "discard unknown instances: unknown\n",
      "discard unknown instances: unknown\n",
      "discard unknown instances: unknown\n",
      "discard unknown instances: unknown\n",
      "discard unknown instances: unknown\n",
      "discard unknown instances: unknown\n",
      "discard unknown instances: unknown\n",
      "discard unknown instances: unknown\n",
      "discard unknown instances: unknown\n",
      "discard unknown instances: unknown\n",
      "discard unknown instances: unknown\n",
      "discard unknown instances: unknown\n",
      "discard unknown instances: unknown\n",
      "discard unknown instances: unknown\n",
      "discard unknown instances: unknown\n",
      "discard unknown instances: unknown\n",
      "discard unknown instances: unknown\n",
      "discard unknown instances: unknown\n",
      "discard unknown instances: unknown\n",
      "discard unknown instances: unknown\n",
      "discard unknown instances: unknown\n",
      "discard unknown instances: unknown\n",
      "discard unknown instances: unknown\n",
      "discard unknown instances: unknown\n",
      "discard unknown instances: unknown\n",
      "discard unknown instances: unknown\n",
      "discard unknown instances: unknown\n",
      "discard unknown instances: unknown\n",
      "discard unknown instances: unknown\n",
      "discard unknown instances: unknown\n",
      "discard unknown instances: unknown\n",
      "discard unknown instances: unknown\n",
      "discard unknown instances: unknown\n",
      "discard unknown instances: unknown\n",
      "discard unknown instances: unknown\n",
      "discard unknown instances: unknown\n",
      "discard unknown instances: unknown\n",
      "discard unknown instances: unknown\n",
      "discard unknown instances: unknown\n",
      "discard unknown instances: unknown\n",
      "discard unknown instances: unknown\n",
      "discard unknown instances: unknown\n",
      "discard unknown instances: unknown\n",
      "discard unknown instances: unknown\n",
      "discard unknown instances: unknown\n",
      "discard unknown instances: unknown\n",
      "discard unknown instances: unknown\n",
      "discard unknown instances: unknown\n",
      "discard unknown instances: unknown\n",
      "discard unknown instances: unknown\n",
      "discard unknown instances: unknown\n",
      "discard unknown instances: unknown\n",
      "discard unknown instances: unknown\n",
      "discard unknown instances: unknown\n",
      "discard unknown instances: unknown\n",
      "discard unknown instances: unknown\n",
      "discard unknown instances: unknown\n",
      "discard unknown instances: unknown\n",
      "discard unknown instances: unknown\n",
      "discard unknown instances: unknown\n",
      "discard unknown instances: unknown\n",
      "discard unknown instances: unknown\n",
      "discard unknown instances: unknown\n",
      "discard unknown instances: unknown\n",
      "discard unknown instances: unknown\n",
      "discard unknown instances: unknown\n",
      "discard unknown instances: unknown\n",
      "discard unknown instances: unknown\n",
      "discard unknown instances: unknown\n",
      "discard unknown instances: unknown\n",
      "discard unknown instances: unknown\n",
      "discard unknown instances: unknown\n",
      "discard unknown instances: unknown\n",
      "discard unknown instances: unknown\n",
      "discard unknown instances: unknown\n",
      "discard unknown instances: unknown\n",
      "discard unknown instances: unknown\n",
      "discard unknown instances: unknown\n",
      "discard unknown instances: unknown\n",
      "discard unknown instances: unknown\n",
      "discard unknown instances: unknown\n",
      "discard unknown instances: unknown\n",
      "discard unknown instances: unknown\n",
      "discard unknown instances: unknown\n",
      "discard unknown instances: unknown\n",
      "discard unknown instances: unknown\n",
      "discard unknown instances: unknown\n",
      "discard unknown instances: unknown\n",
      "discard unknown instances: unknown\n",
      "discard unknown instances: unknown\n",
      "discard unknown instances: unknown\n",
      "discard unknown instances: unknown\n",
      "discard unknown instances: unknown\n",
      "discard unknown instances: unknown\n",
      "discard unknown instances: unknown\n",
      "discard unknown instances: unknown\n",
      "discard unknown instances: unknown\n",
      "discard unknown instances: unknown\n",
      "discard unknown instances: unknown\n",
      "discard unknown instances: unknown\n",
      "discard unknown instances: unknown\n",
      "discard unknown instances: unknown\n",
      "discard unknown instances: unknown\n",
      "discard unknown instances: unknown\n",
      "discard unknown instances: unknown\n",
      "discard unknown instances: unknown\n",
      "discard unknown instances: unknown\n",
      "discard unknown instances: unknown\n",
      "discard unknown instances: unknown\n",
      "discard unknown instances: unknown\n",
      "discard unknown instances: unknown\n",
      "discard unknown instances: unknown\n",
      "discard unknown instances: unknown\n",
      "discard unknown instances: unknown\n",
      "discard unknown instances: unknown\n",
      "discard unknown instances: unknown\n",
      "discard unknown instances: unknown\n",
      "discard unknown instances: unknown\n",
      "discard unknown instances: unknown\n",
      "discard unknown instances: unknown\n",
      "discard unknown instances: unknown\n",
      "discard unknown instances: unknown\n",
      "discard unknown instances: unknown\n",
      "discard unknown instances: unknown\n",
      "discard unknown instances: unknown\n",
      "discard unknown instances: unknown\n",
      "discard unknown instances: unknown\n",
      "discard unknown instances: unknown\n",
      "discard unknown instances: unknown\n",
      "discard unknown instances: unknown\n",
      "discard unknown instances: unknown\n",
      "discard unknown instances: unknown\n",
      "discard unknown instances: unknown\n",
      "discard unknown instances: unknown\n",
      "discard unknown instances: unknown\n",
      "discard unknown instances: unknown\n",
      "discard unknown instances: unknown\n",
      "discard unknown instances: unknown\n",
      "discard unknown instances: unknown\n",
      "discard unknown instances: unknown\n",
      "discard unknown instances: unknown\n",
      "discard unknown instances: unknown\n",
      "discard unknown instances: unknown\n",
      "discard unknown instances: unknown\n",
      "discard unknown instances: unknown\n",
      "discard unknown instances: unknown\n",
      "discard unknown instances: unknown\n",
      "discard unknown instances: unknown\n",
      "discard unknown instances: unknown\n",
      "discard unknown instances: unknown\n",
      "discard unknown instances: unknown\n",
      "discard unknown instances: unknown\n",
      "discard unknown instances: unknown\n",
      "discard unknown instances: unknown\n",
      "discard unknown instances: unknown\n",
      "discard unknown instances: unknown\n",
      "discard unknown instances: unknown\n",
      "discard unknown instances: unknown\n",
      "discard unknown instances: unknown\n",
      "discard unknown instances: unknown\n",
      "discard unknown instances: unknown\n",
      "discard unknown instances: unknown\n",
      "discard unknown instances: unknown\n",
      "discard unknown instances: unknown\n",
      "discard unknown instances: unknown\n",
      "discard unknown instances: unknown\n",
      "discard unknown instances: unknown\n",
      "discard unknown instances: unknown\n",
      "discard unknown instances: unknown\n",
      "discard unknown instances: unknown\n",
      "discard unknown instances: unknown\n",
      "discard unknown instances: unknown\n",
      "discard unknown instances: unknown\n",
      "discard unknown instances: unknown\n",
      "discard unknown instances: unknown\n",
      "discard unknown instances: unknown\n",
      "discard unknown instances: unknown\n",
      "discard unknown instances: unknown\n",
      "discard unknown instances: unknown\n",
      "discard unknown instances: unknown\n",
      "discard unknown instances: unknown\n",
      "discard unknown instances: unknown\n",
      "discard unknown instances: unknown\n",
      "discard unknown instances: unknown\n",
      "discard unknown instances: unknown\n",
      "discard unknown instances: unknown\n",
      "discard unknown instances: unknown\n",
      "discard unknown instances: unknown\n",
      "discard unknown instances: unknown\n",
      "discard unknown instances: unknown\n",
      "discard unknown instances: unknown\n",
      "discard unknown instances: unknown\n",
      "discard unknown instances: unknown\n",
      "discard unknown instances: unknown\n",
      "discard unknown instances: unknown\n",
      "discard unknown instances: unknown\n",
      "discard unknown instances: unknown\n",
      "discard unknown instances: unknown\n",
      "discard unknown instances: unknown\n",
      "discard unknown instances: unknown\n",
      "discard unknown instances: unknown\n",
      "discard unknown instances: unknown\n",
      "discard unknown instances: unknown\n",
      "discard unknown instances: unknown\n",
      "discard unknown instances: unknown\n",
      "discard unknown instances: unknown\n",
      "discard unknown instances: unknown\n",
      "discard unknown instances: unknown\n",
      "discard unknown instances: unknown\n",
      "discard unknown instances: unknown\n",
      "discard unknown instances: unknown\n",
      "discard unknown instances: unknown\n",
      "discard unknown instances: unknown\n",
      "discard unknown instances: unknown\n",
      "discard unknown instances: unknown\n",
      "discard unknown instances: unknown\n",
      "discard unknown instances: unknown\n",
      "discard unknown instances: unknown\n",
      "discard unknown instances: unknown\n",
      "discard unknown instances: unknown\n",
      "discard unknown instances: unknown\n",
      "discard unknown instances: unknown\n",
      "discard unknown instances: unknown\n",
      "discard unknown instances: unknown\n",
      "discard unknown instances: unknown\n",
      "discard unknown instances: unknown\n",
      "discard unknown instances: unknown\n",
      "discard unknown instances: unknown\n",
      "discard unknown instances: unknown\n",
      "discard unknown instances: unknown\n",
      "discard unknown instances: unknown\n",
      "discard unknown instances: unknown\n",
      "discard unknown instances: unknown\n",
      "discard unknown instances: unknown\n",
      "discard unknown instances: unknown\n",
      "discard unknown instances: unknown\n",
      "discard unknown instances: unknown\n",
      "discard unknown instances: unknown\n",
      "discard unknown instances: unknown\n",
      "discard unknown instances: unknown\n",
      "discard unknown instances: unknown\n",
      "discard unknown instances: unknown\n",
      "discard unknown instances: unknown\n",
      "discard unknown instances: unknown\n",
      "discard unknown instances: unknown\n",
      "discard unknown instances: unknown\n",
      "discard unknown instances: unknown\n",
      "discard unknown instances: unknown\n",
      "discard unknown instances: unknown\n",
      "discard unknown instances: unknown\n",
      "discard unknown instances: unknown\n",
      "discard unknown instances: unknown\n",
      "discard unknown instances: unknown\n",
      "discard unknown instances: unknown\n",
      "discard unknown instances: unknown\n",
      "discard unknown instances: unknown\n",
      "discard unknown instances: unknown\n",
      "discard unknown instances: unknown\n",
      "discard unknown instances: unknown\n",
      "discard unknown instances: unknown\n",
      "discard unknown instances: unknown\n",
      "discard unknown instances: unknown\n",
      "discard unknown instances: unknown\n",
      "discard unknown instances: unknown\n",
      "discard unknown instances: unknown\n",
      "discard unknown instances: unknown\n",
      "discard unknown instances: unknown\n",
      "discard unknown instances: unknown\n",
      "discard unknown instances: unknown\n",
      "discard unknown instances: unknown\n",
      "discard unknown instances: unknown\n",
      "discard unknown instances: unknown\n",
      "discard unknown instances: unknown\n",
      "discard unknown instances: unknown\n",
      "discard unknown instances: unknown\n",
      "discard unknown instances: unknown\n",
      "discard unknown instances: unknown\n",
      "discard unknown instances: unknown\n",
      "discard unknown instances: unknown\n",
      "discard unknown instances: unknown\n",
      "discard unknown instances: unknown\n",
      "discard unknown instances: unknown\n",
      "discard unknown instances: unknown\n",
      "discard unknown instances: unknown\n",
      "discard unknown instances: unknown\n",
      "discard unknown instances: unknown\n",
      "discard unknown instances: unknown\n",
      "discard unknown instances: unknown\n",
      "discard unknown instances: unknown\n",
      "discard unknown instances: unknown\n",
      "discard unknown instances: unknown\n",
      "discard unknown instances: unknown\n",
      "discard unknown instances: unknown\n",
      "discard unknown instances: unknown\n",
      "discard unknown instances: unknown\n",
      "discard unknown instances: unknown\n",
      "discard unknown instances: unknown\n",
      "discard unknown instances: unknown\n",
      "discard unknown instances: unknown\n",
      "discard unknown instances: unknown\n",
      "discard unknown instances: unknown\n",
      "discard unknown instances: unknown\n",
      "discard unknown instances: unknown\n",
      "discard unknown instances: unknown\n",
      "discard unknown instances: unknown\n",
      "discard unknown instances: unknown\n",
      "discard unknown instances: unknown\n",
      "discard unknown instances: unknown\n",
      "discard unknown instances: unknown\n",
      "discard unknown instances: unknown\n",
      "discard unknown instances: unknown\n",
      "discard unknown instances: unknown\n",
      "discard unknown instances: unknown\n",
      "discard unknown instances: unknown\n",
      "discard unknown instances: unknown\n",
      "discard unknown instances: unknown\n",
      "discard unknown instances: unknown\n",
      "discard unknown instances: unknown\n",
      "discard unknown instances: unknown\n",
      "discard unknown instances: unknown\n",
      "discard unknown instances: unknown\n",
      "discard unknown instances: unknown\n",
      "discard unknown instances: unknown\n",
      "discard unknown instances: unknown\n",
      "discard unknown instances: unknown\n",
      "discard unknown instances: unknown\n",
      "discard unknown instances: unknown\n",
      "discard unknown instances: unknown\n",
      "discard unknown instances: unknown\n",
      "discard unknown instances: unknown\n",
      "discard unknown instances: unknown\n",
      "discard unknown instances: unknown\n",
      "discard unknown instances: unknown\n",
      "discard unknown instances: unknown\n",
      "discard unknown instances: unknown\n",
      "discard unknown instances: unknown\n",
      "discard unknown instances: unknown\n",
      "discard unknown instances: unknown\n",
      "discard unknown instances: unknown\n",
      "discard unknown instances: unknown\n",
      "discard unknown instances: unknown\n",
      "discard unknown instances: unknown\n",
      "discard unknown instances: unknown\n",
      "discard unknown instances: unknown\n",
      "discard unknown instances: unknown\n",
      "discard unknown instances: unknown\n",
      "discard unknown instances: unknown\n",
      "discard unknown instances: unknown\n",
      "discard unknown instances: unknown\n",
      "discard unknown instances: unknown\n",
      "discard unknown instances: unknown\n",
      "discard unknown instances: unknown\n",
      "discard unknown instances: unknown\n",
      "discard unknown instances: unknown\n",
      "discard unknown instances: unknown\n",
      "discard unknown instances: unknown\n",
      "discard unknown instances: unknown\n",
      "discard unknown instances: unknown\n",
      "discard unknown instances: unknown\n",
      "discard unknown instances: unknown\n",
      "discard unknown instances: unknown\n",
      "discard unknown instances: unknown\n",
      "discard unknown instances: unknown\n",
      "discard unknown instances: unknown\n",
      "discard unknown instances: unknown\n",
      "discard unknown instances: unknown\n",
      "discard unknown instances: unknown\n",
      "discard unknown instances: unknown\n",
      "discard unknown instances: unknown\n",
      "discard unknown instances: unknown\n",
      "discard unknown instances: unknown\n",
      "discard unknown instances: unknown\n",
      "discard unknown instances: unknown\n",
      "discard unknown instances: unknown\n",
      "discard unknown instances: unknown\n",
      "discard unknown instances: unknown\n",
      "discard unknown instances: unknown\n",
      "discard unknown instances: unknown\n",
      "discard unknown instances: unknown\n",
      "discard unknown instances: unknown\n",
      "discard unknown instances: unknown\n",
      "discard unknown instances: unknown\n",
      "discard unknown instances: unknown\n",
      "discard unknown instances: unknown\n",
      "discard unknown instances: unknown\n",
      "discard unknown instances: unknown\n",
      "discard unknown instances: unknown\n",
      "discard unknown instances: unknown\n",
      "discard unknown instances: unknown\n"
     ]
    }
   ],
   "source": [
    "classes =  {\"prohibAnyT\": 0,\n",
    "            \"prohibSomeT\": 1,\n",
    "            \"prohibBusStop\": 2,\n",
    "            \"prohibCleaning\": 3,\n",
    "            \"allow\": 4}\n",
    "\n",
    "txt_filenames = [f for f in os.listdir(label_folder) if (f.endswith('.txt') and not f.startswith('._'))]\n",
    "\n",
    "for name in txt_filenames:\n",
    "    # File path\n",
    "    file_path = os.path.join(label_folder, name) \n",
    "    \n",
    "    # Read, modify, and overwrite the file\n",
    "    with open(file_path, \"r\") as infile:\n",
    "        lines4outfile = []\n",
    "        for line in infile:\n",
    "            parts = line.strip().split()  # Split the line into parts\n",
    "            if len(parts) > 0:  # Ensure the line is not empty\n",
    "                parts[0] = mapped_classes[mapped_classes_keys[int(parts[0])]]   \n",
    "                #print(parts[0])\n",
    "                parts[0] = str(parts[0])\n",
    "                if parts[0] == \"unknown\":\n",
    "                    print(f\"discard unknown instances: {parts[0]}\")\n",
    "                    lines4outfile = []\n",
    "                else:\n",
    "                    parts[0] = str(classes[parts[0]])\n",
    "                    lines4outfile.append(\" \".join(parts))  # Rejoin the line\n",
    "\n",
    "    #print(lines4outfile)\n",
    "\n",
    "    # Save the modified content back to the same file\n",
    "    with open(file_path, \"w\") as outfile:\n",
    "        lines4outfile = \"\\n\".join(lines4outfile)\n",
    "        outfile.write(lines4outfile.rstrip(\"\\n\"))"
   ]
  },
  {
   "cell_type": "code",
   "execution_count": null,
   "metadata": {},
   "outputs": [],
   "source": [
    "distinct_indx = []\n",
    "\n",
    "txt_filenames = [f for f in os.listdir(label_folder) if (f.endswith('.txt') and not f.startswith('._'))]\n",
    "print(len(txt_filenames))\n",
    "txt_filenames[0:5]\n",
    "\n",
    "for name in txt_filenames:\n",
    "    # File path\n",
    "    file_path = os.path.join(label_folder, name) \n",
    "    \n",
    "    # Read, modify, and overwrite the file\n",
    "    with open(file_path, \"r\") as infile:\n",
    "        for line in infile:\n",
    "            parts = line.strip().split()  # Split the line into parts\n",
    "            if parts:  # Ensure the line is not empty\n",
    "                #print(parts[0], end=\",\")\n",
    "                distinct_indx.append(int(parts[0]))\n",
    "                \n",
    "distinct_indx = set(distinct_indx)\n",
    "print(distinct_indx)"
   ]
  },
  {
   "cell_type": "code",
   "execution_count": 39,
   "metadata": {
    "scrolled": true
   },
   "outputs": [
    {
     "name": "stdout",
     "output_type": "stream",
     "text": [
      "1th: ../cvat_export/cvat_0209_trainvaltest/labels/trainval/signid_2633-mutcd_R7-30-location_40.714815741,-73.77481118-heading_325.551.txt\n",
      "\n",
      "2th: ../cvat_export/cvat_0209_trainvaltest/labels/trainval/signid_2219-mutcd_R7-20-location_40.641770605,-74.089723674-heading_21.868.txt\n",
      "0 0.888320 0.403406 0.018828 0.044437\n",
      "3th: ../cvat_export/cvat_0209_trainvaltest/labels/trainval/signid_132-mutcd_R7-1-location_40.877985205,-73.885208504-heading_70.532.txt\n",
      "1 0.825906 0.300078 0.053688 0.063906\n",
      "4th: ../cvat_export/cvat_0209_trainvaltest/labels/trainval/signid_12131-mutcd_R7-61-location_40.655445968,-73.828435197-heading_196.128.txt\n",
      "0 0.957555 0.306086 0.084891 0.065641\n",
      "5th: ../cvat_export/cvat_0209_trainvaltest/labels/trainval/signid_2554-mutcd_R7-30-location_40.75780703,-73.782329031-heading_291.032.txt\n",
      "\n",
      "6th: ../cvat_export/cvat_0209_trainvaltest/labels/trainval/signid_10183-mutcd_R7-61-location_40.735720994,-73.850798215-heading_306.768.txt\n",
      "2 0.532422 0.441375 0.050469 0.081625\n",
      "7th: ../cvat_export/cvat_0209_trainvaltest/labels/trainval/signid_11647-mutcd_R7-61-location_40.679879746,-73.830537377-heading_124.696.txt\n",
      "2 0.281914 0.466898 0.052734 0.084641\n",
      "8th: ../cvat_export/cvat_0209_trainvaltest/labels/trainval/signid_1888-mutcd_R7-20-location_40.791908231,-73.810182561-heading_302.065.txt\n",
      "\n",
      "9th: ../cvat_export/cvat_0209_trainvaltest/labels/trainval/signid_10523-mutcd_R7-61-location_40.654817556,-73.832998656-heading_45.466.txt\n",
      "2 0.761961 0.459781 0.097953 0.162625\n",
      "10th: ../cvat_export/cvat_0209_trainvaltest/labels/trainval/signid_10163-mutcd_R7-61-location_40.688610242,-73.818065872-heading_5.546.txt\n",
      "2 0.139562 0.463602 0.034937 0.101234\n",
      "11th: ../cvat_export/cvat_0209_trainvaltest/labels/trainval/signid_2597-mutcd_R7-30-location_40.724411182,-73.796096315-heading_283.205.txt\n",
      "1 0.819141 0.376219 0.092031 0.067250\n",
      "12th: ../cvat_export/cvat_0209_trainvaltest/labels/trainval/signid_13466-mutcd_R7-88-location_40.733944425,-73.817236341-heading_160.826.txt\n",
      "3 0.671172 0.459500 0.073281 0.051625\n",
      "13th: ../cvat_export/cvat_0209_trainvaltest/labels/trainval/signid_12469-mutcd_R7-61-location_40.755131834,-73.889491061-heading_90.231.txt\n",
      "0 0.872531 0.448516 0.016500 0.019531\n",
      "14th: ../cvat_export/cvat_0209_trainvaltest/labels/trainval/signid_1003-mutcd_R7-20-location_40.72662049,-73.892425354-heading_44.19.txt\n",
      "\n",
      "15th: ../cvat_export/cvat_0209_trainvaltest/labels/trainval/signid_9468-mutcd_R7-44-location_40.703414632,-73.918949865-heading_91.716.txt\n",
      "1 0.860938 0.466891 0.091562 0.067156\n",
      "16th: ../cvat_export/cvat_0209_trainvaltest/labels/trainval/signid_8626-mutcd_R7-40-location_40.781305354,-73.772015626-heading_105.929.txt\n",
      "0 0.765852 0.398594 0.068578 0.045938\n",
      "17th: ../cvat_export/cvat_0209_trainvaltest/labels/trainval/signid_2610-mutcd_R7-30-location_40.727905597,-73.785373125-heading_283.337.txt\n",
      "1 0.380750 0.458219 0.063187 0.050125\n",
      "18th: ../cvat_export/cvat_0209_trainvaltest/labels/trainval/signid_11171-mutcd_R7-61-location_40.676549912,-73.845800264-heading_112.216.txt\n",
      "2 0.716805 0.396859 0.077641 0.120969\n",
      "19th: ../cvat_export/cvat_0209_trainvaltest/labels/trainval/signid_1036-mutcd_R7-20-location_40.597865225,-74.180966034-heading_346.816.txt\n",
      "0 0.430984 0.423195 0.027719 0.047359\n",
      "20th: ../cvat_export/cvat_0209_trainvaltest/labels/trainval/signid_11097-mutcd_R7-61-location_40.674855537,-73.806965762-heading_177.769.txt\n",
      "\n",
      "\n",
      "next group following: \n"
     ]
    }
   ],
   "source": [
    "txt_filenames = [f for f in os.listdir(label_folder) if (f.endswith('.txt') and not f.startswith('._'))]\n",
    "\n",
    "for i, name in enumerate(txt_filenames[:20]):\n",
    "    # File path\n",
    "    file_path = os.path.join(label_folder, name) \n",
    "    print(f\"{i+1}th: {file_path}\")\n",
    "    # Read, modify, and overwrite the file\n",
    "    with open(file_path, \"r\") as file:\n",
    "        data = file.read()\n",
    "        print(data)\n",
    "print(\"\\nnext group following: \")"
   ]
  },
  {
   "cell_type": "markdown",
   "metadata": {},
   "source": [
    "## check distribution of nc_5"
   ]
  },
  {
   "cell_type": "code",
   "execution_count": 29,
   "metadata": {},
   "outputs": [],
   "source": [
    "base_dir = \"../cvat_export/cvat_0209_trainvaltest\""
   ]
  },
  {
   "cell_type": "code",
   "execution_count": 30,
   "metadata": {},
   "outputs": [],
   "source": [
    "classes_idx_nm =  {\n",
    "    0: \"prohibAnyT\",\n",
    "    1: \"prohibSomeT\",\n",
    "    2: \"prohibBusStop\",\n",
    "    3: \"prohibCleaning\",\n",
    "    4: \"allow\"}"
   ]
  },
  {
   "cell_type": "code",
   "execution_count": 31,
   "metadata": {},
   "outputs": [],
   "source": [
    "def show_dist(txt_filenames):\n",
    "    distinct_label_list = list()\n",
    "    for name in txt_filenames:\n",
    "        # File path\n",
    "        file_path = os.path.join(folder, name) \n",
    "\n",
    "        # Read, modify, and overwrite the file\n",
    "        with open(file_path, \"r\") as infile:\n",
    "            lines4outfile = []\n",
    "            for line in infile:\n",
    "                parts = line.strip().split()  # Split the line into parts\n",
    "                if parts:  # Ensure the line is not empty\n",
    "                    #print(parts[0], mutcd_dict[int(parts[0])])\n",
    "                    distinct_label_list.append(str(classes_idx_nm[int(parts[0])]))\n",
    "    print(distinct_label_list[0:5])\n",
    "    print()\n",
    "\n",
    "\n",
    "    # List with repeated elements\n",
    "    # Count frequencies\n",
    "    frequency_count = Counter(distinct_label_list)\n",
    "    frequency_count = pd.DataFrame(list(frequency_count.items()),\n",
    "                     columns=[\"Class\", \"Frequency\"])\n",
    "    frequency_count = frequency_count.sort_values(by='Frequency', ascending=False)\n",
    "    print(frequency_count)\n",
    "    print()\n",
    "\n",
    "    # Create the bar plot with Seaborn\n",
    "    plt.figure(figsize=(12, 6))\n",
    "    ax = sns.barplot(data=frequency_count, x='Class', y='Frequency')\n",
    "\n",
    "    # Add annotations to the bars\n",
    "    ax.bar_label(ax.containers[0], fontsize=10, label_type='edge')\n",
    "\n",
    "    # Customize the plot\n",
    "    ax.set_title('Frequency of parking sign class', fontsize=16)\n",
    "    ax.set_xlabel('Class', fontsize=12)\n",
    "    ax.set_ylabel('Frequency', fontsize=12)\n",
    "    ax.tick_params(axis='x', rotation=45)  # Rotate x-axis labels for better readability\n",
    "    plt.tight_layout()\n",
    "\n",
    "    # Show the plot\n",
    "    plt.show()"
   ]
  },
  {
   "cell_type": "code",
   "execution_count": 32,
   "metadata": {},
   "outputs": [
    {
     "name": "stdout",
     "output_type": "stream",
     "text": [
      "['prohibAnyT', 'prohibAnyT', 'prohibAnyT', 'prohibAnyT', 'prohibAnyT']\n",
      "\n",
      "        Class  Frequency\n",
      "0  prohibAnyT        136\n",
      "\n"
     ]
    },
    {
     "data": {
      "image/png": "[encoded data removed]",
      "text/plain": [
       "<Figure size 1200x600 with 1 Axes>"
      ]
     },
     "metadata": {},
     "output_type": "display_data"
    }
   ],
   "source": [
    "folder = os.path.join(base_dir, \"labels\", \"train\") \n",
    "txt_filenames = [f for f in os.listdir(folder) if (f.endswith('.txt') and not f.startswith('._'))]\n",
    "show_dist(txt_filenames)"
   ]
  },
  {
   "cell_type": "markdown",
   "metadata": {},
   "source": [
    "# ATL"
   ]
  },
  {
   "cell_type": "markdown",
   "metadata": {},
   "source": [
    "## export_0209_1531 (empty images are included, but need to generate new .txt files)"
   ]
  },
  {
   "cell_type": "code",
   "execution_count": 71,
   "metadata": {},
   "outputs": [],
   "source": [
    "base_dir = \"../cvat_export/export_0209_1531\""
   ]
  },
  {
   "cell_type": "code",
   "execution_count": 72,
   "metadata": {},
   "outputs": [
    {
     "name": "stdout",
     "output_type": "stream",
     "text": [
      "length of filenames_img: 357\n"
     ]
    }
   ],
   "source": [
    "folder_path = os.path.join(base_dir, \"images\")\n",
    "filenames_img = [f for f in os.listdir(folder_path) if os.path.isfile(os.path.join(folder_path, f)) & f.endswith((\".jpg\", \".png\"))]\n",
    "filenames_img = [f.split(\".j\")[0] for f in filenames_img]\n",
    "filenames_img = sorted(filenames_img)\n",
    "print(f\"length of filenames_img: {len(filenames_img)}\")"
   ]
  },
  {
   "cell_type": "code",
   "execution_count": 73,
   "metadata": {},
   "outputs": [
    {
     "name": "stdout",
     "output_type": "stream",
     "text": [
      "length of filenames_lbl: 208\n"
     ]
    }
   ],
   "source": [
    "folder_path = os.path.join(base_dir, \"labels\")\n",
    "filenames_lbl = [f for f in os.listdir(folder_path) if os.path.isfile(os.path.join(folder_path, f)) & f.endswith((\".txt\"))]\n",
    "filenames_lbl = [f.split(\".t\")[0] for f in filenames_lbl]\n",
    "filenames_lbl = sorted(filenames_lbl)\n",
    "print(f\"length of filenames_lbl: {len(filenames_lbl)}\")"
   ]
  },
  {
   "cell_type": "code",
   "execution_count": 74,
   "metadata": {},
   "outputs": [
    {
     "name": "stdout",
     "output_type": "stream",
     "text": [
      "length of filenames_img_empty_to_add: 149\n"
     ]
    }
   ],
   "source": [
    "filenames_img_empty_to_add = [f for f in filenames_img if f not in filenames_lbl]\n",
    "print(f\"length of filenames_img_empty_to_add: {len(filenames_img_empty_to_add)}\")"
   ]
  },
  {
   "cell_type": "code",
   "execution_count": 75,
   "metadata": {},
   "outputs": [],
   "source": [
    "new_txt_files = filenames_img_empty_to_add\n",
    "for f in new_txt_files:\n",
    "    with open(os.path.join(base_dir, \"labels\", f) + \".txt\", \"w\") as file:\n",
    "        pass\n",
    "    #print(f\"Created {os.path.join(base_dir, 'labels', f) + '.txt'}\")"
   ]
  },
  {
   "cell_type": "code",
   "execution_count": 76,
   "metadata": {},
   "outputs": [
    {
     "name": "stdout",
     "output_type": "stream",
     "text": [
      "357\n",
      "357\n",
      "True\n"
     ]
    }
   ],
   "source": [
    "folder_path = os.path.join(base_dir, \"images\")\n",
    "filenames_img = [f for f in os.listdir(folder_path) if os.path.isfile(os.path.join(folder_path, f)) & f.endswith((\".jpg\", \".png\"))]\n",
    "print(len(filenames_img))\n",
    "filenames_img = sorted(filenames_img)\n",
    "filenames_img = [f.split(\".j\")[0] for f in filenames_img]\n",
    "\n",
    "folder_path = os.path.join(base_dir, \"labels\")\n",
    "filenames_lbl = [f for f in os.listdir(folder_path) if os.path.isfile(os.path.join(folder_path, f)) & f.endswith((\".txt\"))]\n",
    "print(len(filenames_lbl))\n",
    "filenames_lbl = sorted(filenames_lbl)\n",
    "filenames_lbl = [f.split(\".t\")[0] for f in filenames_lbl]\n",
    "\n",
    "print(filenames_img == filenames_lbl)"
   ]
  },
  {
   "cell_type": "markdown",
   "metadata": {},
   "source": [
    "## check distribution of nc_5"
   ]
  },
  {
   "cell_type": "code",
   "execution_count": 1,
   "metadata": {},
   "outputs": [],
   "source": [
    "base_dir = \"../cvat_export/export_0209_1531\""
   ]
  },
  {
   "cell_type": "code",
   "execution_count": 2,
   "metadata": {},
   "outputs": [],
   "source": [
    "classes_idx_nm =  {\n",
    "    0: \"prohibAnyT\",\n",
    "    1: \"prohibSomeT\",\n",
    "    2: \"prohibBusStop\",\n",
    "    3: \"prohibCleaning\",\n",
    "    4: \"allow\"}\n",
    "\n",
    "def show_dist(txt_filenames):\n",
    "    distinct_label_list = list()\n",
    "    for name in txt_filenames:\n",
    "        # File path\n",
    "        file_path = os.path.join(folder, name) \n",
    "\n",
    "        # Read, modify, and overwrite the file\n",
    "        with open(file_path, \"r\") as infile:\n",
    "            lines4outfile = []\n",
    "            for line in infile:\n",
    "                parts = line.strip().split()  # Split the line into parts\n",
    "                if parts:  # Ensure the line is not empty\n",
    "                    #print(parts[0], mutcd_dict[int(parts[0])])\n",
    "                    distinct_label_list.append(str(classes_idx_nm[int(parts[0])]))\n",
    "    print(distinct_label_list[0:5])\n",
    "    print()\n",
    "\n",
    "\n",
    "    # List with repeated elements\n",
    "    # Count frequencies\n",
    "    frequency_count = Counter(distinct_label_list)\n",
    "    frequency_count = pd.DataFrame(list(frequency_count.items()),\n",
    "                     columns=[\"Class\", \"Frequency\"])\n",
    "    frequency_count = frequency_count.sort_values(by='Frequency', ascending=False)\n",
    "    print(frequency_count)\n",
    "    print()\n",
    "\n",
    "    # Create the bar plot with Seaborn\n",
    "    plt.figure(figsize=(12, 6))\n",
    "    ax = sns.barplot(data=frequency_count, x='Class', y='Frequency')\n",
    "\n",
    "    # Add annotations to the bars\n",
    "    ax.bar_label(ax.containers[0], fontsize=10, label_type='edge')\n",
    "\n",
    "    # Customize the plot\n",
    "    ax.set_title('Frequency of parking sign class', fontsize=16)\n",
    "    ax.set_xlabel('Class', fontsize=12)\n",
    "    ax.set_ylabel('Frequency', fontsize=12)\n",
    "    ax.tick_params(axis='x', rotation=45)  # Rotate x-axis labels for better readability\n",
    "    plt.tight_layout()\n",
    "\n",
    "    # Show the plot\n",
    "    plt.show()"
   ]
  },
  {
   "cell_type": "code",
   "execution_count": 3,
   "metadata": {
    "scrolled": true
   },
   "outputs": [
    {
     "ename": "NameError",
     "evalue": "name 'os' is not defined",
     "output_type": "error",
     "traceback": [
      "\u001b[0;31m---------------------------------------------------------------------------\u001b[0m",
      "\u001b[0;31mNameError\u001b[0m                                 Traceback (most recent call last)",
      "Cell \u001b[0;32mIn[3], line 1\u001b[0m\n\u001b[0;32m----> 1\u001b[0m folder \u001b[38;5;241m=\u001b[39m \u001b[43mos\u001b[49m\u001b[38;5;241m.\u001b[39mpath\u001b[38;5;241m.\u001b[39mjoin(base_dir, \u001b[38;5;124m\"\u001b[39m\u001b[38;5;124mlabels\u001b[39m\u001b[38;5;124m\"\u001b[39m) \n\u001b[1;32m      2\u001b[0m txt_filenames \u001b[38;5;241m=\u001b[39m [f \u001b[38;5;28;01mfor\u001b[39;00m f \u001b[38;5;129;01min\u001b[39;00m os\u001b[38;5;241m.\u001b[39mlistdir(folder) \u001b[38;5;28;01mif\u001b[39;00m (f\u001b[38;5;241m.\u001b[39mendswith(\u001b[38;5;124m'\u001b[39m\u001b[38;5;124m.txt\u001b[39m\u001b[38;5;124m'\u001b[39m) \u001b[38;5;129;01mand\u001b[39;00m \u001b[38;5;129;01mnot\u001b[39;00m f\u001b[38;5;241m.\u001b[39mstartswith(\u001b[38;5;124m'\u001b[39m\u001b[38;5;124m._\u001b[39m\u001b[38;5;124m'\u001b[39m))]\n\u001b[1;32m      3\u001b[0m show_dist(txt_filenames)\n",
      "\u001b[0;31mNameError\u001b[0m: name 'os' is not defined"
     ]
    }
   ],
   "source": [
    "folder = os.path.join(base_dir, \"labels\") \n",
    "txt_filenames = [f for f in os.listdir(folder) if (f.endswith('.txt') and not f.startswith('._'))]\n",
    "show_dist(txt_filenames)"
   ]
  },
  {
   "cell_type": "markdown",
   "metadata": {},
   "source": [
    "## split within ATL into trainval and test"
   ]
  },
  {
   "cell_type": "code",
   "execution_count": 80,
   "metadata": {},
   "outputs": [],
   "source": [
    "base_dir = \"../cvat_export/export_0209_1531\""
   ]
  },
  {
   "cell_type": "code",
   "execution_count": 81,
   "metadata": {},
   "outputs": [
    {
     "name": "stdout",
     "output_type": "stream",
     "text": [
      "357\n",
      "357\n",
      "True\n"
     ]
    }
   ],
   "source": [
    "folder_path = os.path.join(base_dir, \"images\")  \n",
    "filenames_img = [f for f in os.listdir(folder_path) if os.path.isfile(os.path.join(folder_path, f)) & f.endswith((\".jpg\", \".png\"))]\n",
    "filenames_img = sorted(filenames_img)\n",
    "print(len(filenames_img))\n",
    "filenames_img = [f.split(\".j\")[0] for f in filenames_img]\n",
    "\n",
    "folder_path = os.path.join(base_dir, \"labels\")  \n",
    "filenames_lbl = [f for f in os.listdir(folder_path) if os.path.isfile(os.path.join(folder_path, f)) & f.endswith((\".txt\"))]\n",
    "filenames_lbl = sorted(filenames_lbl)\n",
    "print(len(filenames_lbl))\n",
    "filenames_lbl = [f.split(\".t\")[0] for f in filenames_lbl]\n",
    "\n",
    "print(filenames_img == filenames_lbl)"
   ]
  },
  {
   "cell_type": "code",
   "execution_count": 82,
   "metadata": {},
   "outputs": [
    {
     "name": "stdout",
     "output_type": "stream",
     "text": [
      "357\n",
      "236\n",
      "['gsv__80__5__left__45.223__2023-01__33.76098598,-84.388611085', 'gsv__351__13__right__139.902__2022-03__33.777099831,-84.380574344', 'gsv__225__12__right__314.268__2024-07__33.764652703,-84.391126216', 'gsv__8__3__right__276.482__2024-07__33.753978769,-84.384804349', 'gsv__525__9__left__-43.846__2024-07__33.755557188,-84.38363038']\n",
      "123\n",
      "['gsv__389__1__left__-3.434__2022-05__33.753331771,-84.385118285', 'gsv__89__19__right__nan__2023-01__33.776026604,-84.375281619', 'gsv__60__9__right__266.417__2024-07__33.753997823,-84.3807049', 'gsv__335__3__right__227.247__2023-09__33.781444413,-84.384063565', 'gsv__206__10__right__139.799__2024-07__33.773644285,-84.384097886']\n"
     ]
    }
   ],
   "source": [
    "folder_path = os.path.join(base_dir, \"images\")  \n",
    "\n",
    "filenames_img = [f for f in os.listdir(folder_path) if os.path.isfile(os.path.join(folder_path, f)) & f.endswith((\".jpg\"))]\n",
    "filenames_img = sorted(filenames_img)\n",
    "print(len(filenames_img))\n",
    "\n",
    "filenames_img = [f for f in os.listdir(folder_path) if not f.startswith('._')]\n",
    "filenames_img = [f.split(\".j\")[0] for f in filenames_img]\n",
    "\n",
    "random.seed(0)\n",
    "random.shuffle(filenames_img)\n",
    "\n",
    "# Calculate the split index\n",
    "split_0 = int(len(filenames_img) * 0.66)\n",
    "\n",
    "# Split into training and testing sets\n",
    "trainval_ids = filenames_img[:split_0]\n",
    "test_ids = filenames_img[split_0:]\n",
    "print(len(trainval_ids))\n",
    "print(trainval_ids[0:5])\n",
    "print(len(test_ids))\n",
    "print(test_ids[0:5])"
   ]
  },
  {
   "cell_type": "code",
   "execution_count": 83,
   "metadata": {},
   "outputs": [],
   "source": [
    "def distribute_after_split(FOLDER, EXPANDER):\n",
    "    source_folder = os.path.join(base_dir, FOLDER)  \n",
    "    target_folders = [os.path.join(source_folder, \"trainval\"), \n",
    "                      os.path.join(source_folder, \"test\")]\n",
    "    expander = EXPANDER\n",
    "    sets = [trainval_ids, test_ids]\n",
    "    \n",
    "    for i in range(2):\n",
    "        set_i = sets[i]\n",
    "        target_folder_i = target_folders[i]\n",
    "        \n",
    "        set_i = [f + expander for f in set_i]\n",
    "    \n",
    "        os.makedirs(target_folder_i, exist_ok=True)\n",
    "    \n",
    "        for f in set_i:\n",
    "            source_file = os.path.join(source_folder, f)\n",
    "            target_file = os.path.join(target_folder_i, f)\n",
    "        \n",
    "            if os.path.isfile(source_file):\n",
    "                shutil.move(source_file, target_file)\n",
    "                #print(f\"Copied: {filename}\")\n",
    "            #else:\n",
    "                #print(f\"File not found: {filename}\")\n",
    "    \n",
    "    root_dir = source_folder\n",
    "    \n",
    "    # Traverse the directory recursively\n",
    "    for root, dirs, files in os.walk(root_dir):\n",
    "        num_files = len(files)  # Count files in the current folder\n",
    "        folder_name = os.path.relpath(root, root_dir)  # Relative folder path\n",
    "        print(f\"Folder: {folder_name}, Number of files: {num_files}\")"
   ]
  },
  {
   "cell_type": "code",
   "execution_count": 84,
   "metadata": {},
   "outputs": [
    {
     "name": "stdout",
     "output_type": "stream",
     "text": [
      "Folder: ., Number of files: 0\n",
      "Folder: trainval, Number of files: 235\n",
      "Folder: test, Number of files: 122\n"
     ]
    }
   ],
   "source": [
    "distribute_after_split(\"images\", \".jpg\")"
   ]
  },
  {
   "cell_type": "code",
   "execution_count": 85,
   "metadata": {},
   "outputs": [
    {
     "name": "stdout",
     "output_type": "stream",
     "text": [
      "Folder: ., Number of files: 0\n",
      "Folder: trainval, Number of files: 235\n",
      "Folder: test, Number of files: 122\n"
     ]
    }
   ],
   "source": [
    "distribute_after_split(\"labels\", \".txt\")"
   ]
  },
  {
   "cell_type": "markdown",
   "metadata": {},
   "source": [
    "## add ATL_trainval to cvat_0209_trainvaltest/imglbl/trainval"
   ]
  },
  {
   "cell_type": "code",
   "execution_count": 86,
   "metadata": {},
   "outputs": [],
   "source": [
    "base_dir = \"../cvat_export/export_0209_1531\""
   ]
  },
  {
   "cell_type": "code",
   "execution_count": 87,
   "metadata": {},
   "outputs": [
    {
     "name": "stdout",
     "output_type": "stream",
     "text": [
      "235\n",
      "235\n",
      "True\n"
     ]
    }
   ],
   "source": [
    "folder_path = os.path.join(base_dir, \"images\", \"trainval\")  \n",
    "filenames_img = [f for f in os.listdir(folder_path) if os.path.isfile(os.path.join(folder_path, f)) & f.endswith((\".jpg\", \".png\"))]\n",
    "filenames_img = sorted(filenames_img)\n",
    "print(len(filenames_img))\n",
    "filenames_img = [f.split(\".j\")[0] for f in filenames_img]\n",
    "\n",
    "folder_path = os.path.join(base_dir, \"labels\", \"trainval\") \n",
    "filenames_lbl = [f for f in os.listdir(folder_path) if os.path.isfile(os.path.join(folder_path, f)) & f.endswith((\".txt\"))]\n",
    "filenames_lbl = sorted(filenames_lbl)\n",
    "print(len(filenames_lbl))\n",
    "filenames_lbl = [f.split(\".t\")[0] for f in filenames_lbl]\n",
    "\n",
    "print(filenames_img == filenames_lbl)"
   ]
  },
  {
   "cell_type": "code",
   "execution_count": 88,
   "metadata": {},
   "outputs": [],
   "source": [
    "base_dir = \"../cvat_export\"\n",
    "PATH_FROM = \"export_0209_1531\"\n",
    "PATH_TO = \"cvat_0209_trainvaltest\"\n",
    "FOLDER = \"images\"\n",
    "SPLIT = \"trainval\"\n",
    "\n",
    "def move_after_split(PATH_FROM, PATH_TO, FOLDER, SPLIT):\n",
    "    source_dir = os.path.join(base_dir, PATH_FROM, FOLDER, SPLIT)  \n",
    "    destination_dir = os.path.join(base_dir, PATH_TO, FOLDER, SPLIT) \n",
    "    os.makedirs(destination_dir, exist_ok=True)\n",
    "    \n",
    "    for filename in os.listdir(source_dir):\n",
    "        source_path = os.path.join(source_dir, filename)\n",
    "        destination_path = os.path.join(destination_dir, filename)\n",
    "\n",
    "        # Move only files (not subdirectories)\n",
    "        if os.path.isfile(source_path):\n",
    "            shutil.move(source_path, destination_path)\n",
    "            #print(f\"Moved: {source_path} -> {destination_path}\")"
   ]
  },
  {
   "cell_type": "code",
   "execution_count": 89,
   "metadata": {},
   "outputs": [],
   "source": [
    "move_after_split(PATH_FROM = \"export_0209_1531\", \n",
    "                 PATH_TO = \"cvat_0209_trainvaltest\", \n",
    "                 FOLDER = \"images\",\n",
    "                 SPLIT = \"trainval\")"
   ]
  },
  {
   "cell_type": "code",
   "execution_count": 90,
   "metadata": {},
   "outputs": [],
   "source": [
    "move_after_split(PATH_FROM = \"export_0209_1531\", \n",
    "                 PATH_TO = \"cvat_0209_trainvaltest\", \n",
    "                 FOLDER = \"labels\",\n",
    "                 SPLIT = \"trainval\")"
   ]
  },
  {
   "cell_type": "markdown",
   "metadata": {},
   "source": [
    "## add ATL_test to cvat_0209_trainvaltest/imglbl/test"
   ]
  },
  {
   "cell_type": "code",
   "execution_count": 91,
   "metadata": {},
   "outputs": [],
   "source": [
    "move_after_split(PATH_FROM = \"export_0209_1531\", \n",
    "                 PATH_TO = \"cvat_0209_trainvaltest\", \n",
    "                 FOLDER = \"images\",\n",
    "                 SPLIT = \"test\")"
   ]
  },
  {
   "cell_type": "code",
   "execution_count": 92,
   "metadata": {},
   "outputs": [],
   "source": [
    "move_after_split(PATH_FROM = \"export_0209_1531\", \n",
    "                 PATH_TO = \"cvat_0209_trainvaltest\", \n",
    "                 FOLDER = \"labels\",\n",
    "                 SPLIT = \"test\")"
   ]
  },
  {
   "cell_type": "markdown",
   "metadata": {},
   "source": [
    "# Split train / val in cvat_0209_trainvaltest"
   ]
  },
  {
   "cell_type": "markdown",
   "metadata": {},
   "source": [
    "## check status"
   ]
  },
  {
   "cell_type": "code",
   "execution_count": 93,
   "metadata": {},
   "outputs": [],
   "source": [
    "from pathlib import Path"
   ]
  },
  {
   "cell_type": "code",
   "execution_count": 94,
   "metadata": {},
   "outputs": [
    {
     "name": "stdout",
     "output_type": "stream",
     "text": [
      ".  ..  images  labels\n"
     ]
    }
   ],
   "source": [
    "!ls -a ../cvat_export/cvat_0209_trainvaltest"
   ]
  },
  {
   "cell_type": "code",
   "execution_count": 95,
   "metadata": {},
   "outputs": [],
   "source": [
    "base_dir = \"../cvat_export/cvat_0209_trainvaltest\""
   ]
  },
  {
   "cell_type": "code",
   "execution_count": 96,
   "metadata": {},
   "outputs": [
    {
     "name": "stdout",
     "output_type": "stream",
     "text": [
      "Number of files: 1584\n",
      "Number of files: 1584\n"
     ]
    }
   ],
   "source": [
    "directory = Path(os.path.join(base_dir, \"images\", \"trainval\"))\n",
    "num_files = sum(1 for entry in os.scandir(directory) if entry.is_file())\n",
    "print(f\"Number of files: {num_files}\")\n",
    "\n",
    "directory = Path(os.path.join(base_dir, \"labels\", \"trainval\"))\n",
    "num_files = sum(1 for entry in os.scandir(directory) if entry.is_file())\n",
    "print(f\"Number of files: {num_files}\")"
   ]
  },
  {
   "cell_type": "code",
   "execution_count": 97,
   "metadata": {},
   "outputs": [
    {
     "name": "stdout",
     "output_type": "stream",
     "text": [
      "Number of files: 167\n",
      "Number of files: 167\n"
     ]
    }
   ],
   "source": [
    "directory = Path(os.path.join(base_dir, \"images\", \"test\"))\n",
    "num_files = sum(1 for entry in os.scandir(directory) if entry.is_file())\n",
    "print(f\"Number of files: {num_files}\")\n",
    "\n",
    "directory = Path(os.path.join(base_dir, \"labels\", \"test\"))\n",
    "num_files = sum(1 for entry in os.scandir(directory) if entry.is_file())\n",
    "print(f\"Number of files: {num_files}\")"
   ]
  },
  {
   "cell_type": "markdown",
   "metadata": {},
   "source": [
    "## split"
   ]
  },
  {
   "cell_type": "code",
   "execution_count": 98,
   "metadata": {},
   "outputs": [
    {
     "name": "stdout",
     "output_type": "stream",
     "text": [
      "1584\n",
      "1584\n",
      "True\n",
      "\n",
      "1584\n",
      "1584\n"
     ]
    }
   ],
   "source": [
    "folder_path = os.path.join(base_dir, \"images\", \"trainval\")  \n",
    "filenames_img = [f for f in os.listdir(folder_path) if os.path.isfile(os.path.join(folder_path, f)) & f.endswith((\".jpg\", \".png\"))]\n",
    "filenames_img = sorted(filenames_img)\n",
    "print(len(filenames_img))\n",
    "filenames_img = [f.split(\".j\")[0] for f in filenames_img]\n",
    "\n",
    "folder_path = os.path.join(base_dir, \"labels\", \"trainval\")  \n",
    "filenames_lbl = [f for f in os.listdir(folder_path) if os.path.isfile(os.path.join(folder_path, f)) & f.endswith((\".txt\"))]\n",
    "filenames_lbl = sorted(filenames_lbl)\n",
    "print(len(filenames_lbl))\n",
    "filenames_lbl = [f.split(\".t\")[0] for f in filenames_lbl]\n",
    "\n",
    "print(filenames_img == filenames_lbl)\n",
    "print()\n",
    "print(len(set(filenames_img)))\n",
    "print(len(set(filenames_lbl)))"
   ]
  },
  {
   "cell_type": "code",
   "execution_count": 101,
   "metadata": {},
   "outputs": [
    {
     "name": "stdout",
     "output_type": "stream",
     "text": [
      "1584\n",
      "1346\n",
      "['signid_10677-mutcd_R7-61-location_40.674865374,-73.806036933-heading_94.387', 'signid_1012-mutcd_R7-20-location_40.662395857,-73.854283143-heading_278.512', 'signid_12267-mutcd_R7-61-location_40.755349257,-73.866171956-heading_293.765', 'gsv__525__14__left__-43.998__2024-07__33.755553647,-84.383410259', 'signid_8467-mutcd_R7-40-location_40.697939728,-73.892916808-heading_231.048']\n",
      "238\n",
      "['gsv__525__12__left__-43.936__2024-07__33.755555353,-84.383520761', 'signid_2161-mutcd_R7-20-location_40.70497095,-73.879629072-heading_126.334', 'signid_2462-mutcd_R7-28-location_40.754329629,-73.897162091-heading_330.041', 'signid_2089-mutcd_R7-20-location_40.731414521,-73.821917629-heading_216.868', 'signid_302-mutcd_R7-125-location_40.632736039,-74.116847205-heading_89.717']\n"
     ]
    }
   ],
   "source": [
    "folder_path = os.path.join(base_dir, \"images\", \"trainval\")  \n",
    "\n",
    "filenames_img = [f for f in os.listdir(folder_path) if os.path.isfile(os.path.join(folder_path, f)) & f.endswith((\".jpg\"))]\n",
    "filenames_img = sorted(filenames_img)\n",
    "print(len(filenames_img))\n",
    "\n",
    "filenames_img = [f for f in os.listdir(folder_path) if not f.startswith('._')]\n",
    "filenames_img = [f.split(\".j\")[0] for f in filenames_img]\n",
    "\n",
    "random.seed(0)\n",
    "random.shuffle(filenames_img)\n",
    "\n",
    "# Calculate the split index\n",
    "split_0 = int(len(filenames_img) * 0.85)\n",
    "\n",
    "# Split into training and testing sets\n",
    "train_ids = filenames_img[:split_0]\n",
    "val_ids = filenames_img[split_0:]\n",
    "print(len(train_ids))\n",
    "print(train_ids[0:5])\n",
    "print(len(val_ids))\n",
    "print(val_ids[0:5])"
   ]
  },
  {
   "cell_type": "code",
   "execution_count": 100,
   "metadata": {},
   "outputs": [
    {
     "name": "stdout",
     "output_type": "stream",
     "text": [
      "0\n",
      "0\n"
     ]
    },
    {
     "data": {
      "text/plain": [
       "[]"
      ]
     },
     "execution_count": 100,
     "metadata": {},
     "output_type": "execute_result"
    }
   ],
   "source": [
    "folder = os.path.join(base_dir, \"labels\")  \n",
    "filenames_lbl = [f for f in os.listdir(folder) if os.path.isfile(os.path.join(folder, f)) & f.endswith((\".txt\"))]\n",
    "filenames_lbl = sorted(filenames_lbl)\n",
    "print(len(filenames_lbl))\n",
    "filenames_lbl = [f for f in filenames_lbl if f.split(\".t\")[0] in val_ids] # important: val_ids\n",
    "print(len(filenames_lbl))\n",
    "filenames_lbl[0:5]"
   ]
  },
  {
   "cell_type": "code",
   "execution_count": 109,
   "metadata": {},
   "outputs": [
    {
     "name": "stdout",
     "output_type": "stream",
     "text": [
      "['R7-51', 'R7-57', 'R7-57', 'R7-61', 'R7-61']\n",
      "\n",
      "     Class  Frequency\n",
      "5    R7-20         23\n",
      "2    R7-61         13\n",
      "3    R7-40         11\n",
      "11   R7-88          9\n",
      "4   R7-128          8\n",
      "8    R7-45          7\n",
      "16   R7-30          6\n",
      "17   R7-32          5\n",
      "9     R7-1          5\n",
      "1    R7-57          4\n",
      "20   R7-44          3\n",
      "15   R7-28          2\n",
      "19   R7-42          2\n",
      "0    R7-51          2\n",
      "10   R7-70          2\n",
      "14   R7-27          1\n",
      "13   R7-24          1\n",
      "12   R7-22          1\n",
      "7    R7-43          1\n",
      "18  R7-125          1\n",
      "6    R7-49          1\n",
      "\n"
     ]
    },
    {
     "data": {
      "image/png": "[encoded data removed]",
      "text/plain": [
       "<Figure size 1200x600 with 1 Axes>"
      ]
     },
     "metadata": {},
     "output_type": "display_data"
    }
   ],
   "source": [
    "show_dist(filenames_lbl)"
   ]
  },
  {
   "cell_type": "code",
   "execution_count": 102,
   "metadata": {},
   "outputs": [],
   "source": [
    "base_dir = \"../cvat_export/cvat_0209_trainvaltest\""
   ]
  },
  {
   "cell_type": "code",
   "execution_count": 103,
   "metadata": {},
   "outputs": [],
   "source": [
    "def distribute_after_split(FOLDER, EXPANDER):\n",
    "    source_folder = os.path.join(base_dir, FOLDER, \"trainval\")  \n",
    "    target_folders = [os.path.join(base_dir, FOLDER, \"train\"), \n",
    "                      os.path.join(base_dir, FOLDER, \"val\")]\n",
    "    expander = EXPANDER\n",
    "    sets = [train_ids, val_ids]\n",
    "    \n",
    "    for i in range(2):\n",
    "        set_i = sets[i]\n",
    "        target_folder_i = target_folders[i]\n",
    "        \n",
    "        set_i = [f + expander for f in set_i]\n",
    "    \n",
    "        os.makedirs(target_folder_i, exist_ok=True)\n",
    "    \n",
    "        for f in set_i:\n",
    "            source_file = os.path.join(source_folder, f)\n",
    "            target_file = os.path.join(target_folder_i, f)\n",
    "        \n",
    "            if os.path.isfile(source_file):\n",
    "                shutil.move(source_file, target_file)\n",
    "                #print(f\"Copied: {filename}\")\n",
    "            #else:\n",
    "                #print(f\"File not found: {filename}\")\n",
    "    \n",
    "    root_dir = os.path.join(base_dir, FOLDER)\n",
    "    \n",
    "    # Traverse the directory recursively\n",
    "    for root, dirs, files in os.walk(root_dir):\n",
    "        num_files = len(files)  # Count files in the current folder\n",
    "        folder_name = os.path.relpath(root, root_dir)  # Relative folder path\n",
    "        print(f\"Folder: {folder_name}, Number of files: {num_files}\")"
   ]
  },
  {
   "cell_type": "code",
   "execution_count": 104,
   "metadata": {},
   "outputs": [
    {
     "name": "stdout",
     "output_type": "stream",
     "text": [
      "Folder: ., Number of files: 0\n",
      "Folder: trainval, Number of files: 0\n",
      "Folder: train, Number of files: 1346\n",
      "Folder: test, Number of files: 167\n",
      "Folder: val, Number of files: 238\n"
     ]
    }
   ],
   "source": [
    "distribute_after_split(FOLDER=\"images\", \n",
    "                       EXPANDER=\".jpg\")"
   ]
  },
  {
   "cell_type": "code",
   "execution_count": 105,
   "metadata": {},
   "outputs": [
    {
     "name": "stdout",
     "output_type": "stream",
     "text": [
      "Folder: ., Number of files: 0\n",
      "Folder: trainval, Number of files: 0\n",
      "Folder: train, Number of files: 1346\n",
      "Folder: test, Number of files: 167\n",
      "Folder: val, Number of files: 238\n"
     ]
    }
   ],
   "source": [
    "distribute_after_split(FOLDER=\"labels\", \n",
    "                       EXPANDER=\".txt\") "
   ]
  },
  {
   "cell_type": "markdown",
   "metadata": {},
   "source": [
    "# Manually handle data.yaml files"
   ]
  },
  {
   "cell_type": "markdown",
   "metadata": {},
   "source": [
    "## please don't skip this step"
   ]
  },
  {
   "cell_type": "code",
   "execution_count": 106,
   "metadata": {},
   "outputs": [],
   "source": [
    "base_dir = '../cvat_export'"
   ]
  },
  {
   "cell_type": "code",
   "execution_count": null,
   "metadata": {},
   "outputs": [],
   "source": [
    "# insert the following for all .yaml files\n",
    "# path: ./cvat_0209_trainvaltest_processed_unzipped"
   ]
  },
  {
   "cell_type": "markdown",
   "metadata": {},
   "source": [
    "# Zip the whole folder for reusability "
   ]
  },
  {
   "cell_type": "code",
   "execution_count": 107,
   "metadata": {},
   "outputs": [],
   "source": [
    "base_dir = '../cvat_export'"
   ]
  },
  {
   "cell_type": "code",
   "execution_count": 108,
   "metadata": {},
   "outputs": [
    {
     "name": "stdout",
     "output_type": "stream",
     "text": [
      "Folder successfully zipped to ../cvat_export/cvat_0209_trainvaltest_processed.zip\n"
     ]
    }
   ],
   "source": [
    "# Path to the folder you want to zip\n",
    "folder_path = os.path.join(base_dir, \"cvat_0209_trainvaltest\")\n",
    "\n",
    "# Output path for the zip file (without extension)\n",
    "output_path = os.path.join(base_dir, \"cvat_0209_trainvaltest_processed\")\n",
    "\n",
    "# Create a zip archive\n",
    "shutil.make_archive(output_path, 'zip', folder_path)\n",
    "\n",
    "print(f\"Folder successfully zipped to {output_path}.zip\")"
   ]
  },
  {
   "cell_type": "code",
   "execution_count": null,
   "metadata": {},
   "outputs": [],
   "source": []
  }
 ],
 "metadata": {
  "kernelspec": {
   "display_name": "Python 3 (ipykernel)",
   "language": "python",
   "name": "python3"
  },
  "language_info": {
   "codemirror_mode": {
    "name": "ipython",
    "version": 3
   },
   "file_extension": ".py",
   "mimetype": "text/x-python",
   "name": "python",
   "nbconvert_exporter": "python",
   "pygments_lexer": "ipython3",
   "version": "3.10.12"
  }
 },
 "nbformat": 4,
 "nbformat_minor": 4
}
