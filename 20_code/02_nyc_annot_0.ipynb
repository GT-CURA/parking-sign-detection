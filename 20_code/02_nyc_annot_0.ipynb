{
 "cells": [
  {
   "cell_type": "markdown",
   "metadata": {},
   "source": [
    "# Set up"
   ]
  },
  {
   "cell_type": "code",
   "execution_count": 1,
   "metadata": {},
   "outputs": [],
   "source": [
    "import os\n",
    "import json\n",
    "import yaml\n",
    "import shutil\n",
    "import zipfile\n",
    "import random\n",
    "import pandas as pd\n",
    "import matplotlib.pyplot as plt\n",
    "import seaborn as sns\n",
    "from collections import Counter"
   ]
  },
  {
   "cell_type": "markdown",
   "metadata": {},
   "source": [
    "# Import exported annotations"
   ]
  },
  {
   "cell_type": "markdown",
   "metadata": {
    "jp-MarkdownHeadingCollapsed": true
   },
   "source": [
    "## wd"
   ]
  },
  {
   "cell_type": "code",
   "execution_count": 2,
   "metadata": {},
   "outputs": [
    {
     "data": {
      "text/plain": [
       "'/storage/ice1/2/4/jlee4338/ongoing/park_sign/nyc/code/annot'"
      ]
     },
     "execution_count": 2,
     "metadata": {},
     "output_type": "execute_result"
    }
   ],
   "source": [
    "os.getcwd()"
   ]
  },
  {
   "cell_type": "code",
   "execution_count": 3,
   "metadata": {},
   "outputs": [
    {
     "name": "stdout",
     "output_type": "stream",
     "text": [
      "always_keep_zip.txt\t      export_0122_0921.zip\n",
      "cvat_0129\t\t      export_0122_0921_processed.zip\n",
      "cvat_0129_processed.zip       export_0122_0921_processed_unzipped\n",
      "cvat_0129_processed_unzipped  export_0128_1352\n",
      "data_nc_1.yaml\t\t      export_0128_1352.zip\n",
      "data_nc_7.yaml\t\t      export_0128_1352_fake\n",
      "export_0122_0921\n"
     ]
    }
   ],
   "source": [
    "!ls ../../cvat_export"
   ]
  },
  {
   "cell_type": "code",
   "execution_count": null,
   "metadata": {},
   "outputs": [],
   "source": [
    "#base_dir = \"../../cvat_export/export_0122_0921\"      \n",
    "#base_dir = \"../../cvat_export/export_0129_2234\"                  "
   ]
  },
  {
   "cell_type": "markdown",
   "metadata": {},
   "source": [
    "## unzip each exported dataset"
   ]
  },
  {
   "cell_type": "code",
   "execution_count": 5,
   "metadata": {},
   "outputs": [],
   "source": [
    "def unzip_exported(name_of_exported):\n",
    "    # unzip\n",
    "    base_dir = \"../../cvat_export\"    \n",
    "    zip_file_path = os.path.join(base_dir, name_of_exported+\".zip\")\n",
    "    extract_to = os.path.join(base_dir, name_of_exported)\n",
    "    with zipfile.ZipFile(zip_file_path, 'r') as zip_ref:\n",
    "        zip_ref.extractall(extract_to)\n",
    "    print(f\"Files extracted to: {extract_to}\")\n",
    "    \n",
    "    for which_folder in [\"images\", \"labels\"]:\n",
    "        # remove the /train dir\n",
    "        base_dir = \"../../cvat_export\" # must reset for each loop\n",
    "        base_dir = os.path.join(base_dir, name_of_exported)\n",
    "        source_dir = os.path.join(base_dir, f\"{which_folder}/train\") \n",
    "        destination_dir = os.path.join(base_dir, f\"{which_folder}\")\n",
    "\n",
    "        try:\n",
    "            # Ensure the destination directory exists\n",
    "            os.makedirs(destination_dir, exist_ok=True)\n",
    "\n",
    "            # Iterate through all files in the source directory\n",
    "            for filename in os.listdir(source_dir):\n",
    "                source_path = os.path.join(source_dir, filename)\n",
    "                destination_path = os.path.join(destination_dir, filename)\n",
    "\n",
    "                # Move only files (not subdirectories)\n",
    "                if os.path.isfile(source_path):\n",
    "                    shutil.move(source_path, destination_path)\n",
    "                    #print(f\"Moved: {source_path} -> {destination_path}\")\n",
    "\n",
    "            print(\"All files have been moved successfully.\")\n",
    "        except FileNotFoundError:\n",
    "            print(\"The source or destination directory does not exist.\")\n",
    "        except PermissionError:\n",
    "            print(\"Permission denied. Ensure you have the necessary permissions.\")\n",
    "        except Exception as e:\n",
    "            print(f\"An error occurred: {e}\")      \n",
    "\n",
    "        try:\n",
    "            os.rmdir(source_dir)\n",
    "            print(f\"Successfully removed the empty directory: {source_dir}\")\n",
    "        except FileNotFoundError:\n",
    "            print(\"The directory does not exist.\")\n",
    "        except OSError:\n",
    "            print(\"The directory is not empty or cannot be removed.\")\n",
    "        except Exception as e:\n",
    "            print(f\"An error occurred: {e}\")"
   ]
  },
  {
   "cell_type": "code",
   "execution_count": 73,
   "metadata": {},
   "outputs": [
    {
     "name": "stdout",
     "output_type": "stream",
     "text": [
      "Files extracted to: ../../cvat_export/export_0122_0921\n",
      "All files have been moved successfully.\n",
      "Successfully removed the empty directory: ../../cvat_export/export_0122_0921/images/train\n",
      "All files have been moved successfully.\n",
      "Successfully removed the empty directory: ../../cvat_export/export_0122_0921/labels/train\n"
     ]
    }
   ],
   "source": [
    "unzip_exported(\"export_0122_0921\")"
   ]
  },
  {
   "cell_type": "code",
   "execution_count": 74,
   "metadata": {},
   "outputs": [
    {
     "name": "stdout",
     "output_type": "stream",
     "text": [
      "Files extracted to: ../../cvat_export/export_0129_2234\n",
      "All files have been moved successfully.\n",
      "Successfully removed the empty directory: ../../cvat_export/export_0129_2234/images/train\n",
      "All files have been moved successfully.\n",
      "Successfully removed the empty directory: ../../cvat_export/export_0129_2234/labels/train\n"
     ]
    }
   ],
   "source": [
    "unzip_exported(\"export_0129_2234\")"
   ]
  },
  {
   "cell_type": "markdown",
   "metadata": {},
   "source": [
    "## integrate seamlessly"
   ]
  },
  {
   "cell_type": "markdown",
   "metadata": {},
   "source": [
    "### export_0122_0921 ([:until_when])"
   ]
  },
  {
   "cell_type": "code",
   "execution_count": 75,
   "metadata": {},
   "outputs": [],
   "source": [
    "base_dir = \"../../cvat_export/export_0122_0921\""
   ]
  },
  {
   "cell_type": "code",
   "execution_count": 76,
   "metadata": {},
   "outputs": [
    {
     "name": "stdout",
     "output_type": "stream",
     "text": [
      "length of filenames_img: 4974\n",
      "length of filenames_img: 2700\n"
     ]
    }
   ],
   "source": [
    "until_when = 2700\n",
    "folder_path = os.path.join(base_dir, \"images\")\n",
    "\n",
    "filenames_img = [f for f in os.listdir(folder_path) if os.path.isfile(os.path.join(folder_path, f)) & f.endswith((\".jpg\", \".png\"))]\n",
    "print(f\"length of filenames_img: {len(filenames_img)}\")\n",
    "\n",
    "filenames_img = sorted(filenames_img)\n",
    "filenames_img = filenames_img[:until_when]\n",
    "print(f\"length of filenames_img: {len(filenames_img)}\")"
   ]
  },
  {
   "cell_type": "code",
   "execution_count": 77,
   "metadata": {},
   "outputs": [
    {
     "name": "stdout",
     "output_type": "stream",
     "text": [
      "length of filenames_img: 2700\n",
      "length of filenames_lbl: 3031\n",
      "length of filenames_lbl: 758\n",
      "\n",
      "length of filenames_img: 758\n",
      "\n",
      "['signid_100-mutcd_R7-1-location_40.849854989,-73.89828847-heading_81.499', 'signid_100-mutcd_R7-1-location_40.849914685,-73.898255013-heading_139.414', 'signid_10000-mutcd_R7-51-location_40.712987445,-73.907559555-heading_222.59', 'signid_10000-mutcd_R7-51-location_40.712991965,-73.907642327-heading_147.066', 'signid_10001-mutcd_R7-51-location_40.712980208,-73.907427025-heading_221.412']\n",
      "['signid_100-mutcd_R7-1-location_40.849854989,-73.89828847-heading_81.499', 'signid_100-mutcd_R7-1-location_40.849914685,-73.898255013-heading_139.414', 'signid_10000-mutcd_R7-51-location_40.712987445,-73.907559555-heading_222.59', 'signid_10000-mutcd_R7-51-location_40.712991965,-73.907642327-heading_147.066', 'signid_10001-mutcd_R7-51-location_40.712980208,-73.907427025-heading_221.412']\n",
      "True\n"
     ]
    }
   ],
   "source": [
    "filenames_img = [f.split(\".j\")[0] for f in filenames_img]\n",
    "print(f\"length of filenames_img: {len(filenames_img)}\")\n",
    "\n",
    "folder_path = os.path.join(base_dir, \"labels\")\n",
    "filenames_lbl = [f for f in os.listdir(folder_path) if os.path.isfile(os.path.join(folder_path, f)) & f.endswith(\".txt\")]\n",
    "filenames_lbl = sorted(filenames_lbl)\n",
    "print(f\"length of filenames_lbl: {len(filenames_lbl)}\")\n",
    "\n",
    "filenames_lbl = [f for f in filenames_lbl if f.split(\".t\")[0] in filenames_img]\n",
    "filenames_lbl = [f.split(\".t\")[0] for f in filenames_lbl]\n",
    "print(f\"length of filenames_lbl: {len(filenames_lbl)}\")\n",
    "print()\n",
    "filenames_img = [f for f in filenames_img if f in filenames_lbl]\n",
    "print(f\"length of filenames_img: {len(filenames_img)}\")\n",
    "print()\n",
    "print(filenames_img[0:5])\n",
    "print(filenames_lbl[0:5])\n",
    "print(filenames_img == filenames_lbl)"
   ]
  },
  {
   "cell_type": "markdown",
   "metadata": {},
   "source": [
    "#### add 300 images without annotations\n",
    "only for images, add 300 images without annotations to let the model also learn cases of absence, reducing false positive"
   ]
  },
  {
   "cell_type": "code",
   "execution_count": 78,
   "metadata": {
    "scrolled": true
   },
   "outputs": [
    {
     "name": "stdout",
     "output_type": "stream",
     "text": [
      "4974\n",
      "2700\n",
      "1942\n"
     ]
    }
   ],
   "source": [
    "until_when = 2700\n",
    "folder_path = os.path.join(base_dir, \"images\")\n",
    "\n",
    "temp = [f for f in os.listdir(folder_path) if os.path.isfile(os.path.join(folder_path, f)) & f.endswith((\".jpg\", \".png\"))]\n",
    "temp = [f.split(\".j\")[0] for f in temp]\n",
    "print(len(temp))\n",
    "\n",
    "temp = sorted(temp)\n",
    "temp = temp[:until_when]\n",
    "print(len(temp))\n",
    "\n",
    "filenames_img_empty_to_add = [f for f in temp if f not in filenames_img]\n",
    "print(len(filenames_img_empty_to_add))"
   ]
  },
  {
   "cell_type": "code",
   "execution_count": 79,
   "metadata": {},
   "outputs": [
    {
     "name": "stdout",
     "output_type": "stream",
     "text": [
      "['signid_2500-mutcd_R7-30-location_40.758546929,-73.796687521-heading_308.888', 'signid_3889-mutcd_R7-40-location_40.601524374,-74.084715265-heading_69.411', 'signid_353-mutcd_R7-128-location_40.640832033,-74.13196293-heading_267.22', 'signid_2253-mutcd_R7-20-location_40.546229162,-74.174282678-heading_259.356', 'signid_2021-mutcd_R7-20-location_40.604628395,-73.754065376-heading_135.992']\n"
     ]
    }
   ],
   "source": [
    "filenames_img_empty_to_add = random.sample(filenames_img_empty_to_add, 300)\n",
    "print(filenames_img_empty_to_add[0:5])"
   ]
  },
  {
   "cell_type": "code",
   "execution_count": 80,
   "metadata": {},
   "outputs": [],
   "source": [
    "filenames_img = filenames_img + filenames_img_empty_to_add"
   ]
  },
  {
   "cell_type": "code",
   "execution_count": 81,
   "metadata": {},
   "outputs": [],
   "source": [
    "filenames_lbl = filenames_img"
   ]
  },
  {
   "cell_type": "code",
   "execution_count": 82,
   "metadata": {},
   "outputs": [],
   "source": [
    "new_txt_files = filenames_img_empty_to_add\n",
    "\n",
    "for f in new_txt_files:\n",
    "    with open(os.path.join(base_dir, \"labels\", f) + \".txt\", \"w\") as file:\n",
    "        pass\n",
    "    #print(f\"Created {os.path.join(base_dir, 'labels', f) + '.txt'}\")"
   ]
  },
  {
   "cell_type": "markdown",
   "metadata": {},
   "source": [
    "#### only keep good ones 758 -> 1058"
   ]
  },
  {
   "cell_type": "code",
   "execution_count": 83,
   "metadata": {},
   "outputs": [
    {
     "name": "stdout",
     "output_type": "stream",
     "text": [
      "1058\n",
      "['signid_2536-mutcd_R7-30-location_40.757817717,-73.790853247-heading_339.619.jpg', 'signid_2816-mutcd_R7-40-location_40.877373379,-73.907154302-heading_80.907.jpg', 'signid_2742-mutcd_R7-32-location_40.786534363,-73.793114835-heading_160.747.jpg', 'signid_132-mutcd_R7-1-location_40.877985205,-73.885208504-heading_70.532.jpg', 'signid_2485-mutcd_R7-28-location_40.719788332,-73.787170327-heading_285.697.jpg']\n",
      "1058\n",
      "['signid_2504-mutcd_R7-30-location_40.759283253,-73.799037963-heading_49.834.txt', 'signid_2219-mutcd_R7-20-location_40.641770605,-74.089723674-heading_21.868.txt', 'signid_132-mutcd_R7-1-location_40.877985205,-73.885208504-heading_70.532.txt', 'signid_12131-mutcd_R7-61-location_40.655445968,-73.828435197-heading_196.128.txt', 'signid_10183-mutcd_R7-61-location_40.735720994,-73.850798215-heading_306.768.txt']\n"
     ]
    }
   ],
   "source": [
    "folder_path = os.path.join(base_dir, \"images\")\n",
    "files_to_keep = filenames_img\n",
    "\n",
    "# Iterate through all files in the directory\n",
    "for file_name in os.listdir(folder_path):\n",
    "    file_path = os.path.join(folder_path, file_name)\n",
    "    \n",
    "    # Check if the current file is not in the keep list\n",
    "    if file_name.split(\".j\")[0] not in files_to_keep:\n",
    "        # Delete the file\n",
    "        if os.path.isfile(file_path):  # Ensure it's a file, not a directory\n",
    "            os.remove(file_path)\n",
    "            \n",
    "folder_path = os.path.join(base_dir, \"labels\")\n",
    "files_to_keep = filenames_lbl\n",
    "\n",
    "# Iterate through all files in the directory\n",
    "for file_name in os.listdir(folder_path):\n",
    "    file_path = os.path.join(folder_path, file_name)\n",
    "    \n",
    "    # Check if the current file is not in the keep list\n",
    "    if file_name.split(\".t\")[0] not in files_to_keep:\n",
    "        # Delete the file\n",
    "        if os.path.isfile(file_path):  # Ensure it's a file, not a directory\n",
    "            os.remove(file_path)\n",
    "            \n",
    "# Verify the result\n",
    "folder_path = os.path.join(base_dir, \"images\")\n",
    "filenames = [f for f in os.listdir(folder_path) if os.path.isfile(os.path.join(folder_path, f)) & f.endswith((\".jpg\", \".png\"))]\n",
    "print(len(filenames))\n",
    "print(filenames[0:5])\n",
    "\n",
    "folder_path = os.path.join(base_dir, \"labels\")\n",
    "filenames = [f for f in os.listdir(folder_path) if os.path.isfile(os.path.join(folder_path, f)) & f.endswith((\".txt\"))]\n",
    "print(len(filenames))\n",
    "print(filenames[0:5])"
   ]
  },
  {
   "cell_type": "code",
   "execution_count": 84,
   "metadata": {},
   "outputs": [
    {
     "name": "stdout",
     "output_type": "stream",
     "text": [
      "1058\n",
      "1058\n",
      "True\n"
     ]
    }
   ],
   "source": [
    "base_dir = \"../../cvat_export/export_0122_0921\"\n",
    "\n",
    "folder_path = os.path.join(base_dir, \"images\")\n",
    "filenames_img = [f for f in os.listdir(folder_path) if os.path.isfile(os.path.join(folder_path, f)) & f.endswith((\".jpg\", \".png\"))]\n",
    "print(len(filenames_img))\n",
    "filenames_img = sorted(filenames_img)\n",
    "filenames_img = [f.split(\".j\")[0] for f in filenames_img]\n",
    "\n",
    "folder_path = os.path.join(base_dir, \"labels\")\n",
    "filenames_lbl = [f for f in os.listdir(folder_path) if os.path.isfile(os.path.join(folder_path, f)) & f.endswith((\".txt\"))]\n",
    "print(len(filenames_lbl))\n",
    "filenames_lbl = sorted(filenames_lbl)\n",
    "filenames_lbl = [f.split(\".t\")[0] for f in filenames_lbl]\n",
    "\n",
    "print(filenames_img == filenames_lbl)"
   ]
  },
  {
   "cell_type": "markdown",
   "metadata": {},
   "source": [
    "### export_0129_2234 ([from_when:]"
   ]
  },
  {
   "cell_type": "code",
   "execution_count": 85,
   "metadata": {},
   "outputs": [],
   "source": [
    "base_dir = \"../../cvat_export/export_0129_2234\""
   ]
  },
  {
   "cell_type": "code",
   "execution_count": 86,
   "metadata": {},
   "outputs": [
    {
     "name": "stdout",
     "output_type": "stream",
     "text": [
      "length of filenames_img: 4974\n",
      "length of filenames_img: 2266\n"
     ]
    }
   ],
   "source": [
    "from_when = 2708\n",
    "folder_path = os.path.join(base_dir, \"images\")\n",
    "\n",
    "filenames_img = [f for f in os.listdir(folder_path) if os.path.isfile(os.path.join(folder_path, f)) & f.endswith((\".jpg\", \".png\"))]\n",
    "print(f\"length of filenames_img: {len(filenames_img)}\")\n",
    "\n",
    "filenames_img = sorted(filenames_img)\n",
    "filenames_img = filenames_img[from_when:]\n",
    "print(f\"length of filenames_img: {len(filenames_img)}\")"
   ]
  },
  {
   "cell_type": "code",
   "execution_count": 87,
   "metadata": {},
   "outputs": [
    {
     "name": "stdout",
     "output_type": "stream",
     "text": [
      "length of filenames_img: 2266\n",
      "length of filenames_lbl: 2952\n",
      "length of filenames_lbl: 246\n",
      "\n",
      "length of filenames_img: 246\n",
      "\n",
      "['signid_4541-mutcd_R7-40-location_40.596626588,-73.758655926-heading_28.437', 'signid_4547-mutcd_R7-40-location_40.708707419,-73.851802767-heading_318.369', 'signid_4557-mutcd_R7-40-location_40.598142068,-73.744884888-heading_141.532', 'signid_4568-mutcd_R7-40-location_40.630990272,-74.129435441-heading_313.412', 'signid_4577-mutcd_R7-40-location_40.694590582,-73.75073031-heading_218.686']\n",
      "['signid_4541-mutcd_R7-40-location_40.596626588,-73.758655926-heading_28.437', 'signid_4547-mutcd_R7-40-location_40.708707419,-73.851802767-heading_318.369', 'signid_4557-mutcd_R7-40-location_40.598142068,-73.744884888-heading_141.532', 'signid_4568-mutcd_R7-40-location_40.630990272,-74.129435441-heading_313.412', 'signid_4577-mutcd_R7-40-location_40.694590582,-73.75073031-heading_218.686']\n",
      "True\n"
     ]
    }
   ],
   "source": [
    "filenames_img = [f.split(\".j\")[0] for f in filenames_img]\n",
    "print(f\"length of filenames_img: {len(filenames_img)}\")\n",
    "\n",
    "folder_path = os.path.join(base_dir, \"labels\")\n",
    "filenames_lbl = [f for f in os.listdir(folder_path) if os.path.isfile(os.path.join(folder_path, f)) & f.endswith(\".txt\")]\n",
    "filenames_lbl = sorted(filenames_lbl)\n",
    "print(f\"length of filenames_lbl: {len(filenames_lbl)}\")\n",
    "\n",
    "filenames_lbl = [f for f in filenames_lbl if f.split(\".t\")[0] in filenames_img]\n",
    "filenames_lbl = [f.split(\".t\")[0] for f in filenames_lbl]\n",
    "print(f\"length of filenames_lbl: {len(filenames_lbl)}\")\n",
    "print()\n",
    "filenames_img = [f for f in filenames_img if f in filenames_lbl]\n",
    "print(f\"length of filenames_img: {len(filenames_img)}\")\n",
    "print()\n",
    "print(filenames_img[0:5])\n",
    "print(filenames_lbl[0:5])\n",
    "print(filenames_img == filenames_lbl)"
   ]
  },
  {
   "cell_type": "code",
   "execution_count": 88,
   "metadata": {},
   "outputs": [
    {
     "name": "stdout",
     "output_type": "stream",
     "text": [
      "246\n",
      "['signid_8103-mutcd_R7-40-location_40.726247953,-73.943657329-heading_299.218.jpg', 'signid_4660-mutcd_R7-40-location_40.574274153,-74.115248416-heading_178.287.jpg', 'signid_7317-mutcd_R7-40-location_40.579158889,-73.839165807-heading_114.433.jpg', 'signid_9895-mutcd_R7-45-location_40.741399617,-73.863811908-heading_229.389.jpg', 'signid_9425-mutcd_R7-44-location_40.785368298,-73.844487462-heading_301.694.jpg']\n",
      "246\n",
      "['signid_9468-mutcd_R7-44-location_40.703414632,-73.918949865-heading_91.716.txt', 'signid_8626-mutcd_R7-40-location_40.781305354,-73.772015626-heading_105.929.txt', 'signid_9804-mutcd_R7-45-location_40.675864858,-74.00434417-heading_243.305.txt', 'signid_9820-mutcd_R7-45-location_40.723064472,-73.911513893-heading_322.634.txt', 'signid_9877-mutcd_R7-45-location_40.737658842,-73.886479479-heading_62.037.txt']\n"
     ]
    }
   ],
   "source": [
    "folder_path = os.path.join(base_dir, \"images\")\n",
    "files_to_keep = filenames_img\n",
    "\n",
    "# Iterate through all files in the directory\n",
    "for file_name in os.listdir(folder_path):\n",
    "    file_path = os.path.join(folder_path, file_name)\n",
    "    \n",
    "    # Check if the current file is not in the keep list\n",
    "    if file_name.split(\".j\")[0] not in files_to_keep:\n",
    "        # Delete the file\n",
    "        if os.path.isfile(file_path):  # Ensure it's a file, not a directory\n",
    "            os.remove(file_path)\n",
    "            \n",
    "folder_path = os.path.join(base_dir, \"labels\")\n",
    "files_to_keep = filenames_lbl\n",
    "\n",
    "# Iterate through all files in the directory\n",
    "for file_name in os.listdir(folder_path):\n",
    "    file_path = os.path.join(folder_path, file_name)\n",
    "    \n",
    "    # Check if the current file is not in the keep list\n",
    "    if file_name.split(\".t\")[0] not in files_to_keep:\n",
    "        # Delete the file\n",
    "        if os.path.isfile(file_path):  # Ensure it's a file, not a directory\n",
    "            os.remove(file_path)\n",
    "            \n",
    "# Verify the result\n",
    "folder_path = os.path.join(base_dir, \"images\")\n",
    "filenames = [f for f in os.listdir(folder_path) if os.path.isfile(os.path.join(folder_path, f)) & f.endswith((\".jpg\", \".png\"))]\n",
    "print(len(filenames))\n",
    "print(filenames[0:5])\n",
    "\n",
    "folder_path = os.path.join(base_dir, \"labels\")\n",
    "filenames = [f for f in os.listdir(folder_path) if os.path.isfile(os.path.join(folder_path, f)) & f.endswith((\".txt\"))]\n",
    "print(len(filenames))\n",
    "print(filenames[0:5])"
   ]
  },
  {
   "cell_type": "code",
   "execution_count": 89,
   "metadata": {},
   "outputs": [
    {
     "name": "stdout",
     "output_type": "stream",
     "text": [
      "246\n",
      "246\n",
      "True\n"
     ]
    }
   ],
   "source": [
    "base_dir = \"../../cvat_export/export_0129_2234\"\n",
    "\n",
    "folder_path = os.path.join(base_dir, \"images\")\n",
    "filenames_img = [f for f in os.listdir(folder_path) if os.path.isfile(os.path.join(folder_path, f)) & f.endswith((\".jpg\", \".png\"))]\n",
    "print(len(filenames_img))\n",
    "filenames_img = sorted(filenames_img)\n",
    "filenames_img = [f.split(\".j\")[0] for f in filenames_img]\n",
    "\n",
    "folder_path = os.path.join(base_dir, \"labels\")\n",
    "filenames_lbl = [f for f in os.listdir(folder_path) if os.path.isfile(os.path.join(folder_path, f)) & f.endswith((\".txt\"))]\n",
    "print(len(filenames_lbl))\n",
    "filenames_lbl = sorted(filenames_lbl)\n",
    "filenames_lbl = [f.split(\".t\")[0] for f in filenames_lbl]\n",
    "\n",
    "print(filenames_img == filenames_lbl)"
   ]
  },
  {
   "cell_type": "markdown",
   "metadata": {},
   "source": [
    "## integrate "
   ]
  },
  {
   "cell_type": "code",
   "execution_count": 90,
   "metadata": {},
   "outputs": [],
   "source": [
    "# Define source folders\n",
    "base_dir = \"../../cvat_export\"\n",
    "source_folders = [os.path.join(base_dir, \"export_0122_0921\", \"images\"), os.path.join(base_dir, \"export_0129_2234\", \"images\")]\n",
    "# Define destination folder\n",
    "destination_folder = os.path.join(base_dir, \"cvat_0129\", \"images\")\n",
    "# Ensure destination exists\n",
    "os.makedirs(destination_folder, exist_ok=True)\n",
    "# Move files from both source folders\n",
    "for folder in source_folders:\n",
    "    for file_name in os.listdir(folder):\n",
    "        source_path = os.path.join(folder, file_name)\n",
    "        destination_path = os.path.join(destination_folder, file_name)\n",
    "        # Move file only if it's not a directory\n",
    "        if os.path.isfile(source_path):\n",
    "            shutil.copy(source_path, destination_path)\n",
    "            \n",
    "source_folders = [os.path.join(base_dir, \"export_0122_0921\", \"labels\"), os.path.join(base_dir, \"export_0129_2234\", \"labels\")]\n",
    "# Define destination folder\n",
    "destination_folder = os.path.join(base_dir, \"cvat_0129\", \"labels\")\n",
    "# Ensure destination exists\n",
    "os.makedirs(destination_folder, exist_ok=True)\n",
    "# Move files from both source folders\n",
    "for folder in source_folders:\n",
    "    for file_name in os.listdir(folder):\n",
    "        source_path = os.path.join(folder, file_name)\n",
    "        destination_path = os.path.join(destination_folder, file_name)\n",
    "        # Move file only if it's not a directory\n",
    "        if os.path.isfile(source_path):\n",
    "            shutil.copy(source_path, destination_path)"
   ]
  },
  {
   "cell_type": "markdown",
   "metadata": {},
   "source": [
    "# Sorting out small images\n",
    "\n",
    "Sort out small images in consideration of image quality.\n",
    "Small images can help training the only-detection model, while they may hamper accuracy(especially recall) in the 4-classification model."
   ]
  },
  {
   "cell_type": "code",
   "execution_count": null,
   "metadata": {},
   "outputs": [],
   "source": [
    "# "
   ]
  },
  {
   "cell_type": "markdown",
   "metadata": {},
   "source": [
    "# Check distribution of classes after annotation"
   ]
  },
  {
   "cell_type": "code",
   "execution_count": 91,
   "metadata": {},
   "outputs": [],
   "source": [
    "base_dir = \"../../cvat_export/cvat_0129\""
   ]
  },
  {
   "cell_type": "code",
   "execution_count": 92,
   "metadata": {
    "jupyter": {
     "source_hidden": true
    }
   },
   "outputs": [],
   "source": [
    "mutcd_dict = {\n",
    "    0: \"empty-so-disregard\",   # may have to remove this\n",
    "    1: \"R7-1\",\n",
    "    2: \"R7-20\",\n",
    "    3: \"R7-21\",\n",
    "    4: \"R7-22\",\n",
    "    5: \"R7-24\",\n",
    "    6: \"R7-27\",\n",
    "    7: \"R7-28\",\n",
    "    8: \"R7-30\",\n",
    "    9: \"R7-31\",\n",
    "    10: \"R7-32\",\n",
    "    11: \"R7-34\",\n",
    "    12: \"R7-40\",\n",
    "    13: \"R7-41\",\n",
    "    14: \"R7-42\",\n",
    "    15: \"R7-43\",\n",
    "    16: \"R7-44\",\n",
    "    17: \"R7-45\",\n",
    "    18: \"R7-49\",\n",
    "    19: \"R7-50\",\n",
    "    20: \"R7-51\",\n",
    "    21: \"R7-55\",\n",
    "    22: \"R7-56\",\n",
    "    23: \"R7-57\",\n",
    "    24: \"R7-59\",\n",
    "    25: \"R7-61\",\n",
    "    26: \"R7-65\",\n",
    "    27: \"R7-66\",\n",
    "    28: \"R7-68\",\n",
    "    29: \"R7-69\",\n",
    "    30: \"R7-70\",\n",
    "    31: \"R7-88\",\n",
    "    32: \"R7-100\",\n",
    "    33: \"R7-101\",\n",
    "    34: \"R7-110\",\n",
    "    35: \"R7-125\",\n",
    "    36: \"R7-128\",\n",
    "    37: \"R7-182\",\n",
    "    38: \"truck-loading-only\",\n",
    "    39: \"authorized-vehicle-only\"\n",
    "  }"
   ]
  },
  {
   "cell_type": "code",
   "execution_count": 93,
   "metadata": {},
   "outputs": [],
   "source": [
    "def show_dist(txt_filenames):\n",
    "    distinct_label_list = list()\n",
    "    for name in txt_filenames:\n",
    "        # File path\n",
    "        file_path = os.path.join(folder, name) \n",
    "\n",
    "        # Read, modify, and overwrite the file\n",
    "        with open(file_path, \"r\") as infile:\n",
    "            lines4outfile = []\n",
    "            for line in infile:\n",
    "                parts = line.strip().split()  # Split the line into parts\n",
    "                if parts:  # Ensure the line is not empty\n",
    "                    #print(parts[0], mutcd_dict[int(parts[0])])\n",
    "                    distinct_label_list.append(str(mutcd_dict[int(parts[0])]))\n",
    "    print(distinct_label_list[0:5])\n",
    "    print()\n",
    "\n",
    "\n",
    "    # List with repeated elements\n",
    "    # Count frequencies\n",
    "    frequency_count = Counter(distinct_label_list)\n",
    "    frequency_count = pd.DataFrame(list(frequency_count.items()),\n",
    "                     columns=[\"Class\", \"Frequency\"])\n",
    "    frequency_count = frequency_count.sort_values(by='Frequency', ascending=False)\n",
    "    print(frequency_count)\n",
    "    print()\n",
    "\n",
    "\n",
    "    # Create the bar plot with Seaborn\n",
    "    plt.figure(figsize=(12, 6))\n",
    "    ax = sns.barplot(data=frequency_count, x='Class', y='Frequency')\n",
    "\n",
    "    # Add annotations to the bars\n",
    "    ax.bar_label(ax.containers[0], fontsize=10, label_type='edge')\n",
    "\n",
    "    # Customize the plot\n",
    "    ax.set_title('Frequency of Each Class (Sorted in Descending Order)', fontsize=16)\n",
    "    ax.set_xlabel('Class', fontsize=12)\n",
    "    ax.set_ylabel('Frequency', fontsize=12)\n",
    "    ax.tick_params(axis='x', rotation=90)  # Rotate x-axis labels for better readability\n",
    "    plt.tight_layout()\n",
    "\n",
    "    # Show the plot\n",
    "    plt.show()"
   ]
  },
  {
   "cell_type": "code",
   "execution_count": 94,
   "metadata": {},
   "outputs": [
    {
     "name": "stdout",
     "output_type": "stream",
     "text": [
      "['R7-20', 'R7-45', 'R7-20', 'R7-61', 'R7-61']\n",
      "\n",
      "                      Class  Frequency\n",
      "0                     R7-20        251\n",
      "2                     R7-61        193\n",
      "6                     R7-40        127\n",
      "4                     R7-88        111\n",
      "1                     R7-45         77\n",
      "7                    R7-128         64\n",
      "3                     R7-30         52\n",
      "12                     R7-1         43\n",
      "5                     R7-44         34\n",
      "19                    R7-32         26\n",
      "13                    R7-57         24\n",
      "11                    R7-28         21\n",
      "16                    R7-24         21\n",
      "15                    R7-51         18\n",
      "17                    R7-22         15\n",
      "10                    R7-43         14\n",
      "24                    R7-49         12\n",
      "20                    R7-42          9\n",
      "21                    R7-27          8\n",
      "14                    R7-70          5\n",
      "18                   R7-125          4\n",
      "9        truck-loading-only          3\n",
      "22                    R7-50          3\n",
      "23                    R7-31          3\n",
      "8                     R7-21          2\n",
      "25  authorized-vehicle-only          1\n",
      "\n"
     ]
    },
    {
     "data": {
      "image/png": "[encoded data removed]",
      "text/plain": [
       "<Figure size 1200x600 with 1 Axes>"
      ]
     },
     "metadata": {},
     "output_type": "display_data"
    }
   ],
   "source": [
    "folder = os.path.join(base_dir, \"labels\") \n",
    "txt_filenames = [f for f in os.listdir(folder) if (f.endswith('.txt') and not f.startswith('._'))]\n",
    "show_dist(txt_filenames)"
   ]
  },
  {
   "cell_type": "code",
   "execution_count": 95,
   "metadata": {},
   "outputs": [
    {
     "data": {
      "text/plain": [
       "'truck-loading-only'"
      ]
     },
     "execution_count": 95,
     "metadata": {},
     "output_type": "execute_result"
    }
   ],
   "source": [
    "mutcd_dict[38]"
   ]
  },
  {
   "cell_type": "code",
   "execution_count": 96,
   "metadata": {},
   "outputs": [
    {
     "data": {
      "text/plain": [
       "'authorized-vehicle-only'"
      ]
     },
     "execution_count": 96,
     "metadata": {},
     "output_type": "execute_result"
    }
   ],
   "source": [
    "mutcd_dict[39]"
   ]
  },
  {
   "cell_type": "code",
   "execution_count": 97,
   "metadata": {},
   "outputs": [
    {
     "name": "stdout",
     "output_type": "stream",
     "text": [
      "signid_111-mutcd_R7-1-location_40.845706811,-73.900197364-heading_78.71\n",
      "truck-loading-only\n",
      "signid_1794-mutcd_R7-20-location_40.619799115,-73.908635382-heading_86.161\n",
      "truck-loading-only\n",
      "signid_110-mutcd_R7-1-location_40.84595762,-73.900058327-heading_79.965\n",
      "truck-loading-only\n",
      "signid_115-mutcd_R7-1-location_40.84440326,-73.90092819-heading_78.152\n",
      "authorized-vehicle-only\n"
     ]
    },
    {
     "data": {
      "text/plain": [
       "['signid_111-mutcd_R7-1-location_40.845706811,-73.900197364-heading_78.71',\n",
       " 'signid_1794-mutcd_R7-20-location_40.619799115,-73.908635382-heading_86.161',\n",
       " 'signid_110-mutcd_R7-1-location_40.84595762,-73.900058327-heading_79.965',\n",
       " 'signid_115-mutcd_R7-1-location_40.84440326,-73.90092819-heading_78.152']"
      ]
     },
     "execution_count": 97,
     "metadata": {},
     "output_type": "execute_result"
    }
   ],
   "source": [
    "base_dir = \"../../cvat_export/cvat_0129\"\n",
    "label_folder = os.path.join(base_dir, \"labels\")\n",
    "\n",
    "txt_filenames = [f for f in os.listdir(label_folder) if (f.endswith('.txt') and not f.startswith('._'))]\n",
    "\n",
    "signs_to_delete = []\n",
    "\n",
    "for name in txt_filenames:\n",
    "    # File path\n",
    "    file_path = os.path.join(label_folder, name) \n",
    "\n",
    "    # Read, modify, and overwrite the file\n",
    "    with open(file_path, \"r\") as infile:\n",
    "        lines4outfile = []\n",
    "        for line in infile:\n",
    "            parts = line.strip().split()  # Split the line into parts\n",
    "            if parts:  # Ensure the line is not empty\n",
    "                if str(parts[0]) == \"38\" or str(parts[0]) == \"39\":\n",
    "                    file_path = file_path.split(\"/\")[-1].split(\".t\")[0]\n",
    "                    print(file_path)\n",
    "                    print(mutcd_dict[int(parts[0])])\n",
    "                    signs_to_delete.append(file_path)\n",
    "signs_to_delete"
   ]
  },
  {
   "cell_type": "code",
   "execution_count": 98,
   "metadata": {},
   "outputs": [
    {
     "name": "stdout",
     "output_type": "stream",
     "text": [
      "Removed: ../../cvat_export/cvat_0129/images/signid_1794-mutcd_R7-20-location_40.619799115,-73.908635382-heading_86.161.jpg\n",
      "Removed: ../../cvat_export/cvat_0129/images/signid_115-mutcd_R7-1-location_40.84440326,-73.90092819-heading_78.152.jpg\n",
      "Removed: ../../cvat_export/cvat_0129/images/signid_110-mutcd_R7-1-location_40.84595762,-73.900058327-heading_79.965.jpg\n",
      "Removed: ../../cvat_export/cvat_0129/images/signid_111-mutcd_R7-1-location_40.845706811,-73.900197364-heading_78.71.jpg\n",
      "Removed: ../../cvat_export/cvat_0129/labels/signid_111-mutcd_R7-1-location_40.845706811,-73.900197364-heading_78.71.txt\n",
      "Removed: ../../cvat_export/cvat_0129/labels/signid_1794-mutcd_R7-20-location_40.619799115,-73.908635382-heading_86.161.txt\n",
      "Removed: ../../cvat_export/cvat_0129/labels/signid_110-mutcd_R7-1-location_40.84595762,-73.900058327-heading_79.965.txt\n",
      "Removed: ../../cvat_export/cvat_0129/labels/signid_115-mutcd_R7-1-location_40.84440326,-73.90092819-heading_78.152.txt\n"
     ]
    }
   ],
   "source": [
    "base_dir = \"../../cvat_export/cvat_0129\"\n",
    "\n",
    "folder = os.path.join(base_dir, \"images\")\n",
    "filenames = [f for f in os.listdir(folder) if (f.endswith('.jpg') and not f.startswith('._'))]\n",
    "\n",
    "for name in filenames:\n",
    "    # File path\n",
    "    file_path = os.path.join(folder, name) \n",
    "\n",
    "    if file_path.split(\"/\")[-1].split(\".j\")[0] in signs_to_delete:\n",
    "        try:\n",
    "            os.remove(file_path)\n",
    "            print(f\"Removed: {file_path}\")\n",
    "        except Exception as e:\n",
    "            print(f\"Error removing {file_path}: {e}\")\n",
    "            \n",
    "folder = os.path.join(base_dir, \"labels\")\n",
    "filenames = [f for f in os.listdir(folder) if (f.endswith('.txt') and not f.startswith('._'))]\n",
    "\n",
    "for name in filenames:\n",
    "    # File path\n",
    "    file_path = os.path.join(folder, name) \n",
    "\n",
    "    if file_path.split(\"/\")[-1].split(\".t\")[0] in signs_to_delete:\n",
    "        try:\n",
    "            os.remove(file_path)\n",
    "            print(f\"Removed: {file_path}\")\n",
    "        except Exception as e:\n",
    "            print(f\"Error removing {file_path}: {e}\")"
   ]
  },
  {
   "cell_type": "code",
   "execution_count": 99,
   "metadata": {},
   "outputs": [
    {
     "name": "stdout",
     "output_type": "stream",
     "text": [
      "1300\n",
      "1300\n",
      "True\n"
     ]
    }
   ],
   "source": [
    "base_dir = \"../../cvat_export/cvat_0129\"\n",
    "\n",
    "folder_path = os.path.join(base_dir, \"images\")\n",
    "filenames_img = [f for f in os.listdir(folder_path) if os.path.isfile(os.path.join(folder_path, f)) & f.endswith((\".jpg\", \".png\"))]\n",
    "print(len(filenames_img))\n",
    "filenames_img = sorted(filenames_img)\n",
    "filenames_img = [f.split(\".j\")[0] for f in filenames_img]\n",
    "\n",
    "folder_path = os.path.join(base_dir, \"labels\")\n",
    "filenames_lbl = [f for f in os.listdir(folder_path) if os.path.isfile(os.path.join(folder_path, f)) & f.endswith((\".txt\"))]\n",
    "print(len(filenames_lbl))\n",
    "filenames_lbl = sorted(filenames_lbl)\n",
    "filenames_lbl = [f.split(\".t\")[0] for f in filenames_lbl]\n",
    "\n",
    "print(filenames_img == filenames_lbl)"
   ]
  },
  {
   "cell_type": "markdown",
   "metadata": {},
   "source": [
    "# Split"
   ]
  },
  {
   "cell_type": "code",
   "execution_count": 100,
   "metadata": {},
   "outputs": [],
   "source": [
    "base_dir = \"../../cvat_export/cvat_0129\""
   ]
  },
  {
   "cell_type": "code",
   "execution_count": 101,
   "metadata": {},
   "outputs": [],
   "source": [
    "# Folder to clean up\n",
    "folder_path = os.path.join(base_dir, \"images\")  \n",
    "# Traverse the directory\n",
    "for root, dirs, files in os.walk(folder_path):\n",
    "    for file in files:\n",
    "        if file.startswith('._'):\n",
    "            file_path = os.path.join(root, file)\n",
    "            try:\n",
    "                os.remove(file_path)\n",
    "                #print(f\"Removed: {file_path}\")\n",
    "            except Exception as e:\n",
    "                print(f\"Error removing {file_path}: {e}\")\n",
    "\n",
    "# Folder to clean up\n",
    "folder_path = os.path.join(base_dir, \"labels\")\n",
    "# Traverse the directory\n",
    "for root, dirs, files in os.walk(folder_path):\n",
    "    for file in files:\n",
    "        if file.startswith('._'):\n",
    "            file_path = os.path.join(root, file)\n",
    "            try:\n",
    "                os.remove(file_path)\n",
    "                #print(f\"Removed: {file_path}\")\n",
    "            except Exception as e:\n",
    "                print(f\"Error removing {file_path}: {e}\")"
   ]
  },
  {
   "cell_type": "code",
   "execution_count": 102,
   "metadata": {},
   "outputs": [
    {
     "name": "stdout",
     "output_type": "stream",
     "text": [
      "1300\n",
      "1300\n",
      "True\n"
     ]
    }
   ],
   "source": [
    "folder_path = os.path.join(base_dir, \"images\")  \n",
    "filenames_img = [f for f in os.listdir(folder_path) if os.path.isfile(os.path.join(folder_path, f)) & f.endswith((\".jpg\", \".png\"))]\n",
    "filenames_img = sorted(filenames_img)\n",
    "print(len(filenames_img))\n",
    "filenames_img = [f.split(\".j\")[0] for f in filenames_img]\n",
    "\n",
    "folder_path = os.path.join(base_dir, \"labels\")  \n",
    "filenames_lbl = [f for f in os.listdir(folder_path) if os.path.isfile(os.path.join(folder_path, f)) & f.endswith((\".txt\"))]\n",
    "filenames_lbl = sorted(filenames_lbl)\n",
    "print(len(filenames_lbl))\n",
    "filenames_lbl = [f.split(\".t\")[0] for f in filenames_lbl]\n",
    "\n",
    "print(filenames_img == filenames_lbl)"
   ]
  },
  {
   "cell_type": "code",
   "execution_count": 104,
   "metadata": {},
   "outputs": [
    {
     "name": "stdout",
     "output_type": "stream",
     "text": [
      "1300\n",
      "1040\n",
      "['signid_2999-mutcd_R7-40-location_40.596900885,-73.779395422-heading_275.54', 'signid_68-mutcd_R7-1-location_40.567921935,-73.863276888-heading_213.646', 'signid_10588-mutcd_R7-61-location_40.713255687,-73.903990592-heading_166.816', 'signid_2166-mutcd_R7-20-location_40.593290707,-73.771891222-heading_89.152', 'signid_2793-mutcd_R7-32-location_40.763062935,-73.753063584-heading_120.777']\n",
      "130\n",
      "['signid_9725-mutcd_R7-45-location_40.746220494,-73.803392508-heading_125.329', 'signid_1483-mutcd_R7-20-location_40.713809511,-73.796625661-heading_163.698', 'signid_2530-mutcd_R7-30-location_40.723691777,-73.798188149-heading_286.894', 'signid_173-mutcd_R7-1-location_40.697965731,-73.973527371-heading_324.815', 'signid_7491-mutcd_R7-40-location_40.634145436,-74.118432298-heading_203.26']\n",
      "130\n",
      "['signid_2035-mutcd_R7-20-location_40.725402994,-73.906150584-heading_239.652', 'signid_2725-mutcd_R7-32-location_40.761682316,-73.760117235-heading_191.893', 'signid_10482-mutcd_R7-61-location_40.75280895,-73.877290363-heading_171.164', 'signid_3150-mutcd_R7-40-location_40.608918846,-73.758788507-heading_316.278', 'signid_10032-mutcd_R7-57-location_40.714463382,-73.783083533-heading_285.521']\n"
     ]
    }
   ],
   "source": [
    "folder_path = os.path.join(base_dir, \"images\")  \n",
    "\n",
    "filenames_img = [f for f in os.listdir(folder_path) if os.path.isfile(os.path.join(folder_path, f)) & f.endswith((\".jpg\", \".png\"))]\n",
    "filenames_img = sorted(filenames_img)\n",
    "print(len(filenames_img))\n",
    "\n",
    "filenames_img = [f for f in os.listdir(folder_path) if not f.startswith('._')]\n",
    "filenames_img = [f.split(\".j\")[0] for f in filenames_img]\n",
    "\n",
    "random.seed(0)\n",
    "random.shuffle(filenames_img)\n",
    "\n",
    "# Calculate the split index\n",
    "split_0 = int(len(filenames_img) * 0.8)\n",
    "split_1 = int(len(filenames_img) * 0.9)\n",
    "\n",
    "# Split into training and testing sets\n",
    "train_ids = filenames_img[:split_0]\n",
    "val_ids = filenames_img[split_0:split_1]\n",
    "test_ids = filenames_img[split_1:]\n",
    "print(len(train_ids))\n",
    "print(train_ids[0:5])\n",
    "print(len(val_ids))\n",
    "print(val_ids[0:5])\n",
    "print(len(test_ids))\n",
    "print(test_ids[0:5])"
   ]
  },
  {
   "cell_type": "markdown",
   "metadata": {},
   "source": [
    "## distribution of train set candi "
   ]
  },
  {
   "cell_type": "code",
   "execution_count": 105,
   "metadata": {},
   "outputs": [],
   "source": [
    "base_dir = \"../../cvat_export/cvat_0129\""
   ]
  },
  {
   "cell_type": "code",
   "execution_count": 106,
   "metadata": {},
   "outputs": [
    {
     "name": "stdout",
     "output_type": "stream",
     "text": [
      "1300\n",
      "1040\n"
     ]
    },
    {
     "data": {
      "text/plain": [
       "['signid_100-mutcd_R7-1-location_40.849914685,-73.898255013-heading_139.414.txt',\n",
       " 'signid_1000-mutcd_R7-20-location_40.77764749,-73.893514257-heading_201.477.txt',\n",
       " 'signid_10000-mutcd_R7-51-location_40.712987445,-73.907559555-heading_222.59.txt',\n",
       " 'signid_10000-mutcd_R7-51-location_40.712991965,-73.907642327-heading_147.066.txt',\n",
       " 'signid_10001-mutcd_R7-51-location_40.712980208,-73.907427025-heading_221.412.txt']"
      ]
     },
     "execution_count": 106,
     "metadata": {},
     "output_type": "execute_result"
    }
   ],
   "source": [
    "folder = os.path.join(base_dir, \"labels\")  \n",
    "filenames_lbl = [f for f in os.listdir(folder) if os.path.isfile(os.path.join(folder, f)) & f.endswith((\".txt\"))]\n",
    "filenames_lbl = sorted(filenames_lbl)\n",
    "print(len(filenames_lbl))\n",
    "filenames_lbl = [f for f in filenames_lbl if f.split(\".t\")[0] in train_ids] # important: train_ids\n",
    "print(len(filenames_lbl))\n",
    "filenames_lbl[0:5]"
   ]
  },
  {
   "cell_type": "code",
   "execution_count": 107,
   "metadata": {},
   "outputs": [
    {
     "name": "stdout",
     "output_type": "stream",
     "text": [
      "['R7-1', 'R7-51', 'R7-51', 'R7-51', 'R7-51']\n",
      "\n",
      "     Class  Frequency\n",
      "3    R7-20        206\n",
      "4    R7-61        156\n",
      "5    R7-40        105\n",
      "12   R7-88         92\n",
      "7    R7-45         61\n",
      "9   R7-128         50\n",
      "10   R7-30         39\n",
      "0     R7-1         33\n",
      "16   R7-44         28\n",
      "2    R7-57         18\n",
      "15   R7-28         18\n",
      "20   R7-24         18\n",
      "23   R7-32         16\n",
      "1    R7-51         14\n",
      "14   R7-43         13\n",
      "19   R7-22         12\n",
      "13   R7-49         10\n",
      "8    R7-42          7\n",
      "21   R7-27          7\n",
      "6   R7-125          3\n",
      "11   R7-50          3\n",
      "17   R7-70          3\n",
      "18   R7-21          2\n",
      "22   R7-31          2\n",
      "\n"
     ]
    },
    {
     "data": {
      "image/png": "[encoded data removed]",
      "text/plain": [
       "<Figure size 1200x600 with 1 Axes>"
      ]
     },
     "metadata": {},
     "output_type": "display_data"
    }
   ],
   "source": [
    "show_dist(filenames_lbl)"
   ]
  },
  {
   "cell_type": "markdown",
   "metadata": {},
   "source": [
    "## distribution of val set candi "
   ]
  },
  {
   "cell_type": "code",
   "execution_count": 108,
   "metadata": {},
   "outputs": [
    {
     "name": "stdout",
     "output_type": "stream",
     "text": [
      "1300\n",
      "130\n"
     ]
    },
    {
     "data": {
      "text/plain": [
       "['signid_10001-mutcd_R7-51-location_40.712984702,-73.907509318-heading_147.248.txt',\n",
       " 'signid_10014-mutcd_R7-57-location_40.787446302,-73.802344391-heading_243.701.txt',\n",
       " 'signid_10016-mutcd_R7-57-location_40.786596187,-73.802450538-heading_303.109.txt',\n",
       " 'signid_10031-mutcd_R7-57-location_40.714836106,-73.783239671-heading_219.816.txt',\n",
       " 'signid_10034-mutcd_R7-57-location_40.697539923,-73.898782216-heading_79.455.txt']"
      ]
     },
     "execution_count": 108,
     "metadata": {},
     "output_type": "execute_result"
    }
   ],
   "source": [
    "folder = os.path.join(base_dir, \"labels\")  \n",
    "filenames_lbl = [f for f in os.listdir(folder) if os.path.isfile(os.path.join(folder, f)) & f.endswith((\".txt\"))]\n",
    "filenames_lbl = sorted(filenames_lbl)\n",
    "print(len(filenames_lbl))\n",
    "filenames_lbl = [f for f in filenames_lbl if f.split(\".t\")[0] in val_ids] # important: val_ids\n",
    "print(len(filenames_lbl))\n",
    "filenames_lbl[0:5]"
   ]
  },
  {
   "cell_type": "code",
   "execution_count": 109,
   "metadata": {},
   "outputs": [
    {
     "name": "stdout",
     "output_type": "stream",
     "text": [
      "['R7-51', 'R7-57', 'R7-57', 'R7-61', 'R7-61']\n",
      "\n",
      "     Class  Frequency\n",
      "5    R7-20         23\n",
      "2    R7-61         13\n",
      "3    R7-40         11\n",
      "11   R7-88          9\n",
      "4   R7-128          8\n",
      "8    R7-45          7\n",
      "16   R7-30          6\n",
      "17   R7-32          5\n",
      "9     R7-1          5\n",
      "1    R7-57          4\n",
      "20   R7-44          3\n",
      "15   R7-28          2\n",
      "19   R7-42          2\n",
      "0    R7-51          2\n",
      "10   R7-70          2\n",
      "14   R7-27          1\n",
      "13   R7-24          1\n",
      "12   R7-22          1\n",
      "7    R7-43          1\n",
      "18  R7-125          1\n",
      "6    R7-49          1\n",
      "\n"
     ]
    },
    {
     "data": {
      "image/png": "[encoded data removed]",
      "text/plain": [
       "<Figure size 1200x600 with 1 Axes>"
      ]
     },
     "metadata": {},
     "output_type": "display_data"
    }
   ],
   "source": [
    "show_dist(filenames_lbl)"
   ]
  },
  {
   "cell_type": "markdown",
   "metadata": {},
   "source": [
    "## distribution of test set candi "
   ]
  },
  {
   "cell_type": "code",
   "execution_count": 110,
   "metadata": {},
   "outputs": [
    {
     "name": "stdout",
     "output_type": "stream",
     "text": [
      "1300\n",
      "130\n"
     ]
    },
    {
     "data": {
      "text/plain": [
       "['signid_100-mutcd_R7-1-location_40.849854989,-73.89828847-heading_81.499.txt',\n",
       " 'signid_10006-mutcd_R7-51-location_40.713302211,-73.912521961-heading_154.039.txt',\n",
       " 'signid_10012-mutcd_R7-51-location_40.712799174,-73.903201796-heading_148.716.txt',\n",
       " 'signid_10024-mutcd_R7-57-location_40.787430138,-73.802346482-heading_125.974.txt',\n",
       " 'signid_10032-mutcd_R7-57-location_40.714463382,-73.783083533-heading_285.521.txt']"
      ]
     },
     "execution_count": 110,
     "metadata": {},
     "output_type": "execute_result"
    }
   ],
   "source": [
    "folder = os.path.join(base_dir, \"labels\")  \n",
    "filenames_lbl = [f for f in os.listdir(folder) if os.path.isfile(os.path.join(folder, f)) & f.endswith((\".txt\"))]\n",
    "filenames_lbl = sorted(filenames_lbl)\n",
    "print(len(filenames_lbl))\n",
    "filenames_lbl = [f for f in filenames_lbl if f.split(\".t\")[0] in test_ids] # important: val_ids\n",
    "print(len(filenames_lbl))\n",
    "filenames_lbl[0:5]"
   ]
  },
  {
   "cell_type": "code",
   "execution_count": 111,
   "metadata": {},
   "outputs": [
    {
     "name": "stdout",
     "output_type": "stream",
     "text": [
      "['R7-1', 'R7-51', 'R7-51', 'R7-57', 'R7-57']\n",
      "\n",
      "     Class  Frequency\n",
      "3    R7-61         24\n",
      "4    R7-20         22\n",
      "5    R7-40         11\n",
      "8    R7-88         10\n",
      "15   R7-45          9\n",
      "12   R7-30          7\n",
      "6   R7-128          6\n",
      "13   R7-32          5\n",
      "0     R7-1          5\n",
      "14   R7-44          3\n",
      "9    R7-22          2\n",
      "10   R7-24          2\n",
      "1    R7-51          2\n",
      "2    R7-57          2\n",
      "11   R7-28          1\n",
      "7    R7-49          1\n",
      "16   R7-31          1\n",
      "\n"
     ]
    },
    {
     "data": {
      "image/png": "[encoded data removed]",
      "text/plain": [
       "<Figure size 1200x600 with 1 Axes>"
      ]
     },
     "metadata": {},
     "output_type": "display_data"
    }
   ],
   "source": [
    "show_dist(filenames_lbl)"
   ]
  },
  {
   "cell_type": "markdown",
   "metadata": {},
   "source": [
    "## split"
   ]
  },
  {
   "cell_type": "code",
   "execution_count": 112,
   "metadata": {},
   "outputs": [
    {
     "name": "stdout",
     "output_type": "stream",
     "text": [
      "Folder: ., Number of files: 0\n",
      "Folder: train, Number of files: 1040\n",
      "Folder: test, Number of files: 130\n",
      "Folder: val, Number of files: 130\n"
     ]
    }
   ],
   "source": [
    "# List of filenames to filter\n",
    "# Define source and target folders\n",
    "source_folder = os.path.join(base_dir, \"images\")  \n",
    "target_folders = [os.path.join(source_folder, \"train\"), \n",
    "                  os.path.join(source_folder, \"val\"),\n",
    "                  os.path.join(source_folder, \"test\")]\n",
    "expander = \".jpg\"\n",
    "sets = [train_ids, val_ids, test_ids]\n",
    "\n",
    "for i in range(3):\n",
    "    set_i = sets[i]\n",
    "    target_folder_i = target_folders[i]\n",
    "    \n",
    "    set_i = [f + expander for f in set_i]\n",
    "\n",
    "    # Create target folder if it does not exist\n",
    "    os.makedirs(target_folder_i, exist_ok=True)\n",
    "\n",
    "    # Loop through each filename in the list and move it if it exists\n",
    "    for f in set_i:\n",
    "        source_file = os.path.join(source_folder, f)\n",
    "        target_file = os.path.join(target_folder_i, f)\n",
    "    \n",
    "        # Check if the file exists in the source folder\n",
    "        if os.path.isfile(source_file):\n",
    "            shutil.move(source_file, target_file)\n",
    "            #print(f\"Copied: {filename}\")\n",
    "        #else:\n",
    "            #print(f\"File not found: {filename}\")\n",
    "\n",
    "# Path to the directory\n",
    "root_dir = source_folder\n",
    "\n",
    "# Traverse the directory recursively\n",
    "for root, dirs, files in os.walk(root_dir):\n",
    "    num_files = len(files)  # Count files in the current folder\n",
    "    folder_name = os.path.relpath(root, root_dir)  # Relative folder path\n",
    "    print(f\"Folder: {folder_name}, Number of files: {num_files}\")"
   ]
  },
  {
   "cell_type": "code",
   "execution_count": 117,
   "metadata": {},
   "outputs": [
    {
     "name": "stdout",
     "output_type": "stream",
     "text": [
      "Folder: ., Number of files: 0\n",
      "Folder: train, Number of files: 1040\n",
      "Folder: test, Number of files: 130\n",
      "Folder: val, Number of files: 130\n"
     ]
    }
   ],
   "source": [
    "# List of filenames to filter\n",
    "# Define source and target folders\n",
    "source_folder = os.path.join(base_dir, \"labels\")  \n",
    "target_folders = [os.path.join(source_folder, \"train\"), \n",
    "                  os.path.join(source_folder, \"val\"),\n",
    "                  os.path.join(source_folder, \"test\")]\n",
    "expander = \".txt\"\n",
    "sets = [train_ids, val_ids, test_ids]\n",
    "\n",
    "for i in range(3):\n",
    "    set_i = sets[i]\n",
    "    target_folder_i = target_folders[i]\n",
    "    \n",
    "    set_i = [f + expander for f in set_i]\n",
    "\n",
    "    # Create target folder if it does not exist\n",
    "    os.makedirs(target_folder_i, exist_ok=True)\n",
    "\n",
    "    # Loop through each filename in the list and move it if it exists\n",
    "    for f in set_i:\n",
    "        source_file = os.path.join(source_folder, f)\n",
    "        target_file = os.path.join(target_folder_i, f)\n",
    "    \n",
    "        # Check if the file exists in the source folder\n",
    "        if os.path.isfile(source_file):\n",
    "            shutil.move(source_file, target_file)\n",
    "            #print(f\"Copied: {filename}\")\n",
    "        #else:\n",
    "            #print(f\"File not found: {filename}\")\n",
    "\n",
    "# Path to the directory\n",
    "root_dir = source_folder\n",
    "\n",
    "# Traverse the directory recursively\n",
    "for root, dirs, files in os.walk(root_dir):\n",
    "    num_files = len(files)  # Count files in the current folder\n",
    "    folder_name = os.path.relpath(root, root_dir)  # Relative folder path\n",
    "    print(f\"Folder: {folder_name}, Number of files: {num_files}\")"
   ]
  },
  {
   "cell_type": "markdown",
   "metadata": {},
   "source": [
    "# Prep for NC-1 model"
   ]
  },
  {
   "cell_type": "code",
   "execution_count": 116,
   "metadata": {},
   "outputs": [
    {
     "data": {
      "text/plain": [
       "'../../cvat_export/cvat_0129'"
      ]
     },
     "execution_count": 116,
     "metadata": {},
     "output_type": "execute_result"
    }
   ],
   "source": [
    "base_dir"
   ]
  },
  {
   "cell_type": "code",
   "execution_count": 118,
   "metadata": {},
   "outputs": [
    {
     "name": "stdout",
     "output_type": "stream",
     "text": [
      "Copied folder from '../../cvat_export/cvat_0129/labels' to '../../cvat_export/cvat_0129/labels_nc_1'.\n"
     ]
    }
   ],
   "source": [
    "# Define the current folder paths and the target folder\n",
    "current_folder = os.path.join(base_dir, \"labels\") \n",
    "target_folder = current_folder + \"_nc_1\"\n",
    "\n",
    "shutil.copytree(current_folder, target_folder)\n",
    "print(f\"Copied folder from '{current_folder}' to '{target_folder}'.\")"
   ]
  },
  {
   "cell_type": "code",
   "execution_count": 121,
   "metadata": {},
   "outputs": [],
   "source": [
    "current_folder = os.path.join(base_dir, \"labels\") \n",
    "target_folder = current_folder + \"_nc_1\"\n",
    "\n",
    "label_folders = [os.path.join(target_folder, \"train\"), \n",
    "                 os.path.join(target_folder, \"val\"),\n",
    "                 os.path.join(target_folder, \"test\")]\n",
    "\n",
    "for label_folder in label_folders:\n",
    "    txt_filenames = [f for f in os.listdir(label_folder) if (f.endswith('.txt') and not f.startswith('._'))]\n",
    "\n",
    "    for name in txt_filenames:\n",
    "        # File path\n",
    "        file_path = os.path.join(label_folder, name) \n",
    "        \n",
    "        # Read, modify, and overwrite the file\n",
    "        with open(file_path, \"r\") as infile:\n",
    "            lines4outfile = []\n",
    "            for line in infile:\n",
    "                if line: \n",
    "                    parts = line.strip().split()  # Split the line into parts\n",
    "                    if len(parts) > 0:  # Ensure the line is not empty\n",
    "                        parts[0] = \"0\"  # Change the first part (ID) to 0\n",
    "                        lines4outfile.append(\" \".join(parts))  # Rejoin the line\n",
    "            # Save the modified content back to the same file\n",
    "            with open(file_path, \"w\") as outfile:\n",
    "                lines4outfile = \"\\n\".join(lines4outfile)\n",
    "                outfile.write(lines4outfile.rstrip(\"\\n\"))"
   ]
  },
  {
   "cell_type": "code",
   "execution_count": 122,
   "metadata": {},
   "outputs": [
    {
     "name": "stdout",
     "output_type": "stream",
     "text": [
      "1th: ../../cvat_export/cvat_0129/labels_nc_1/train/signid_2219-mutcd_R7-20-location_40.641770605,-74.089723674-heading_21.868.txt\n",
      "0 0.888320 0.403406 0.018828 0.044437\n",
      "2th: ../../cvat_export/cvat_0129/labels_nc_1/train/signid_12131-mutcd_R7-61-location_40.655445968,-73.828435197-heading_196.128.txt\n",
      "0 0.957555 0.306086 0.084891 0.065641\n",
      "\n",
      "next group following: \n",
      "1th: ../../cvat_export/cvat_0129/labels_nc_1/val/signid_2504-mutcd_R7-30-location_40.759283253,-73.799037963-heading_49.834.txt\n",
      "\n",
      "2th: ../../cvat_export/cvat_0129/labels_nc_1/val/signid_132-mutcd_R7-1-location_40.877985205,-73.885208504-heading_70.532.txt\n",
      "0 0.825906 0.300078 0.053688 0.063906\n",
      "\n",
      "next group following: \n",
      "1th: ../../cvat_export/cvat_0129/labels_nc_1/test/signid_10183-mutcd_R7-61-location_40.735720994,-73.850798215-heading_306.768.txt\n",
      "0 0.532422 0.441375 0.050469 0.081625\n",
      "2th: ../../cvat_export/cvat_0129/labels_nc_1/test/signid_10054-mutcd_R7-57-location_40.716971697,-73.784439171-heading_283.533.txt\n",
      "\n",
      "\n",
      "next group following: \n"
     ]
    }
   ],
   "source": [
    "current_folder = os.path.join(base_dir, \"labels\") \n",
    "target_folder = current_folder + \"_nc_1\"\n",
    "\n",
    "label_folders = [os.path.join(target_folder, \"train\"), \n",
    "                 os.path.join(target_folder, \"val\"),\n",
    "                 os.path.join(target_folder, \"test\")]\n",
    "\n",
    "for label_folder in label_folders:\n",
    "    txt_filenames = [f for f in os.listdir(label_folder) if (f.endswith('.txt') and not f.startswith('._'))]\n",
    "\n",
    "    for i, name in enumerate(txt_filenames[:2]):\n",
    "        # File path\n",
    "        file_path = os.path.join(label_folder, name) \n",
    "        print(f\"{i+1}th: {file_path}\")\n",
    "        # Read, modify, and overwrite the file\n",
    "        with open(file_path, \"r\") as file:\n",
    "            data = file.read()\n",
    "            print(data)\n",
    "    print(\"\\nnext group following: \")"
   ]
  },
  {
   "cell_type": "markdown",
   "metadata": {},
   "source": [
    "# Prep for NC-5 model"
   ]
  },
  {
   "cell_type": "code",
   "execution_count": 130,
   "metadata": {},
   "outputs": [
    {
     "name": "stdout",
     "output_type": "stream",
     "text": [
      "Copied folder from '../../cvat_export/cvat_0129/labels' to '../../cvat_export/cvat_0129/labels_nc_5'.\n"
     ]
    }
   ],
   "source": [
    "# Define the current folder paths and the target folder\n",
    "current_folder = os.path.join(base_dir, \"labels\") \n",
    "target_folder = current_folder + \"_nc_5\"\n",
    "\n",
    "shutil.copytree(current_folder, target_folder)\n",
    "print(f\"Copied folder from '{current_folder}' to '{target_folder}'.\")"
   ]
  },
  {
   "cell_type": "code",
   "execution_count": 144,
   "metadata": {},
   "outputs": [],
   "source": [
    "# List of all 40 classes\n",
    "classes = [\n",
    "    \"empty-so-disregard\",\n",
    "    \"R7-1\",\n",
    "    \"R7-20\",\n",
    "    \"R7-21\",\n",
    "    \"R7-22\",\n",
    "    \"R7-24\",\n",
    "    \"R7-27\",\n",
    "    \"R7-28\",\n",
    "    \"R7-30\",\n",
    "    \"R7-31\",\n",
    "    \"R7-32\",\n",
    "    \"R7-34\",\n",
    "    \"R7-40\",\n",
    "    \"R7-41\",\n",
    "    \"R7-42\",\n",
    "    \"R7-43\",\n",
    "    \"R7-44\",\n",
    "    \"R7-45\",\n",
    "    \"R7-49\",\n",
    "    \"R7-50\",\n",
    "    \"R7-51\",\n",
    "    \"R7-55\",\n",
    "    \"R7-56\",\n",
    "    \"R7-57\",\n",
    "    \"R7-59\",\n",
    "    \"R7-61\",\n",
    "    \"R7-65\",\n",
    "    \"R7-66\",\n",
    "    \"R7-68\",\n",
    "    \"R7-69\",\n",
    "    \"R7-70\",\n",
    "    \"R7-88\",\n",
    "    \"R7-100\",\n",
    "    \"R7-101\",\n",
    "    \"R7-110\",\n",
    "    \"R7-125\",\n",
    "    \"R7-128\",\n",
    "    \"R7-182\",\n",
    "    \"truck-loading-only\",\n",
    "    \"authorized-vehicle-only\"\n",
    "]"
   ]
  },
  {
   "cell_type": "code",
   "execution_count": 132,
   "metadata": {
    "jupyter": {
     "source_hidden": true
    }
   },
   "outputs": [],
   "source": [
    "# Set of permissive classes\n",
    "prohibAnytime = {\"R7-1\",\n",
    "                \"R7-20\",\n",
    "                \"R7-40\",\n",
    "                'R7-65', # NO PARKING LOADING ZONE \n",
    "                'R7-66', # NO PARKING PASSENGER LOADING ZONE \n",
    "                'R7-68', # NO PARKING ANYTIME CONSTRUCTION \n",
    "                \"R7-110\"} # TOW AWAY ZONE \n",
    "prohibSometimes = {\n",
    "    # HalfDay\n",
    "             \"R7-24\",\n",
    "             \"R7-27\",\n",
    "             \"R7-28\",\n",
    "             \"R7-30\",\n",
    "             \"R7-31\",\n",
    "             \"R7-32\",\n",
    "             \"R7-34\", # NO STANDING 1-7PM EXCEPT SUNDAY\n",
    "            \"R7-49\",\n",
    "            \"R7-50\",\n",
    "            \"R7-51\",\n",
    "            \"R7-55\",\n",
    "            \"R7-56\",\n",
    "            \"R7-57\",\n",
    "            \"R7-59\",  # NO PARKING 7-10AM MON THRU FRI\n",
    "    # FullDay\n",
    "             \"R7-21\",\n",
    "             \"R7-22\",\n",
    "             \"R7-41\", # NO PARKING 8AM-MIDNIGHT EXCEPT SUNDAY\n",
    "             \"R7-42\",\n",
    "             \"R7-43\",\n",
    "             \"R7-44\",\n",
    "             \"R7-45\",\n",
    "             \"R7-69\", # NO PARKING 7AM-6PM MON THRU FRI CONSTRUCTION\n",
    "             \"R7-70\"} # NO PARKING 7AM-4PM SCHOOL DAYS\n",
    "prohibForBusStop = {\"R7-61\"}\n",
    "prohibForCleaning = {\"R7-88\"}\n",
    "allow = {\"R7-125\", \n",
    "         \"R7-128\",\n",
    "         \"R7-182\", # 2 HOUR PARKING 9AM-7PM EXCEPT SUNDAY\n",
    "         \"R7-100\", # PARALLEL PARKING ONLY \n",
    "         \"R7-101\"  # ANGLE PARKING ONLY \n",
    "        }"
   ]
  },
  {
   "cell_type": "code",
   "execution_count": 133,
   "metadata": {},
   "outputs": [],
   "source": [
    "# Mapping function with refactored logic\n",
    "def map_to_category(class_name):\n",
    "    # Define category mappings\n",
    "    category_mapping = {\n",
    "        \"prohibAnytime\": prohibAnytime,\n",
    "        \"prohibSometimes\": prohibSometimes,\n",
    "        \"prohibForBusStop\": prohibForBusStop,\n",
    "        \"prohibForCleaning\": prohibForCleaning,\n",
    "        \"allow\": allow\n",
    "    }\n",
    "\n",
    "    # Check the class_name against each category\n",
    "    for category, class_set in category_mapping.items():\n",
    "        if class_name in class_set:\n",
    "            return category\n",
    "\n",
    "    # Default return if no match is found\n",
    "    return \"unknown\""
   ]
  },
  {
   "cell_type": "code",
   "execution_count": 134,
   "metadata": {},
   "outputs": [
    {
     "data": {
      "text/plain": [
       "{'empty-so-disregard': 'unknown',\n",
       " 'R7-1': 'prohibAnytime',\n",
       " 'R7-20': 'prohibAnytime',\n",
       " 'R7-21': 'prohibSometimes',\n",
       " 'R7-22': 'prohibSometimes',\n",
       " 'R7-24': 'prohibSometimes',\n",
       " 'R7-27': 'prohibSometimes',\n",
       " 'R7-28': 'prohibSometimes',\n",
       " 'R7-30': 'prohibSometimes',\n",
       " 'R7-31': 'prohibSometimes',\n",
       " 'R7-32': 'prohibSometimes',\n",
       " 'R7-34': 'prohibSometimes',\n",
       " 'R7-40': 'prohibAnytime',\n",
       " 'R7-41': 'prohibSometimes',\n",
       " 'R7-42': 'prohibSometimes',\n",
       " 'R7-43': 'prohibSometimes',\n",
       " 'R7-44': 'prohibSometimes',\n",
       " 'R7-45': 'prohibSometimes',\n",
       " 'R7-49': 'prohibSometimes',\n",
       " 'R7-50': 'prohibSometimes',\n",
       " 'R7-51': 'prohibSometimes',\n",
       " 'R7-55': 'prohibSometimes',\n",
       " 'R7-56': 'prohibSometimes',\n",
       " 'R7-57': 'prohibSometimes',\n",
       " 'R7-59': 'prohibSometimes',\n",
       " 'R7-61': 'prohibForBusStop',\n",
       " 'R7-65': 'prohibAnytime',\n",
       " 'R7-66': 'prohibAnytime',\n",
       " 'R7-68': 'prohibAnytime',\n",
       " 'R7-69': 'prohibSometimes',\n",
       " 'R7-70': 'prohibSometimes',\n",
       " 'R7-88': 'prohibForCleaning',\n",
       " 'R7-100': 'allow',\n",
       " 'R7-101': 'allow',\n",
       " 'R7-110': 'prohibAnytime',\n",
       " 'R7-125': 'allow',\n",
       " 'R7-128': 'allow',\n",
       " 'R7-182': 'allow',\n",
       " 'truck-loading-only': 'unknown',\n",
       " 'authorized-vehicle-only': 'unknown'}"
      ]
     },
     "execution_count": 134,
     "metadata": {},
     "output_type": "execute_result"
    }
   ],
   "source": [
    "# Test the mapping function\n",
    "mapped_classes = {cls: map_to_category(cls) for cls in classes}\n",
    "\n",
    "# Print the mapping\n",
    "mapped_classes"
   ]
  },
  {
   "cell_type": "code",
   "execution_count": 151,
   "metadata": {},
   "outputs": [
    {
     "name": "stdout",
     "output_type": "stream",
     "text": [
      "{1, 2, 3, 4, 5, 6, 7, 8, 9, 10, 12, 14, 15, 16, 17, 18, 19, 20, 23, 25, 30, 31, 35, 36}\n"
     ]
    }
   ],
   "source": [
    "current_folder = os.path.join(base_dir, \"labels\") \n",
    "target_folder = current_folder + \"_nc_5\"\n",
    "\n",
    "label_folders = [os.path.join(target_folder, \"train\"), \n",
    "                 os.path.join(target_folder, \"val\")]\n",
    "\n",
    "distinct_indx = []\n",
    "\n",
    "for label_folder in label_folders:\n",
    "    txt_filenames = [f for f in os.listdir(label_folder) if (f.endswith('.txt') and not f.startswith('._'))]\n",
    "\n",
    "    for name in txt_filenames:\n",
    "        # File path\n",
    "        file_path = os.path.join(label_folder, name) \n",
    "        \n",
    "        # Read, modify, and overwrite the file\n",
    "        with open(file_path, \"r\") as infile:\n",
    "            for line in infile:\n",
    "                parts = line.strip().split()  # Split the line into parts\n",
    "                if parts:  # Ensure the line is not empty\n",
    "                    #print(parts[0], end=\",\")\n",
    "                    distinct_indx.append(int(parts[0]))\n",
    "distinct_indx = set(distinct_indx)\n",
    "print(distinct_indx)"
   ]
  },
  {
   "cell_type": "code",
   "execution_count": 128,
   "metadata": {},
   "outputs": [
    {
     "name": "stdout",
     "output_type": "stream",
     "text": [
      "R7-1\n",
      "prohibAnytime\n"
     ]
    }
   ],
   "source": [
    "mapped_classes_keys = list(mapped_classes.keys())\n",
    "#mapped_classes_keys\n",
    "print(mapped_classes_keys[1])\n",
    "print(mapped_classes[mapped_classes_keys[1]])"
   ]
  },
  {
   "cell_type": "code",
   "execution_count": 135,
   "metadata": {},
   "outputs": [],
   "source": [
    "current_folder = os.path.join(base_dir, \"labels\") \n",
    "target_folder = current_folder + \"_nc_5\"\n",
    "\n",
    "label_folders = [os.path.join(target_folder, \"train\"), \n",
    "                 os.path.join(target_folder, \"val\"), \n",
    "                 os.path.join(target_folder, \"test\")]\n",
    "\n",
    "classes =  {\"prohibAnytime\": 0,\n",
    "            \"prohibSometimes\": 1,\n",
    "            \"prohibForBusStop\": 2,\n",
    "            \"prohibForCleaning\": 3,\n",
    "            \"allow\": 4}\n",
    "\n",
    "for label_folder in label_folders:\n",
    "    txt_filenames = [f for f in os.listdir(label_folder) if (f.endswith('.txt') and not f.startswith('._'))]\n",
    "\n",
    "    for name in txt_filenames:\n",
    "        # File path\n",
    "        file_path = os.path.join(label_folder, name) \n",
    "        \n",
    "        # Read, modify, and overwrite the file\n",
    "        with open(file_path, \"r\") as infile:\n",
    "            lines4outfile = []\n",
    "            for line in infile:\n",
    "                parts = line.strip().split()  # Split the line into parts\n",
    "                if len(parts) > 0:  # Ensure the line is not empty\n",
    "                    parts[0] = mapped_classes[mapped_classes_keys[int(parts[0])]]   \n",
    "                    #print(parts[0])\n",
    "                    parts[0] = str(parts[0])\n",
    "                    if str(classes[parts[0]]) == \"unknown\":\n",
    "                        print(\"discard unknown instances\")\n",
    "                        print(str(classes[parts[0]]))\n",
    "                    else:\n",
    "                        parts[0] = str(classes[parts[0]])\n",
    "                        lines4outfile.append(\" \".join(parts))  # Rejoin the line\n",
    "\n",
    "        #print(lines4outfile)\n",
    "\n",
    "        # Save the modified content back to the same file\n",
    "        with open(file_path, \"w\") as outfile:\n",
    "            lines4outfile = \"\\n\".join(lines4outfile)\n",
    "            outfile.write(lines4outfile.rstrip(\"\\n\"))"
   ]
  },
  {
   "cell_type": "code",
   "execution_count": 136,
   "metadata": {},
   "outputs": [
    {
     "name": "stdout",
     "output_type": "stream",
     "text": [
      "1th: ../../cvat_export/cvat_0129/labels_nc_5/train/signid_2219-mutcd_R7-20-location_40.641770605,-74.089723674-heading_21.868.txt\n",
      "0 0.888320 0.403406 0.018828 0.044437\n",
      "2th: ../../cvat_export/cvat_0129/labels_nc_5/train/signid_12131-mutcd_R7-61-location_40.655445968,-73.828435197-heading_196.128.txt\n",
      "0 0.957555 0.306086 0.084891 0.065641\n",
      "\n",
      "next group following: \n",
      "1th: ../../cvat_export/cvat_0129/labels_nc_5/val/signid_2504-mutcd_R7-30-location_40.759283253,-73.799037963-heading_49.834.txt\n",
      "\n",
      "2th: ../../cvat_export/cvat_0129/labels_nc_5/val/signid_132-mutcd_R7-1-location_40.877985205,-73.885208504-heading_70.532.txt\n",
      "1 0.825906 0.300078 0.053688 0.063906\n",
      "\n",
      "next group following: \n",
      "1th: ../../cvat_export/cvat_0129/labels_nc_5/test/signid_10183-mutcd_R7-61-location_40.735720994,-73.850798215-heading_306.768.txt\n",
      "2 0.532422 0.441375 0.050469 0.081625\n",
      "2th: ../../cvat_export/cvat_0129/labels_nc_5/test/signid_10054-mutcd_R7-57-location_40.716971697,-73.784439171-heading_283.533.txt\n",
      "\n",
      "\n",
      "next group following: \n"
     ]
    }
   ],
   "source": [
    "current_folder = os.path.join(base_dir, \"labels\") \n",
    "target_folder = current_folder + \"_nc_5\"\n",
    "\n",
    "label_folders = [os.path.join(target_folder, \"train\"), \n",
    "                 os.path.join(target_folder, \"val\"), \n",
    "                 os.path.join(target_folder, \"test\")]\n",
    "\n",
    "for label_folder in label_folders:\n",
    "    txt_filenames = [f for f in os.listdir(label_folder) if (f.endswith('.txt') and not f.startswith('._'))]\n",
    "\n",
    "    for i, name in enumerate(txt_filenames[:2]):\n",
    "        # File path\n",
    "        file_path = os.path.join(label_folder, name) \n",
    "        print(f\"{i+1}th: {file_path}\")\n",
    "        # Read, modify, and overwrite the file\n",
    "        with open(file_path, \"r\") as file:\n",
    "            data = file.read()\n",
    "            print(data)\n",
    "    print(\"\\nnext group following: \")"
   ]
  },
  {
   "cell_type": "markdown",
   "metadata": {},
   "source": [
    "# Prep for NC-6 model"
   ]
  },
  {
   "cell_type": "code",
   "execution_count": 145,
   "metadata": {},
   "outputs": [
    {
     "name": "stdout",
     "output_type": "stream",
     "text": [
      "Copied folder from '../../cvat_export/cvat_0129/labels' to '../../cvat_export/cvat_0129/labels_nc_6'.\n"
     ]
    }
   ],
   "source": [
    "# Define the current folder paths and the target folder\n",
    "current_folder = os.path.join(base_dir, \"labels\") \n",
    "target_folder = current_folder + \"_nc_6\"\n",
    "\n",
    "shutil.copytree(current_folder, target_folder)\n",
    "print(f\"Copied folder from '{current_folder}' to '{target_folder}'.\")"
   ]
  },
  {
   "cell_type": "code",
   "execution_count": 146,
   "metadata": {},
   "outputs": [],
   "source": [
    "# Set of permissive classes\n",
    "prohibAnytime = {\"R7-1\",\n",
    "                \"R7-20\",\n",
    "                \"R7-40\",\n",
    "                'R7-65', # NO PARKING LOADING ZONE \n",
    "                'R7-66', # NO PARKING PASSENGER LOADING ZONE \n",
    "                'R7-68', # NO PARKING ANYTIME CONSTRUCTION \n",
    "                \"R7-110\"} # TOW AWAY ZONE \n",
    "prohibHalfDay = {\n",
    "             \"R7-24\",\n",
    "             \"R7-27\",\n",
    "             \"R7-28\",\n",
    "             \"R7-30\",\n",
    "             \"R7-31\",\n",
    "             \"R7-32\",\n",
    "             \"R7-34\", # NO STANDING 1-7PM EXCEPT SUNDAY\n",
    "            \"R7-49\",\n",
    "            \"R7-50\",\n",
    "            \"R7-51\",\n",
    "            \"R7-55\",\n",
    "            \"R7-56\",\n",
    "            \"R7-57\",\n",
    "            \"R7-59\"}  # NO PARKING 7-10AM MON THRU FRI\n",
    "prohibFullDay = {\n",
    "             \"R7-21\",\n",
    "             \"R7-22\",\n",
    "             \"R7-41\", # NO PARKING 8AM-MIDNIGHT EXCEPT SUNDAY\n",
    "             \"R7-42\",\n",
    "             \"R7-43\",\n",
    "             \"R7-44\",\n",
    "             \"R7-45\",\n",
    "             \"R7-69\", # NO PARKING 7AM-6PM MON THRU FRI CONSTRUCTION\n",
    "             \"R7-70\"} # NO PARKING 7AM-4PM SCHOOL DAYS\n",
    "prohibForBusStop = {\"R7-61\"}\n",
    "prohibForCleaning = {\"R7-88\"}\n",
    "allow = {\"R7-125\", \n",
    "         \"R7-128\",\n",
    "         \"R7-182\", # 2 HOUR PARKING 9AM-7PM EXCEPT SUNDAY\n",
    "         \"R7-100\", # PARALLEL PARKING ONLY \n",
    "         \"R7-101\"  # ANGLE PARKING ONLY \n",
    "        }"
   ]
  },
  {
   "cell_type": "code",
   "execution_count": 148,
   "metadata": {},
   "outputs": [],
   "source": [
    "# Mapping function with refactored logic\n",
    "def map_to_category(class_name):\n",
    "    # Define category mappings\n",
    "    category_mapping = {\n",
    "        \"prohibAnytime\": prohibAnytime,\n",
    "        \"prohibHalfDay\": prohibHalfDay,\n",
    "        \"prohibFullDay\": prohibFullDay,\n",
    "        \"prohibForBusStop\": prohibForBusStop,\n",
    "        \"prohibForCleaning\": prohibForCleaning,\n",
    "        \"allow\": allow\n",
    "    }\n",
    "\n",
    "    # Check the class_name against each category\n",
    "    for category, class_set in category_mapping.items():\n",
    "        if class_name in class_set:\n",
    "            return category\n",
    "\n",
    "    # Default return if no match is found\n",
    "    return \"unknown\""
   ]
  },
  {
   "cell_type": "code",
   "execution_count": 149,
   "metadata": {},
   "outputs": [
    {
     "data": {
      "text/plain": [
       "{'empty-so-disregard': 'unknown',\n",
       " 'R7-1': 'prohibAnytime',\n",
       " 'R7-20': 'prohibAnytime',\n",
       " 'R7-21': 'prohibFullDay',\n",
       " 'R7-22': 'prohibFullDay',\n",
       " 'R7-24': 'prohibHalfDay',\n",
       " 'R7-27': 'prohibHalfDay',\n",
       " 'R7-28': 'prohibHalfDay',\n",
       " 'R7-30': 'prohibHalfDay',\n",
       " 'R7-31': 'prohibHalfDay',\n",
       " 'R7-32': 'prohibHalfDay',\n",
       " 'R7-34': 'prohibHalfDay',\n",
       " 'R7-40': 'prohibAnytime',\n",
       " 'R7-41': 'prohibFullDay',\n",
       " 'R7-42': 'prohibFullDay',\n",
       " 'R7-43': 'prohibFullDay',\n",
       " 'R7-44': 'prohibFullDay',\n",
       " 'R7-45': 'prohibFullDay',\n",
       " 'R7-49': 'prohibHalfDay',\n",
       " 'R7-50': 'prohibHalfDay',\n",
       " 'R7-51': 'prohibHalfDay',\n",
       " 'R7-55': 'prohibHalfDay',\n",
       " 'R7-56': 'prohibHalfDay',\n",
       " 'R7-57': 'prohibHalfDay',\n",
       " 'R7-59': 'prohibHalfDay',\n",
       " 'R7-61': 'prohibForBusStop',\n",
       " 'R7-65': 'prohibAnytime',\n",
       " 'R7-66': 'prohibAnytime',\n",
       " 'R7-68': 'prohibAnytime',\n",
       " 'R7-69': 'prohibFullDay',\n",
       " 'R7-70': 'prohibFullDay',\n",
       " 'R7-88': 'prohibForCleaning',\n",
       " 'R7-100': 'allow',\n",
       " 'R7-101': 'allow',\n",
       " 'R7-110': 'prohibAnytime',\n",
       " 'R7-125': 'allow',\n",
       " 'R7-128': 'allow',\n",
       " 'R7-182': 'allow',\n",
       " 'truck-loading-only': 'unknown',\n",
       " 'authorized-vehicle-only': 'unknown'}"
      ]
     },
     "execution_count": 149,
     "metadata": {},
     "output_type": "execute_result"
    }
   ],
   "source": [
    "# Test the mapping function\n",
    "mapped_classes = {cls: map_to_category(cls) for cls in classes}\n",
    "\n",
    "# Print the mapping\n",
    "mapped_classes"
   ]
  },
  {
   "cell_type": "code",
   "execution_count": 150,
   "metadata": {},
   "outputs": [
    {
     "name": "stdout",
     "output_type": "stream",
     "text": [
      "{1, 2, 3, 4, 5, 6, 7, 8, 9, 10, 12, 14, 15, 16, 17, 18, 19, 20, 23, 25, 30, 31, 35, 36}\n"
     ]
    }
   ],
   "source": [
    "current_folder = os.path.join(base_dir, \"labels\") \n",
    "target_folder = current_folder + \"_nc_6\"\n",
    "\n",
    "label_folders = [os.path.join(target_folder, \"train\"), \n",
    "                 os.path.join(target_folder, \"val\"), \n",
    "                 os.path.join(target_folder, \"test\")]\n",
    "\n",
    "distinct_indx = []\n",
    "\n",
    "for label_folder in label_folders:\n",
    "    txt_filenames = [f for f in os.listdir(label_folder) if (f.endswith('.txt') and not f.startswith('._'))]\n",
    "\n",
    "    for name in txt_filenames:\n",
    "        # File path\n",
    "        file_path = os.path.join(label_folder, name) \n",
    "        \n",
    "        # Read, modify, and overwrite the file\n",
    "        with open(file_path, \"r\") as infile:\n",
    "            for line in infile:\n",
    "                parts = line.strip().split()  # Split the line into parts\n",
    "                if parts:  # Ensure the line is not empty\n",
    "                    #print(parts[0], end=\",\")\n",
    "                    distinct_indx.append(int(parts[0]))\n",
    "distinct_indx = set(distinct_indx)\n",
    "print(distinct_indx)"
   ]
  },
  {
   "cell_type": "code",
   "execution_count": 151,
   "metadata": {},
   "outputs": [
    {
     "name": "stdout",
     "output_type": "stream",
     "text": [
      "R7-1\n",
      "prohibAnytime\n"
     ]
    }
   ],
   "source": [
    "mapped_classes_keys = list(mapped_classes.keys())\n",
    "#mapped_classes_keys\n",
    "print(mapped_classes_keys[1])\n",
    "print(mapped_classes[mapped_classes_keys[1]])"
   ]
  },
  {
   "cell_type": "code",
   "execution_count": 152,
   "metadata": {},
   "outputs": [],
   "source": [
    "current_folder = os.path.join(base_dir, \"labels\") \n",
    "target_folder = current_folder + \"_nc_6\"\n",
    "\n",
    "label_folders = [os.path.join(target_folder, \"train\"), \n",
    "                 os.path.join(target_folder, \"val\"), \n",
    "                 os.path.join(target_folder, \"test\")]\n",
    "\n",
    "classes =  {\n",
    "        \"prohibAnytime\": 0,\n",
    "        \"prohibHalfDay\": 1,\n",
    "        \"prohibFullDay\": 2,\n",
    "        \"prohibForBusStop\": 3,\n",
    "        \"prohibForCleaning\": 4,\n",
    "        \"allow\": 5}\n",
    "\n",
    "for label_folder in label_folders:\n",
    "    txt_filenames = [f for f in os.listdir(label_folder) if (f.endswith('.txt') and not f.startswith('._'))]\n",
    "\n",
    "    for name in txt_filenames:\n",
    "        # File path\n",
    "        file_path = os.path.join(label_folder, name) \n",
    "        \n",
    "        # Read, modify, and overwrite the file\n",
    "        with open(file_path, \"r\") as infile:\n",
    "            lines4outfile = []\n",
    "            for line in infile:\n",
    "                parts = line.strip().split()  # Split the line into parts\n",
    "                if len(parts) > 0:  # Ensure the line is not empty\n",
    "                    parts[0] = mapped_classes[mapped_classes_keys[int(parts[0])]]   \n",
    "                    #print(parts[0])\n",
    "                    parts[0] = str(parts[0])\n",
    "                    if str(classes[parts[0]]) == \"unknown\":\n",
    "                        print(\"discard unknown instances\")\n",
    "                        print(str(classes[parts[0]]))\n",
    "                    else:\n",
    "                        parts[0] = str(classes[parts[0]])\n",
    "                        lines4outfile.append(\" \".join(parts))  # Rejoin the line\n",
    "\n",
    "        #print(lines4outfile)\n",
    "\n",
    "        # Save the modified content back to the same file\n",
    "        with open(file_path, \"w\") as outfile:\n",
    "            lines4outfile = \"\\n\".join(lines4outfile)\n",
    "            outfile.write(lines4outfile.rstrip(\"\\n\"))"
   ]
  },
  {
   "cell_type": "code",
   "execution_count": 153,
   "metadata": {},
   "outputs": [
    {
     "name": "stdout",
     "output_type": "stream",
     "text": [
      "1th: ../../cvat_export/cvat_0129/labels_nc_6/train/signid_2219-mutcd_R7-20-location_40.641770605,-74.089723674-heading_21.868.txt\n",
      "0 0.888320 0.403406 0.018828 0.044437\n",
      "2th: ../../cvat_export/cvat_0129/labels_nc_6/train/signid_12131-mutcd_R7-61-location_40.655445968,-73.828435197-heading_196.128.txt\n",
      "0 0.957555 0.306086 0.084891 0.065641\n",
      "\n",
      "next group following: \n",
      "1th: ../../cvat_export/cvat_0129/labels_nc_6/val/signid_2504-mutcd_R7-30-location_40.759283253,-73.799037963-heading_49.834.txt\n",
      "\n",
      "2th: ../../cvat_export/cvat_0129/labels_nc_6/val/signid_132-mutcd_R7-1-location_40.877985205,-73.885208504-heading_70.532.txt\n",
      "2 0.825906 0.300078 0.053688 0.063906\n",
      "\n",
      "next group following: \n",
      "1th: ../../cvat_export/cvat_0129/labels_nc_6/test/signid_10183-mutcd_R7-61-location_40.735720994,-73.850798215-heading_306.768.txt\n",
      "3 0.532422 0.441375 0.050469 0.081625\n",
      "2th: ../../cvat_export/cvat_0129/labels_nc_6/test/signid_10054-mutcd_R7-57-location_40.716971697,-73.784439171-heading_283.533.txt\n",
      "\n",
      "\n",
      "next group following: \n"
     ]
    }
   ],
   "source": [
    "current_folder = os.path.join(base_dir, \"labels\") \n",
    "target_folder = current_folder + \"_nc_6\"\n",
    "\n",
    "label_folders = [os.path.join(target_folder, \"train\"), \n",
    "                 os.path.join(target_folder, \"val\"), \n",
    "                 os.path.join(target_folder, \"test\")]\n",
    "\n",
    "for label_folder in label_folders:\n",
    "    txt_filenames = [f for f in os.listdir(label_folder) if (f.endswith('.txt') and not f.startswith('._'))]\n",
    "\n",
    "    for i, name in enumerate(txt_filenames[:2]):\n",
    "        # File path\n",
    "        file_path = os.path.join(label_folder, name) \n",
    "        print(f\"{i+1}th: {file_path}\")\n",
    "        # Read, modify, and overwrite the file\n",
    "        with open(file_path, \"r\") as file:\n",
    "            data = file.read()\n",
    "            print(data)\n",
    "    print(\"\\nnext group following: \")"
   ]
  },
  {
   "cell_type": "markdown",
   "metadata": {},
   "source": [
    "# Manually handle data.yaml files"
   ]
  },
  {
   "cell_type": "markdown",
   "metadata": {},
   "source": [
    "## please don't skip this step"
   ]
  },
  {
   "cell_type": "code",
   "execution_count": null,
   "metadata": {},
   "outputs": [],
   "source": [
    "base_dir = '../../cvat_export'"
   ]
  },
  {
   "cell_type": "code",
   "execution_count": null,
   "metadata": {},
   "outputs": [],
   "source": [
    "# insert the following for all .yaml files\n",
    "# path: ../../cvat_export/cvat_0129_processed_unzipped"
   ]
  },
  {
   "cell_type": "markdown",
   "metadata": {},
   "source": [
    "# Zip the whole folder for reusability "
   ]
  },
  {
   "cell_type": "code",
   "execution_count": 154,
   "metadata": {},
   "outputs": [],
   "source": [
    "base_dir = '../../cvat_export'"
   ]
  },
  {
   "cell_type": "code",
   "execution_count": 155,
   "metadata": {},
   "outputs": [
    {
     "name": "stdout",
     "output_type": "stream",
     "text": [
      "Folder successfully zipped to ../../cvat_export/cvat_0129_processed.zip\n"
     ]
    }
   ],
   "source": [
    "# Path to the folder you want to zip\n",
    "folder_path = os.path.join(base_dir, \"cvat_0129\")\n",
    "\n",
    "# Output path for the zip file (without extension)\n",
    "output_path = os.path.join(base_dir, \"cvat_0129_processed\")\n",
    "\n",
    "# Create a zip archive\n",
    "shutil.make_archive(output_path, 'zip', folder_path)\n",
    "\n",
    "print(f\"Folder successfully zipped to {output_path}.zip\")"
   ]
  },
  {
   "cell_type": "code",
   "execution_count": null,
   "metadata": {},
   "outputs": [],
   "source": []
  }
 ],
 "metadata": {
  "kernelspec": {
   "display_name": "Python 3 (ipykernel)",
   "language": "python",
   "name": "python3"
  },
  "language_info": {
   "codemirror_mode": {
    "name": "ipython",
    "version": 3
   },
   "file_extension": ".py",
   "mimetype": "text/x-python",
   "name": "python",
   "nbconvert_exporter": "python",
   "pygments_lexer": "ipython3",
   "version": "3.10.12"
  }
 },
 "nbformat": 4,
 "nbformat_minor": 4
}
